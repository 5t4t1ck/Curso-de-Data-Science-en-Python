{
 "cells": [
  {
   "cell_type": "code",
   "execution_count": 5,
   "id": "cfb98bb2",
   "metadata": {},
   "outputs": [],
   "source": [
    "import pandas as pd\n",
    "import random"
   ]
  },
  {
   "cell_type": "code",
   "execution_count": 6,
   "id": "21334b54",
   "metadata": {},
   "outputs": [],
   "source": [
    "# Lista de provincias de Ecuador\n",
    "provincias = ['Azuay', 'Bolívar', 'Cañar', 'Carchi', 'Chimborazo', 'Cotopaxi', 'El Oro', 'Esmeraldas', 'Galápagos', 'Guayas', 'Imbabura', 'Loja', 'Los Ríos', 'Manabí', 'Morona Santiago', 'Napo', 'Orellana', 'Pastaza', 'Pichincha', 'Santa Elena', 'Santo Domingo de los Tsáchilas', 'Sucumbíos', 'Tungurahua', 'Zamora Chinchipe']"
   ]
  },
  {
   "cell_type": "code",
   "execution_count": 7,
   "id": "c73d2f00",
   "metadata": {},
   "outputs": [],
   "source": [
    "# Crear una lista de datos aleatorios para cada columna\n",
    "nombres = ['Juan', 'María', 'Pedro', 'Luisa', 'Miguel', 'Ana', 'Jorge', 'Isabel', 'Francisco', 'Carla']\n",
    "edades = [random.randint(18, 70) for _ in range(10)]\n",
    "provincias_random = [random.choice(provincias) for _ in range(10)]\n",
    "salarios = [random.uniform(500, 5000) for _ in range(10)]"
   ]
  },
  {
   "cell_type": "code",
   "execution_count": 8,
   "id": "fa0d21a5",
   "metadata": {},
   "outputs": [],
   "source": [
    "# Crear un diccionario con los datos y convertirlo en un DataFrame de Pandas\n",
    "datos = {'Nombre': nombres, 'Edad': edades, 'Provincia': provincias_random, 'Salario': salarios}\n",
    "df = pd.DataFrame(datos)"
   ]
  },
  {
   "cell_type": "code",
   "execution_count": 9,
   "id": "d742d138",
   "metadata": {},
   "outputs": [],
   "source": [
    "# Guardar el DataFrame en un archivo CSV\n",
    "df.to_csv('datos1.csv', index=False)"
   ]
  },
  {
   "cell_type": "code",
   "execution_count": 10,
   "id": "52bdedc1",
   "metadata": {},
   "outputs": [
    {
     "name": "stdout",
     "output_type": "stream",
     "text": [
      "      Nombre  Edad         Provincia      Salario\n",
      "0       Juan    62        Chimborazo  4283.541316\n",
      "1      María    26         Galápagos  2114.388670\n",
      "2      Pedro    39         Pichincha  3472.741884\n",
      "3      Luisa    29  Zamora Chinchipe   888.279375\n",
      "4     Miguel    56          Los Ríos  4805.661329\n",
      "5        Ana    61            El Oro  1258.168980\n",
      "6      Jorge    60        Esmeraldas  1001.113840\n",
      "7     Isabel    51           Pastaza  2375.700690\n",
      "8  Francisco    39   Morona Santiago  1486.146219\n",
      "9      Carla    25            Carchi   501.278798\n"
     ]
    }
   ],
   "source": [
    "# Imprimir el DataFrame\n",
    "print(df)"
   ]
  },
  {
   "cell_type": "code",
   "execution_count": 11,
   "id": "8c27ffac",
   "metadata": {},
   "outputs": [],
   "source": [
    "# Cargar el archivo CSV en un DataFrame de Pandas\n",
    "df = pd.read_csv('datos1.csv')"
   ]
  },
  {
   "cell_type": "code",
   "execution_count": 12,
   "id": "10568f1c",
   "metadata": {},
   "outputs": [
    {
     "name": "stdout",
     "output_type": "stream",
     "text": [
      "   Nombre  Edad         Provincia      Salario\n",
      "0    Juan    62        Chimborazo  4283.541316\n",
      "1   María    26         Galápagos  2114.388670\n",
      "2   Pedro    39         Pichincha  3472.741884\n",
      "3   Luisa    29  Zamora Chinchipe   888.279375\n",
      "4  Miguel    56          Los Ríos  4805.661329\n"
     ]
    }
   ],
   "source": [
    "# Mostrar las primeras filas del DataFrame\n",
    "print(df.head())"
   ]
  },
  {
   "cell_type": "code",
   "execution_count": 13,
   "id": "698cd654",
   "metadata": {},
   "outputs": [
    {
     "name": "stdout",
     "output_type": "stream",
     "text": [
      "<class 'pandas.core.frame.DataFrame'>\n",
      "RangeIndex: 10 entries, 0 to 9\n",
      "Data columns (total 4 columns):\n",
      " #   Column     Non-Null Count  Dtype  \n",
      "---  ------     --------------  -----  \n",
      " 0   Nombre     10 non-null     object \n",
      " 1   Edad       10 non-null     int64  \n",
      " 2   Provincia  10 non-null     object \n",
      " 3   Salario    10 non-null     float64\n",
      "dtypes: float64(1), int64(1), object(2)\n",
      "memory usage: 452.0+ bytes\n",
      "None\n"
     ]
    }
   ],
   "source": [
    "# Mostrar información sobre el DataFrame\n",
    "print(df.info())"
   ]
  },
  {
   "cell_type": "code",
   "execution_count": 14,
   "id": "f9df4380",
   "metadata": {},
   "outputs": [
    {
     "name": "stdout",
     "output_type": "stream",
     "text": [
      "            Edad      Salario\n",
      "count  10.000000    10.000000\n",
      "mean   44.800000  2218.702110\n",
      "std    14.965145  1499.089178\n",
      "min    25.000000   501.278798\n",
      "25%    31.500000  1065.377625\n",
      "50%    45.000000  1800.267445\n",
      "75%    59.000000  3198.481586\n",
      "max    62.000000  4805.661329\n"
     ]
    }
   ],
   "source": [
    "# Realizar análisis preliminar de los datos\n",
    "print(df.describe())"
   ]
  },
  {
   "cell_type": "code",
   "execution_count": 15,
   "id": "53ef9013",
   "metadata": {},
   "outputs": [],
   "source": [
    "# Limpieza y preprocesamiento de datos\n",
    "df = df.dropna() # Eliminar filas con valores faltantes\n",
    "df = df.drop_duplicates() # Eliminar filas duplicadas"
   ]
  },
  {
   "cell_type": "code",
   "execution_count": 16,
   "id": "e1e2ff70",
   "metadata": {},
   "outputs": [
    {
     "name": "stderr",
     "output_type": "stream",
     "text": [
      "/tmp/ipykernel_70420/3040091019.py:3: FutureWarning: The default value of numeric_only in DataFrameGroupBy.mean is deprecated. In a future version, numeric_only will default to False. Either specify numeric_only or select only columns which should be valid for the function.\n",
      "  df_por_provincia = df.groupby('Provincia').mean() # Agrupar datos por provincia y calcular la media\n"
     ]
    }
   ],
   "source": [
    "# Transformación y agregación de datos\n",
    "df['Salario_anual'] = df['Salario'] * 12 # Agregar columna con salario anual\n",
    "df_por_provincia = df.groupby('Provincia').mean() # Agrupar datos por provincia y calcular la media"
   ]
  },
  {
   "cell_type": "code",
   "execution_count": 17,
   "id": "68454fcb",
   "metadata": {},
   "outputs": [],
   "source": [
    "# Combinación y unión de datos\n",
    "df2 = pd.DataFrame({'Provincia': ['Azuay', 'Bolívar', 'Cotopaxi'], 'Población': [1000000, 500000, 800000]})\n",
    "df_final = pd.merge(df_por_provincia, df2, on='Provincia') # Combinar datos de población por provincia"
   ]
  },
  {
   "cell_type": "code",
   "execution_count": 18,
   "id": "5dbb8700",
   "metadata": {},
   "outputs": [
    {
     "name": "stdout",
     "output_type": "stream",
     "text": [
      "  Provincia  Población\n",
      "0     Azuay    1000000\n",
      "1   Bolívar     500000\n",
      "2  Cotopaxi     800000\n",
      "Empty DataFrame\n",
      "Columns: [Provincia, Edad, Salario, Salario_anual, Población]\n",
      "Index: []\n"
     ]
    }
   ],
   "source": [
    "print(df2)\n",
    "print(df_final)"
   ]
  }
 ],
 "metadata": {
  "kernelspec": {
   "display_name": "Python 3 (ipykernel)",
   "language": "python",
   "name": "python3"
  },
  "language_info": {
   "codemirror_mode": {
    "name": "ipython",
    "version": 3
   },
   "file_extension": ".py",
   "mimetype": "text/x-python",
   "name": "python",
   "nbconvert_exporter": "python",
   "pygments_lexer": "ipython3",
   "version": "3.11.2"
  }
 },
 "nbformat": 4,
 "nbformat_minor": 5
}
