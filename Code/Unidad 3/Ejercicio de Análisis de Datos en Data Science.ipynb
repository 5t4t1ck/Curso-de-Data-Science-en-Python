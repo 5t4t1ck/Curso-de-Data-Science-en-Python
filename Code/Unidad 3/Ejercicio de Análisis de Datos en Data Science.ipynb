{
 "cells": [
  {
   "cell_type": "code",
   "execution_count": 38,
   "id": "4656e5be",
   "metadata": {},
   "outputs": [
    {
     "data": {
      "text/html": [
       "<div>\n",
       "<style scoped>\n",
       "    .dataframe tbody tr th:only-of-type {\n",
       "        vertical-align: middle;\n",
       "    }\n",
       "\n",
       "    .dataframe tbody tr th {\n",
       "        vertical-align: top;\n",
       "    }\n",
       "\n",
       "    .dataframe thead th {\n",
       "        text-align: right;\n",
       "    }\n",
       "</style>\n",
       "<table border=\"1\" class=\"dataframe\">\n",
       "  <thead>\n",
       "    <tr style=\"text-align: right;\">\n",
       "      <th></th>\n",
       "      <th>Provincia</th>\n",
       "      <th>Ciudad</th>\n",
       "      <th>Edad</th>\n",
       "      <th>Ingreso</th>\n",
       "      <th>Genero</th>\n",
       "    </tr>\n",
       "  </thead>\n",
       "  <tbody>\n",
       "    <tr>\n",
       "      <th>0</th>\n",
       "      <td>Los Rios</td>\n",
       "      <td>Loja</td>\n",
       "      <td>39</td>\n",
       "      <td>4747.327188</td>\n",
       "      <td>Masculino</td>\n",
       "    </tr>\n",
       "    <tr>\n",
       "      <th>1</th>\n",
       "      <td>Manabi</td>\n",
       "      <td>Zamora</td>\n",
       "      <td>19</td>\n",
       "      <td>2952.323734</td>\n",
       "      <td>Masculino</td>\n",
       "    </tr>\n",
       "    <tr>\n",
       "      <th>2</th>\n",
       "      <td>Chimborazo</td>\n",
       "      <td>Santa Elena</td>\n",
       "      <td>57</td>\n",
       "      <td>4604.464213</td>\n",
       "      <td>Masculino</td>\n",
       "    </tr>\n",
       "    <tr>\n",
       "      <th>3</th>\n",
       "      <td>Bolivar</td>\n",
       "      <td>Santa Elena</td>\n",
       "      <td>65</td>\n",
       "      <td>3712.333082</td>\n",
       "      <td>Femenino</td>\n",
       "    </tr>\n",
       "    <tr>\n",
       "      <th>4</th>\n",
       "      <td>Napo</td>\n",
       "      <td>Loja</td>\n",
       "      <td>60</td>\n",
       "      <td>2214.344243</td>\n",
       "      <td>Otro</td>\n",
       "    </tr>\n",
       "  </tbody>\n",
       "</table>\n",
       "</div>"
      ],
      "text/plain": [
       "    Provincia       Ciudad  Edad      Ingreso     Genero\n",
       "0    Los Rios         Loja    39  4747.327188  Masculino\n",
       "1      Manabi       Zamora    19  2952.323734  Masculino\n",
       "2  Chimborazo  Santa Elena    57  4604.464213  Masculino\n",
       "3     Bolivar  Santa Elena    65  3712.333082   Femenino\n",
       "4        Napo         Loja    60  2214.344243       Otro"
      ]
     },
     "execution_count": 38,
     "metadata": {},
     "output_type": "execute_result"
    }
   ],
   "source": [
    "import pandas as pd\n",
    "\n",
    "datos = {\n",
    "    'Provincia': ['Los Rios', 'Manabi', 'Chimborazo', 'Bolivar', 'Napo'],\n",
    "    'Ciudad': ['Loja', 'Zamora', 'Santa Elena', 'Santa Elena', 'Loja'],\n",
    "    'Edad': [39, 19, 57, 65, 60],\n",
    "    'Ingreso': [4747.327188, 2952.323734, 4604.464213, 3712.333082, 2214.344243],\n",
    "    'Genero': ['Masculino', 'Masculino', 'Masculino', 'Femenino', 'Otro']\n",
    "}\n",
    "\n",
    "df = pd.DataFrame(datos)\n",
    "\n",
    "df.to_csv('datos2.csv', index=False)\n",
    "df.head()"
   ]
  },
  {
   "cell_type": "code",
   "execution_count": 39,
   "id": "812fa292",
   "metadata": {},
   "outputs": [
    {
     "data": {
      "text/html": [
       "<div>\n",
       "<style scoped>\n",
       "    .dataframe tbody tr th:only-of-type {\n",
       "        vertical-align: middle;\n",
       "    }\n",
       "\n",
       "    .dataframe tbody tr th {\n",
       "        vertical-align: top;\n",
       "    }\n",
       "\n",
       "    .dataframe thead th {\n",
       "        text-align: right;\n",
       "    }\n",
       "</style>\n",
       "<table border=\"1\" class=\"dataframe\">\n",
       "  <thead>\n",
       "    <tr style=\"text-align: right;\">\n",
       "      <th></th>\n",
       "      <th>Provincia</th>\n",
       "      <th>Ciudad</th>\n",
       "      <th>Edad</th>\n",
       "      <th>Ingreso</th>\n",
       "      <th>Genero</th>\n",
       "    </tr>\n",
       "  </thead>\n",
       "  <tbody>\n",
       "    <tr>\n",
       "      <th>0</th>\n",
       "      <td>Azuay</td>\n",
       "      <td>Cuenca</td>\n",
       "      <td>63</td>\n",
       "      <td>4926.486320</td>\n",
       "      <td>Masculino</td>\n",
       "    </tr>\n",
       "    <tr>\n",
       "      <th>1</th>\n",
       "      <td>Guayas</td>\n",
       "      <td>Guayaquil</td>\n",
       "      <td>20</td>\n",
       "      <td>6814.032774</td>\n",
       "      <td>Femenino</td>\n",
       "    </tr>\n",
       "    <tr>\n",
       "      <th>2</th>\n",
       "      <td>Pichincha</td>\n",
       "      <td>Quito</td>\n",
       "      <td>46</td>\n",
       "      <td>4558.002389</td>\n",
       "      <td>Masculino</td>\n",
       "    </tr>\n",
       "    <tr>\n",
       "      <th>3</th>\n",
       "      <td>Manabi</td>\n",
       "      <td>Portoviejo</td>\n",
       "      <td>52</td>\n",
       "      <td>6389.511423</td>\n",
       "      <td>Femenino</td>\n",
       "    </tr>\n",
       "    <tr>\n",
       "      <th>4</th>\n",
       "      <td>Esmeraldas</td>\n",
       "      <td>Esmeraldas</td>\n",
       "      <td>56</td>\n",
       "      <td>3922.534666</td>\n",
       "      <td>Otro</td>\n",
       "    </tr>\n",
       "  </tbody>\n",
       "</table>\n",
       "</div>"
      ],
      "text/plain": [
       "    Provincia      Ciudad  Edad      Ingreso     Genero\n",
       "0       Azuay      Cuenca    63  4926.486320  Masculino\n",
       "1      Guayas   Guayaquil    20  6814.032774   Femenino\n",
       "2   Pichincha       Quito    46  4558.002389  Masculino\n",
       "3      Manabi  Portoviejo    52  6389.511423   Femenino\n",
       "4  Esmeraldas  Esmeraldas    56  3922.534666       Otro"
      ]
     },
     "execution_count": 39,
     "metadata": {},
     "output_type": "execute_result"
    }
   ],
   "source": [
    "import pandas as pd\n",
    "import numpy as np\n",
    "\n",
    "# Generar datos aleatorios\n",
    "np.random.seed(123)\n",
    "n = 5\n",
    "provincias = ['Azuay', 'Guayas', 'Pichincha', 'Manabi', 'Esmeraldas']\n",
    "ciudades = ['Cuenca', 'Guayaquil', 'Quito', 'Portoviejo', 'Esmeraldas']\n",
    "edades = np.random.randint(18, 80, n)\n",
    "ingresos = np.random.normal(loc=5000, scale=1000, size=n)\n",
    "generos = ['Masculino', 'Femenino', 'Masculino', 'Femenino', 'Otro']\n",
    "\n",
    "# Crear DataFrame y guardar como CSV\n",
    "datos = {\n",
    "    'Provincia': provincias,\n",
    "    'Ciudad': ciudades,\n",
    "    'Edad': edades,\n",
    "    'Ingreso': ingresos,\n",
    "    'Genero': generos\n",
    "}\n",
    "df = pd.DataFrame(datos)\n",
    "df.to_csv('datos3.csv', index=False)\n",
    "df.head()"
   ]
  },
  {
   "cell_type": "code",
   "execution_count": 40,
   "id": "d8bfe0bc",
   "metadata": {},
   "outputs": [],
   "source": [
    "import pandas as pd\n",
    "\n",
    "# Carga y lectura de datos con Pandas\n",
    "datos2 = pd.read_csv('datos2.csv')\n",
    "datos3 = pd.read_csv('datos3.csv')\n"
   ]
  },
  {
   "cell_type": "code",
   "execution_count": 41,
   "id": "b152c210",
   "metadata": {},
   "outputs": [
    {
     "data": {
      "text/plain": [
       "Masculino    3\n",
       "Femenino     1\n",
       "Otro         1\n",
       "Name: Genero, dtype: int64"
      ]
     },
     "execution_count": 41,
     "metadata": {},
     "output_type": "execute_result"
    }
   ],
   "source": [
    "# Conteo de valores únicos en la columna \"Genero\" para datos2\n",
    "datos2[\"Genero\"].value_counts()\n"
   ]
  },
  {
   "cell_type": "code",
   "execution_count": 42,
   "id": "89243a61",
   "metadata": {},
   "outputs": [
    {
     "data": {
      "text/plain": [
       "Masculino    2\n",
       "Femenino     2\n",
       "Otro         1\n",
       "Name: Genero, dtype: int64"
      ]
     },
     "execution_count": 42,
     "metadata": {},
     "output_type": "execute_result"
    }
   ],
   "source": [
    "# Conteo de valores únicos en la columna \"Genero\" para datos3\n",
    "datos3[\"Genero\"].value_counts()\n"
   ]
  },
  {
   "cell_type": "code",
   "execution_count": 43,
   "id": "466a6aff",
   "metadata": {},
   "outputs": [],
   "source": [
    "# Combinación y unión de datos\n",
    "datos = pd.concat([datos2, datos3])\n"
   ]
  },
  {
   "cell_type": "code",
   "execution_count": 44,
   "id": "380f5b9f",
   "metadata": {},
   "outputs": [
    {
     "data": {
      "text/plain": [
       "Provincia    0\n",
       "Ciudad       0\n",
       "Edad         0\n",
       "Ingreso      0\n",
       "Genero       0\n",
       "dtype: int64"
      ]
     },
     "execution_count": 44,
     "metadata": {},
     "output_type": "execute_result"
    }
   ],
   "source": [
    "# Verificar si hay valores nulos\n",
    "datos.isnull().sum()\n"
   ]
  },
  {
   "cell_type": "code",
   "execution_count": 45,
   "id": "1dc03a11",
   "metadata": {},
   "outputs": [
    {
     "name": "stdout",
     "output_type": "stream",
     "text": [
      "Provincia\n",
      "Azuay         4926.486320\n",
      "Bolivar       3712.333082\n",
      "Chimborazo    4604.464213\n",
      "Esmeraldas    3922.534666\n",
      "Guayas        6814.032774\n",
      "Los Rios      4747.327188\n",
      "Manabi        4670.917579\n",
      "Napo          2214.344243\n",
      "Pichincha     4558.002389\n",
      "Name: Ingreso, dtype: float64\n"
     ]
    }
   ],
   "source": [
    "media_por_provincia = datos.groupby('Provincia')['Ingreso'].mean()\n",
    "print(media_por_provincia)\n"
   ]
  },
  {
   "cell_type": "code",
   "execution_count": 46,
   "id": "ae8745d1",
   "metadata": {},
   "outputs": [],
   "source": [
    "datos = pd.merge(datos2, datos3, how='outer')"
   ]
  },
  {
   "cell_type": "code",
   "execution_count": 47,
   "id": "c13cf712",
   "metadata": {},
   "outputs": [
    {
     "name": "stdout",
     "output_type": "stream",
     "text": [
      "Ciudad\n",
      "Cuenca         4926.486320\n",
      "Esmeraldas     3922.534666\n",
      "Guayaquil      6814.032774\n",
      "Loja           6961.671431\n",
      "Portoviejo     6389.511423\n",
      "Quito          4558.002389\n",
      "Santa Elena    8316.797295\n",
      "Zamora         2952.323734\n",
      "Name: Ingreso, dtype: float64\n"
     ]
    }
   ],
   "source": [
    "suma_por_ciudad = datos.groupby('Ciudad')['Ingreso'].sum()\n",
    "print(suma_por_ciudad)"
   ]
  }
 ],
 "metadata": {
  "kernelspec": {
   "display_name": "Python 3 (ipykernel)",
   "language": "python",
   "name": "python3"
  },
  "language_info": {
   "codemirror_mode": {
    "name": "ipython",
    "version": 3
   },
   "file_extension": ".py",
   "mimetype": "text/x-python",
   "name": "python",
   "nbconvert_exporter": "python",
   "pygments_lexer": "ipython3",
   "version": "3.11.2"
  }
 },
 "nbformat": 4,
 "nbformat_minor": 5
}
