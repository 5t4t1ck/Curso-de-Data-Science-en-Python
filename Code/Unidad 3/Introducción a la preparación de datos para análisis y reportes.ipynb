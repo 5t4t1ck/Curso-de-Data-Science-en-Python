{
 "cells": [
  {
   "cell_type": "markdown",
   "id": "b2cab8d6",
   "metadata": {},
   "source": [
    "Para trabajar con el archivo datos.xlsx en un jupyter notebook, es necesario utilizar algunas herramientas y técnicas de data wrangling y munging. Estas herramientas se utilizan para manipular y transformar los datos de forma que puedan ser analizados y reportados de manera efectiva.\n",
    "\n",
    "**Data wrangling** se refiere al proceso de limpiar, transformar y combinar datos de diferentes fuentes para poder analizarlos. La limpieza de datos implica eliminar valores atípicos, valores faltantes y errores de formato. La transformación de datos implica cambiar la estructura de los datos, como la combinación de columnas o la agregación de filas. La combinación de datos implica combinar datos de diferentes fuentes para formar una sola fuente de datos.\n",
    "\n",
    "**Data munging** se refiere a la preparación de datos para el análisis. Incluye la limpieza de datos, la transformación de datos y la combinación de datos.\n",
    "\n",
    "Importancia de la preparación de datos en el análisis y reporte\n",
    "\n",
    "La preparación de datos es esencial para el análisis y reporte de datos. Los datos mal preparados pueden conducir a resultados inexactos y a conclusiones erróneas. La limpieza de datos asegura que los datos sean precisos y completos. La transformación de datos permite analizar los datos de manera efectiva, mientras que la combinación de datos permite una vista completa de los datos.\n",
    "\n",
    "Ejemplo:"
   ]
  },
  {
   "cell_type": "code",
   "execution_count": 1,
   "id": "787be0d5",
   "metadata": {},
   "outputs": [],
   "source": [
    "# Importar librerías necesarias\n",
    "import pandas as pd"
   ]
  },
  {
   "cell_type": "code",
   "execution_count": 2,
   "id": "6e949aa6",
   "metadata": {},
   "outputs": [],
   "source": [
    "# Leer el archivo datos.xlsx\n",
    "df = pd.read_excel(\"datos.xlsx\")"
   ]
  },
  {
   "cell_type": "code",
   "execution_count": 3,
   "id": "ba734326",
   "metadata": {},
   "outputs": [],
   "source": [
    "# Limpiar los datos eliminando las filas con valores faltantes\n",
    "df = df.dropna()"
   ]
  },
  {
   "cell_type": "code",
   "execution_count": 4,
   "id": "3100cb45",
   "metadata": {},
   "outputs": [],
   "source": [
    "# Transformar la columna FECHA a formato de fecha\n",
    "df['FECHA'] = pd.to_datetime(df['FECHA'], format='%Y-%m-%d')"
   ]
  },
  {
   "cell_type": "code",
   "execution_count": 5,
   "id": "07a2f98a",
   "metadata": {},
   "outputs": [],
   "source": [
    "# Agregar una columna MES_ANIO que contenga la concatenación de MES y ANIO\n",
    "df['MES_ANIO'] = df['MES'].astype(str) + '-' + df['ANIO'].astype(str)"
   ]
  },
  {
   "cell_type": "code",
   "execution_count": 6,
   "id": "70d0de91",
   "metadata": {},
   "outputs": [],
   "source": [
    "# Agregar una columna VENTA_BRUTA que contenga la suma de VENTA_NETA y MARGEN\n",
    "df['VENTA_BRUTA'] = df['VENTA_NETA'] + df['MARGEN']"
   ]
  },
  {
   "cell_type": "code",
   "execution_count": 7,
   "id": "47fa223a",
   "metadata": {},
   "outputs": [],
   "source": [
    "# Eliminar las columnas ANIO, MES, VENTA_NETA y MARGEN\n",
    "df = df.drop(columns=['ANIO', 'MES', 'VENTA_NETA', 'MARGEN'])"
   ]
  },
  {
   "cell_type": "code",
   "execution_count": 8,
   "id": "3c096d1c",
   "metadata": {},
   "outputs": [],
   "source": [
    "# Guardar los datos limpios y transformados en un nuevo archivo datos_limpios.xlsx\n",
    "df.to_excel(\"datos_limpios.xlsx\", index=False)"
   ]
  },
  {
   "cell_type": "markdown",
   "id": "790b8413",
   "metadata": {},
   "source": [
    "Este código limpia y transforma los datos del archivo datos.xlsx eliminando filas con valores faltantes, transformando la columna FECHA a formato de fecha, agregando una columna MES_ANIO, agregando una columna VENTA_BRUTA y eliminando las columnas ANIO, MES, VENTA_NETA y MARGEN. Finalmente, guarda los datos limpios y transformados en un nuevo archivo llamado datos_limpios.xlsx."
   ]
  }
 ],
 "metadata": {
  "kernelspec": {
   "display_name": "Python 3 (ipykernel)",
   "language": "python",
   "name": "python3"
  },
  "language_info": {
   "codemirror_mode": {
    "name": "ipython",
    "version": 3
   },
   "file_extension": ".py",
   "mimetype": "text/x-python",
   "name": "python",
   "nbconvert_exporter": "python",
   "pygments_lexer": "ipython3",
   "version": "3.11.2"
  }
 },
 "nbformat": 4,
 "nbformat_minor": 5
}
