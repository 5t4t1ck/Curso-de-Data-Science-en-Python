{
 "cells": [
  {
   "cell_type": "markdown",
   "id": "d30da67a",
   "metadata": {},
   "source": [
    "Instalar Pandas en caso de que no tenga instalada la biblioteca Pandas en su sistema, puede instalarla utilizando el siguiente comando en su terminal o entorno de Python:"
   ]
  },
  {
   "cell_type": "code",
   "execution_count": 79,
   "id": "fef83cb4",
   "metadata": {},
   "outputs": [
    {
     "name": "stdout",
     "output_type": "stream",
     "text": [
      "Defaulting to user installation because normal site-packages is not writeable\n",
      "Requirement already satisfied: pandas in /home/statick/.local/lib/python3.11/site-packages (1.5.3)\n",
      "Requirement already satisfied: python-dateutil>=2.8.1 in /usr/lib/python3.11/site-packages (from pandas) (2.8.2)\n",
      "Requirement already satisfied: pytz>=2020.1 in /home/statick/.local/lib/python3.11/site-packages (from pandas) (2023.2)\n",
      "Requirement already satisfied: numpy>=1.21.0 in /home/statick/.local/lib/python3.11/site-packages (from pandas) (1.24.2)\n",
      "Requirement already satisfied: six>=1.5 in /usr/lib/python3.11/site-packages (from python-dateutil>=2.8.1->pandas) (1.16.0)\n"
     ]
    }
   ],
   "source": [
    "!pip install pandas"
   ]
  },
  {
   "cell_type": "markdown",
   "id": "f91b3880",
   "metadata": {},
   "source": [
    "Importar Pandas y cargar el archivo de Excel\n",
    "Primero, debemos importar la biblioteca Pandas y cargar el archivo de Excel en un objeto de marco de datos. Puede hacerlo con el siguiente código:"
   ]
  },
  {
   "cell_type": "code",
   "execution_count": 80,
   "id": "f6e01c56",
   "metadata": {},
   "outputs": [],
   "source": [
    "import pandas as pd\n",
    "\n",
    "# Cargar archivo Excel en un DataFrame de Pandas\n",
    "df = pd.read_excel(\"datos.xlsx\")\n"
   ]
  },
  {
   "cell_type": "markdown",
   "id": "2e84ad7a",
   "metadata": {},
   "source": [
    "Explorar los datos\n",
    "Ahora, puede explorar los datos cargados en el objeto de marco de datos utilizando varias funciones de Pandas. Por ejemplo, puede imprimir las primeras filas de datos utilizando la función head():"
   ]
  },
  {
   "cell_type": "code",
   "execution_count": 81,
   "id": "f7a3709b",
   "metadata": {},
   "outputs": [
    {
     "name": "stdout",
     "output_type": "stream",
     "text": [
      "       FECHA  ANIO  MES  CODIGO CLIENTE CANAL  COD_ITEM  \\\n",
      "0 2021-10-08  2021   10         7767359   PDV     50785   \n",
      "1 2022-01-21  2022    1         8522244   PDV     30253   \n",
      "2 2021-12-30  2021   12         7482712   PDV    103961   \n",
      "3 2022-09-15  2022    9         6005545   PDV     92243   \n",
      "4 2022-07-20  2022    7         6627039   PDV      5757   \n",
      "\n",
      "               NOMBRE_PRODUCTO            NOMBRE_CATEGORIA  \\\n",
      "0                 CEPILLOS B&C  IMPLEMENTOS DE CABELLO B&C   \n",
      "1      DELINEADOR OJOS ESSENCE              COSMETICO UÑAS   \n",
      "2                   HANUTA B&C         COLACIONES Y SNACKS   \n",
      "3          PAPAS PRINGLES B&C.                    CONFITES   \n",
      "4  VITAMIN CHOICE ANTIOXIDANTE                 SUPLEMENTOS   \n",
      "\n",
      "  NOMBRE_TIPO_NEGOCIO  COD_LOCAL              NOMBRE_LOCAL NOMBRE_PROVINCIA  \\\n",
      "0                 B&C        791  FYBECA MALL DE LOS ANDES       TUNGURAHUA   \n",
      "1                B&CP         95         FYBECA LOS MANGOS           MANABÍ   \n",
      "2                 B&C       1271  FYBECA SAN LUIS SHOPPING        PICHINCHA   \n",
      "3                 B&C      71840        FYBECA LOS FRESNOS        PICHINCHA   \n",
      "4                 B&C       1901              FYBECA SCALA        PICHINCHA   \n",
      "\n",
      "  NOMBRE_CIUDAD  NÚMERO DE TRANSACCIÓN  VENTA_NETA  MARGEN  CANTIDAD  \\\n",
      "0        AMBATO                3810852           7       2         1   \n",
      "1    PORTOVIEJO                5962659           9       2         1   \n",
      "2         QUITO                3485885          11       2         2   \n",
      "3         QUITO                4209849          18       2         1   \n",
      "4         QUITO                6412586           7       2         1   \n",
      "\n",
      "   COD FORMA DE PAGO  \n",
      "0                  1  \n",
      "1                  1  \n",
      "2                  3  \n",
      "3                  5  \n",
      "4                  5  \n"
     ]
    }
   ],
   "source": [
    "# Imprimir las primeras 5 filas del DataFrame\n",
    "print(df.head())"
   ]
  },
  {
   "cell_type": "markdown",
   "id": "e833a445",
   "metadata": {},
   "source": [
    "    Ejercicios\n",
    "    A continuación, se muestran algunos ejercicios para trabajar con los datos en el objeto de marco de datos:\n",
    "\n",
    "    Ejercicio 1: ¿Cuántas transacciones se realizaron en total?"
   ]
  },
  {
   "cell_type": "code",
   "execution_count": 82,
   "id": "46234ddf",
   "metadata": {},
   "outputs": [
    {
     "name": "stdout",
     "output_type": "stream",
     "text": [
      "El número total de transacciones es: 49999\n"
     ]
    }
   ],
   "source": [
    "# Contar el número de transacciones\n",
    "num_transacciones = df[\"NÚMERO DE TRANSACCIÓN\"].count()\n",
    "print(\"El número total de transacciones es:\", num_transacciones)"
   ]
  },
  {
   "cell_type": "markdown",
   "id": "e94315ff",
   "metadata": {},
   "source": [
    "Ejercicio 2: ¿Cuál es el monto total de ventas netas?"
   ]
  },
  {
   "cell_type": "code",
   "execution_count": 83,
   "id": "d08653a7",
   "metadata": {},
   "outputs": [
    {
     "name": "stdout",
     "output_type": "stream",
     "text": [
      "El monto total de ventas netas es: 624812\n"
     ]
    }
   ],
   "source": [
    "# Calcular el monto total de ventas netas\n",
    "monto_ventas = df[\"VENTA_NETA\"].sum()\n",
    "print(\"El monto total de ventas netas es:\", monto_ventas)"
   ]
  },
  {
   "cell_type": "code",
   "execution_count": null,
   "id": "97608205",
   "metadata": {},
   "outputs": [],
   "source": []
  },
  {
   "cell_type": "code",
   "execution_count": 84,
   "id": "45a312c5",
   "metadata": {},
   "outputs": [
    {
     "name": "stdout",
     "output_type": "stream",
     "text": [
      "El nombre del producto más vendido es: EUTIROX.\n"
     ]
    }
   ],
   "source": [
    "# Contar las ventas por nombre de producto\n",
    "ventas_por_producto = df.groupby(\"NOMBRE_PRODUCTO\")[\"CANTIDAD\"].sum()\n",
    "\n",
    "# Obtener el nombre del producto más vendido\n",
    "nombre_producto_mas_vendido = ventas_por_producto.idxmax()\n",
    "\n",
    "print(\"El nombre del producto más vendido es:\", nombre_producto_mas_vendido)\n"
   ]
  },
  {
   "cell_type": "markdown",
   "id": "0efad77e",
   "metadata": {},
   "source": [
    "Ejercicio 4: ¿Cuál es la cantidad total de cada producto vendido?"
   ]
  },
  {
   "cell_type": "code",
   "execution_count": 85,
   "id": "bf1172c6",
   "metadata": {},
   "outputs": [
    {
     "name": "stdout",
     "output_type": "stream",
     "text": [
      "Cantidad total de cada producto vendido:\n",
      "NOMBRE_PRODUCTO\n",
      "102 VITAMINA C+ZINC         120\n",
      "ABANIX                      430\n",
      "ABC DERM JABON LIQUIDO._     10\n",
      "ABRILAR                     134\n",
      "ACCES MAQUILLA FREESTYLE     10\n",
      "                           ... \n",
      "ZOVIRAX                      10\n",
      "ZURCAL                      160\n",
      "ZYRTEC                      300\n",
      "ZYRTEC-D                    110\n",
      "ZYRTEC-D.                    71\n",
      "Name: CANTIDAD, Length: 1987, dtype: int64\n"
     ]
    }
   ],
   "source": [
    "# Calcular la cantidad total de cada producto vendido\n",
    "cantidad_por_producto = df.groupby(\"NOMBRE_PRODUCTO\")[\"CANTIDAD\"].sum()\n",
    "\n",
    "print(\"Cantidad total de cada producto vendido:\")\n",
    "print(cantidad_por_producto)\n"
   ]
  },
  {
   "cell_type": "markdown",
   "id": "aa3c1fdb",
   "metadata": {},
   "source": [
    "    Ejercicio 5: ¿Cuánto margen se obtuvo por provincia?"
   ]
  },
  {
   "cell_type": "code",
   "execution_count": 86,
   "id": "d65a4089",
   "metadata": {},
   "outputs": [
    {
     "name": "stdout",
     "output_type": "stream",
     "text": [
      "Margen total por provincia:\n",
      "NOMBRE_PROVINCIA\n",
      "AZUAY                              6216\n",
      "BOLÍVAR                             104\n",
      "CARCHI                              114\n",
      "CHIMBORAZO                          979\n",
      "COTOPAXI                           1244\n",
      "EL ORO                             2292\n",
      "ESMERALDAS                         1728\n",
      "GUAYAS                            33600\n",
      "IMBABURA                           2464\n",
      "LOJA                               2084\n",
      "LOS RÍOS                            325\n",
      "MANABÍ                             5652\n",
      "NAPO                                331\n",
      "ORELLANA                            410\n",
      "PICHINCHA                         60977\n",
      "SANTA ELENA                        1422\n",
      "SANTO DOMINGO DE LOS TSÁCHILAS      990\n",
      "SUCUMBÍOS                           513\n",
      "TUNGURAHUA                         2924\n",
      "Name: MARGEN, dtype: int64\n"
     ]
    }
   ],
   "source": [
    "# Calcular el margen total por provincia\n",
    "margen_por_provincia = df.groupby(\"NOMBRE_PROVINCIA\")[\"MARGEN\"].sum()\n",
    "\n",
    "print(\"Margen total por provincia:\")\n",
    "print(margen_por_provincia)\n"
   ]
  },
  {
   "cell_type": "markdown",
   "id": "32feea66",
   "metadata": {},
   "source": [
    "# Agrupar los datos por mes y calcular la suma de las ventas netas y el número de transacciones por mes"
   ]
  },
  {
   "cell_type": "code",
   "execution_count": 87,
   "id": "507d770e",
   "metadata": {},
   "outputs": [],
   "source": [
    "ventas_mes = df.groupby(\"MES\").agg({\"VENTA_NETA\": \"sum\", \"NÚMERO DE TRANSACCIÓN\": \"count\"})"
   ]
  },
  {
   "cell_type": "markdown",
   "id": "f678b31b",
   "metadata": {},
   "source": [
    "# Renombrar las columnas"
   ]
  },
  {
   "cell_type": "code",
   "execution_count": 88,
   "id": "67c222c0",
   "metadata": {},
   "outputs": [],
   "source": [
    "ventas_mes = ventas_mes.rename(columns={\"VENTA_NETA\": \"Monto de Ventas\", \"NÚMERO DE TRANSACCIÓN\": \"Número de Transacciones\"})"
   ]
  },
  {
   "cell_type": "markdown",
   "id": "ef33451b",
   "metadata": {},
   "source": [
    "# Mostrar la tabla resultante"
   ]
  },
  {
   "cell_type": "code",
   "execution_count": 89,
   "id": "9c089e91",
   "metadata": {},
   "outputs": [
    {
     "name": "stdout",
     "output_type": "stream",
     "text": [
      "     Monto de Ventas  Número de Transacciones\n",
      "MES                                          \n",
      "1              72633                     5671\n",
      "2              69091                     5470\n",
      "3              66773                     5261\n",
      "4              41275                     3355\n",
      "5              46291                     3728\n",
      "6              37083                     3030\n",
      "7              50538                     4184\n",
      "8              41315                     3283\n",
      "9              46132                     3632\n",
      "10             45341                     3719\n",
      "11             52444                     4218\n",
      "12             55896                     4448\n"
     ]
    }
   ],
   "source": [
    "print(ventas_mes)"
   ]
  },
  {
   "cell_type": "markdown",
   "id": "6f43cc79",
   "metadata": {},
   "source": [
    "En esta tabla, cada fila representa un mes y las columnas muestran el monto total de ventas netas y el número de transacciones realizadas en ese mes. La función agg() nos permite especificar qué función de agregación queremos aplicar a cada columna, en este caso sum() para el monto de ventas y count() para el número de transacciones. También podemos renombrar las columnas utilizando la función rename()."
   ]
  }
 ],
 "metadata": {
  "kernelspec": {
   "display_name": "Python 3 (ipykernel)",
   "language": "python",
   "name": "python3"
  },
  "language_info": {
   "codemirror_mode": {
    "name": "ipython",
    "version": 3
   },
   "file_extension": ".py",
   "mimetype": "text/x-python",
   "name": "python",
   "nbconvert_exporter": "python",
   "pygments_lexer": "ipython3",
   "version": "3.11.2"
  }
 },
 "nbformat": 4,
 "nbformat_minor": 5
}
