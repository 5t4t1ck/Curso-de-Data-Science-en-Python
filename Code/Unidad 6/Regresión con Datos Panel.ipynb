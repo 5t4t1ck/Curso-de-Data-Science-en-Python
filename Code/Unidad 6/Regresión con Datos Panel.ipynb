{
 "cells": [
  {
   "cell_type": "markdown",
   "id": "c130e661",
   "metadata": {},
   "source": [
    "# Regresión con Datos Panel"
   ]
  },
  {
   "cell_type": "markdown",
   "id": "ea25f946",
   "metadata": {},
   "source": [
    "La regresión con datos panel es una técnica estadística que se utiliza en Data Science para analizar datos que se encuentran en un formato de panel o de panel de datos. Los datos panel son una estructura de datos que incluye múltiples observaciones a lo largo del tiempo para un conjunto de individuos o unidades de estudio. Estas unidades pueden ser personas, empresas, países, regiones, etc.\n",
    "\n",
    "La regresión con datos panel es útil para analizar los efectos de variables explicativas en una variable de interés a lo largo del tiempo y para comparar los efectos entre las unidades de estudio. Se puede utilizar para estudiar el impacto de variables como políticas gubernamentales, condiciones económicas, cambios en la industria, entre otros, en la variable de interés.\n",
    "\n",
    "La regresión con datos panel tiene en cuenta tanto las diferencias entre las unidades de estudio como las variaciones a lo largo del tiempo. Esto permite una mejor estimación de los efectos de las variables explicativas y una reducción en los errores de medición. Además, la regresión con datos panel permite controlar los efectos de variables no observables que afectan a todas las unidades de estudio de manera similar, como factores culturales, geográficos o históricos.\n",
    "\n",
    "En resumen, la regresión con datos panel es una técnica importante en Data Science para analizar datos longitudinales y comparar los efectos de variables explicativas en una variable de interés a lo largo del tiempo y entre unidades de estudio."
   ]
  },
  {
   "cell_type": "markdown",
   "id": "1e9265dc",
   "metadata": {},
   "source": [
    "Para generar el archivo panel_data.csv que se usó en el ejemplo anterior, podemos utilizar el siguiente código en Python:"
   ]
  },
  {
   "cell_type": "code",
   "execution_count": 7,
   "id": "7621815e",
   "metadata": {},
   "outputs": [],
   "source": [
    "import pandas as pd\n",
    "import numpy as np"
   ]
  },
  {
   "cell_type": "code",
   "execution_count": 8,
   "id": "6e0bc3cc",
   "metadata": {},
   "outputs": [],
   "source": [
    "# Creamos una lista de estados\n",
    "states = ['Alabama', 'Alaska', 'Arizona', 'Arkansas', 'California']\n",
    "\n",
    "# Creamos una lista de años\n",
    "years = [2010, 2011, 2012, 2013, 2014, 2015, 2016, 2017, 2018, 2019]\n",
    "\n",
    "# Generamos los datos para cada combinación de estado y año\n",
    "data = []\n",
    "for state in states:\n",
    "    for year in years:\n",
    "        income = np.random.randint(20000, 100000)\n",
    "        unemployment_rate = np.random.uniform(3.0, 10.0)\n",
    "        data.append([state, year, income, unemployment_rate])\n",
    "\n",
    "# Creamos un DataFrame de pandas con los datos generados\n",
    "panel_data = pd.DataFrame(data, columns=['state', 'year', 'income', 'unemployment_rate'])\n",
    "\n",
    "# Guardamos el DataFrame como un archivo CSV\n",
    "panel_data.to_csv('panel_data.csv', index=False)"
   ]
  },
  {
   "cell_type": "markdown",
   "id": "782322ce",
   "metadata": {},
   "source": [
    "Este código generará un archivo CSV llamado panel_data.csv con los datos generados para las combinaciones de estados y años. Los ingresos se generarán aleatoriamente en un rango entre 20000 y 100000, y las tasas de desempleo se generarán aleatoriamente en un rango entre 3 y 10. Los datos se guardarán en un DataFrame de pandas y luego se exportarán a un archivo CSV sin incluir el índice del DataFrame."
   ]
  },
  {
   "cell_type": "markdown",
   "id": "f5acde9e",
   "metadata": {},
   "source": [
    "## Regresión de DatosPanel"
   ]
  },
  {
   "cell_type": "markdown",
   "id": "3df5b117",
   "metadata": {},
   "source": [
    "Primero, vamos a importar las librerías necesarias:"
   ]
  },
  {
   "cell_type": "code",
   "execution_count": 9,
   "id": "85b8ff7d",
   "metadata": {},
   "outputs": [],
   "source": [
    "import pandas as pd\n",
    "import numpy as np\n",
    "import statsmodels.api as sm\n",
    "import matplotlib.pyplot as plt"
   ]
  },
  {
   "cell_type": "markdown",
   "id": "6a1802d2",
   "metadata": {},
   "source": [
    "Luego, vamos a cargar nuestro conjunto de datos panel. Supongamos que tenemos datos sobre el ingreso per cápita y la tasa de desempleo en diferentes estados de EE. UU. durante varios años. Nuestro archivo de datos se llama panel_data.csv y tiene las siguientes columnas:\n",
    "\n",
    "    state: el nombre del estado\n",
    "    year: el año del dato\n",
    "    income: el ingreso per cápita en dólares\n",
    "    unemployment_rate: la tasa de desempleo\n",
    "\n",
    "Para cargar el archivo de datos, usamos el siguiente código:"
   ]
  },
  {
   "cell_type": "code",
   "execution_count": 10,
   "id": "9d5af87c",
   "metadata": {},
   "outputs": [],
   "source": [
    "panel_data = pd.read_csv('panel_data.csv')"
   ]
  },
  {
   "cell_type": "markdown",
   "id": "cbcd7643",
   "metadata": {},
   "source": [
    "A continuación, vamos a visualizar nuestros datos. Podemos hacer esto utilizando un diagrama de dispersión, donde la variable dependiente (tasa de desempleo) se representa en el eje Y y la variable independiente (ingreso per cápita) se representa en el eje X."
   ]
  },
  {
   "cell_type": "code",
   "execution_count": 11,
   "id": "8e801c78",
   "metadata": {},
   "outputs": [
    {
     "data": {
      "image/png": "[encoded data removed]",
      "text/plain": [
       "<Figure size 640x480 with 1 Axes>"
      ]
     },
     "metadata": {},
     "output_type": "display_data"
    }
   ],
   "source": [
    "fig, ax = plt.subplots()\n",
    "panel_data.plot(kind='scatter', x='income', y='unemployment_rate', ax=ax)\n",
    "ax.set_xlabel('Ingreso per cápita')\n",
    "ax.set_ylabel('Tasa de desempleo')\n",
    "ax.set_title('Relación entre ingreso y tasa de desempleo')\n",
    "plt.show()"
   ]
  },
  {
   "cell_type": "markdown",
   "id": "032032de",
   "metadata": {},
   "source": [
    "El resultado de esta visualización debe mostrar una gráfica de dispersión con puntos para cada estado y año, donde la tasa de desempleo se representa en el eje Y y el ingreso per cápita se representa en el eje X.\n",
    "\n",
    "Una vez que hemos visualizado nuestros datos, podemos comenzar a ajustar nuestro modelo de regresión con datos panel. Para ello, utilizamos el siguiente código:"
   ]
  },
  {
   "cell_type": "code",
   "execution_count": 12,
   "id": "f12b4f2f",
   "metadata": {},
   "outputs": [
    {
     "name": "stdout",
     "output_type": "stream",
     "text": [
      "                            OLS Regression Results                            \n",
      "==============================================================================\n",
      "Dep. Variable:      unemployment_rate   R-squared:                       0.021\n",
      "Model:                            OLS   Adj. R-squared:                  0.000\n",
      "Method:                 Least Squares   F-statistic:                     1.013\n",
      "Date:                Tue, 11 Apr 2023   Prob (F-statistic):              0.319\n",
      "Time:                        19:47:59   Log-Likelihood:                -107.31\n",
      "No. Observations:                  50   AIC:                             218.6\n",
      "Df Residuals:                      48   BIC:                             222.4\n",
      "Df Model:                           1                                         \n",
      "Covariance Type:            nonrobust                                         \n",
      "==============================================================================\n",
      "                 coef    std err          t      P>|t|      [0.025      0.975]\n",
      "------------------------------------------------------------------------------\n",
      "const          7.4845      0.862      8.679      0.000       5.751       9.218\n",
      "income     -1.291e-05   1.28e-05     -1.007      0.319   -3.87e-05    1.29e-05\n",
      "==============================================================================\n",
      "Omnibus:                       17.037   Durbin-Watson:                   2.096\n",
      "Prob(Omnibus):                  0.000   Jarque-Bera (JB):                3.568\n",
      "Skew:                          -0.108   Prob(JB):                        0.168\n",
      "Kurtosis:                       1.709   Cond. No.                     1.94e+05\n",
      "==============================================================================\n",
      "\n",
      "Notes:\n",
      "[1] Standard Errors assume that the covariance matrix of the errors is correctly specified.\n",
      "[2] The condition number is large, 1.94e+05. This might indicate that there are\n",
      "strong multicollinearity or other numerical problems.\n"
     ]
    }
   ],
   "source": [
    "# Creamos una variable de índice\n",
    "panel_data = panel_data.set_index(['state', 'year'])\n",
    "\n",
    "# Creamos una variable para la variable independiente (ingreso per cápita)\n",
    "X = sm.add_constant(panel_data['income'])\n",
    "\n",
    "# Creamos una variable para la variable dependiente (tasa de desempleo)\n",
    "y = panel_data['unemployment_rate']\n",
    "\n",
    "# Ajustamos el modelo de regresión con datos panel\n",
    "model = sm.OLS(y, X)\n",
    "results = model.fit()\n",
    "print(results.summary())"
   ]
  },
  {
   "cell_type": "markdown",
   "id": "fcf69b7d",
   "metadata": {},
   "source": [
    "El resultado de la ejecución de este código será la impresión de un resumen del modelo de regresión con datos panel. Podremos ver información como el coeficiente de regresión, el error estándar, el valor t y el valor p para cada variable, así como la bondad del ajuste del modelo, hay muchas maneras de personalizar y ajustar el modelo, y puedes explorar más a fondo la documentación de las librerías que hemos utilizado para comprender mejor cómo funcionan."
   ]
  }
 ],
 "metadata": {
  "kernelspec": {
   "display_name": "Python 3 (ipykernel)",
   "language": "python",
   "name": "python3"
  },
  "language_info": {
   "codemirror_mode": {
    "name": "ipython",
    "version": 3
   },
   "file_extension": ".py",
   "mimetype": "text/x-python",
   "name": "python",
   "nbconvert_exporter": "python",
   "pygments_lexer": "ipython3",
   "version": "3.11.2"
  }
 },
 "nbformat": 4,
 "nbformat_minor": 5
}
