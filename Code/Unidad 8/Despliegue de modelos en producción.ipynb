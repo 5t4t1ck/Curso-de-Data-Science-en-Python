{
 "cells": [
  {
   "cell_type": "markdown",
   "id": "80dfaacc",
   "metadata": {},
   "source": [
    "## Desarrollo y Empaquetado de Modelos de ML:\n",
    "\n",
    "El desarrollo y empaquetado de modelos de Machine Learning (ML) se refiere al proceso de crear un modelo de ML desde cero y luego empaquetarlo para su distribución y uso en diferentes entornos.\n",
    "\n",
    "Para desarrollar un modelo de ML, se deben seguir ciertos pasos, como la selección de un conjunto de datos adecuado, la limpieza y el preprocesamiento de los datos, la selección de un algoritmo de ML y la formación del modelo. Una vez que se ha desarrollado el modelo, se debe evaluar su rendimiento y ajustarlo según sea necesario.\n",
    "\n",
    "Luego, el modelo se puede empaquetar en un formato que sea fácilmente transportable y utilizable en diferentes entornos. Los paquetes de modelos suelen incluir el modelo entrenado junto con las dependencias y herramientas necesarias para ejecutar el modelo en diferentes sistemas.\n",
    "\n",
    "Existen varias herramientas y bibliotecas que pueden ayudar en el desarrollo y empaquetado de modelos de ML, como TensorFlow, PyTorch, Scikit-learn y MLflow.\n",
    "\n",
    "## Introducción al Despliegue de Modelos de ML:\n",
    "\n",
    "El despliegue de modelos de Machine Learning (ML) se refiere al proceso de poner en producción un modelo de ML para que se pueda utilizar en un entorno de producción en tiempo real.\n",
    "\n",
    "Antes de desplegar un modelo, es importante asegurarse de que esté listo para su uso en producción. Esto puede incluir la realización de pruebas exhaustivas del modelo, la validación de que el modelo se comporta como se espera y la optimización del modelo para su rendimiento y eficiencia.\n",
    "\n",
    "Una vez que el modelo está listo para su uso en producción, hay varias formas de desplegarlo. Una opción es implementar el modelo como una API web que pueda recibir solicitudes y devolver respuestas. Otra opción es integrar el modelo en una aplicación existente, como una aplicación móvil o un sistema de gestión de inventario.\n",
    "\n",
    "Para implementar el despliegue de modelos de ML, existen varias herramientas y tecnologías, como Docker, Kubernetes, Flask y AWS Lambda. Es importante seleccionar la herramienta adecuada en función de las necesidades y requisitos específicos del proyecto."
   ]
  },
  {
   "cell_type": "markdown",
   "id": "552b20dd",
   "metadata": {},
   "source": [
    "## Creación del archivo Data.csv"
   ]
  },
  {
   "cell_type": "markdown",
   "id": "9751672c",
   "metadata": {},
   "source": [
    "Para crear el archivo data.csv, podemos usar la librería numpy para generar datos aleatorios y pandas para crear el DataFrame y guardar los datos en un archivo CSV. Aquí está el código:"
   ]
  },
  {
   "cell_type": "code",
   "execution_count": 16,
   "id": "c195512f",
   "metadata": {},
   "outputs": [],
   "source": [
    "import numpy as np\n",
    "import pandas as pd\n",
    "\n",
    "# Generar 100 datos aleatorios\n",
    "size = np.random.randint(1000, 5000, 100)\n",
    "bedrooms = np.random.randint(1, 6, 100)\n",
    "price = size * 100 + bedrooms * 5000 + np.random.normal(0, 10000, 100)\n",
    "\n",
    "# Crear el DataFrame\n",
    "data = pd.DataFrame({'size': size, 'bedrooms': bedrooms, 'price': price})\n",
    "\n",
    "# Guardar los datos en un archivo CSV\n",
    "data.to_csv('data.csv', index=False)"
   ]
  },
  {
   "cell_type": "markdown",
   "id": "e64dd767",
   "metadata": {},
   "source": [
    "Este código generará 100 datos aleatorios para el tamaño de la casa y el número de habitaciones, y calculará el precio de la casa usando una fórmula arbitraria. Los datos se guardarán en un DataFrame de pandas y se escribirán en un archivo CSV llamado data.csv."
   ]
  },
  {
   "cell_type": "markdown",
   "id": "02f654f6",
   "metadata": {},
   "source": [
    "## Creación del Modelo de Machine Learnning y puesto en Producción"
   ]
  },
  {
   "cell_type": "markdown",
   "id": "fbb35d1a",
   "metadata": {},
   "source": [
    "Este es un ejemplo de cómo crear un modelo de regresión lineal y desplegarlo en producción usando Flask. El objetivo es predecir el precio de una casa en función de su tamaño y número de habitaciones."
   ]
  },
  {
   "cell_type": "markdown",
   "id": "e53f349d",
   "metadata": {},
   "source": [
    "Paso 1: Importar librerías"
   ]
  },
  {
   "cell_type": "code",
   "execution_count": 17,
   "id": "b0148eb0",
   "metadata": {},
   "outputs": [],
   "source": [
    "import pandas as pd\n",
    "from sklearn.linear_model import LinearRegression\n",
    "import pickle"
   ]
  },
  {
   "cell_type": "markdown",
   "id": "edfba763",
   "metadata": {},
   "source": [
    "Paso 2: Cargar y preparar los datos"
   ]
  },
  {
   "cell_type": "code",
   "execution_count": 18,
   "id": "97f9915c",
   "metadata": {},
   "outputs": [],
   "source": [
    "data = pd.read_csv('data.csv')\n",
    "X = data[['size', 'bedrooms']]\n",
    "y = data['price']"
   ]
  },
  {
   "cell_type": "markdown",
   "id": "c6c544fc",
   "metadata": {},
   "source": [
    "Paso 3: Entrenar el modelo"
   ]
  },
  {
   "cell_type": "code",
   "execution_count": 19,
   "id": "f22af9da",
   "metadata": {},
   "outputs": [
    {
     "data": {
      "text/html": [
       "<style>#sk-container-id-3 {color: black;background-color: white;}#sk-container-id-3 pre{padding: 0;}#sk-container-id-3 div.sk-toggleable {background-color: white;}#sk-container-id-3 label.sk-toggleable__label {cursor: pointer;display: block;width: 100%;margin-bottom: 0;padding: 0.3em;box-sizing: border-box;text-align: center;}#sk-container-id-3 label.sk-toggleable__label-arrow:before {content: \"▸\";float: left;margin-right: 0.25em;color: #696969;}#sk-container-id-3 label.sk-toggleable__label-arrow:hover:before {color: black;}#sk-container-id-3 div.sk-estimator:hover label.sk-toggleable__label-arrow:before {color: black;}#sk-container-id-3 div.sk-toggleable__content {max-height: 0;max-width: 0;overflow: hidden;text-align: left;background-color: #f0f8ff;}#sk-container-id-3 div.sk-toggleable__content pre {margin: 0.2em;color: black;border-radius: 0.25em;background-color: #f0f8ff;}#sk-container-id-3 input.sk-toggleable__control:checked~div.sk-toggleable__content {max-height: 200px;max-width: 100%;overflow: auto;}#sk-container-id-3 input.sk-toggleable__control:checked~label.sk-toggleable__label-arrow:before {content: \"▾\";}#sk-container-id-3 div.sk-estimator input.sk-toggleable__control:checked~label.sk-toggleable__label {background-color: #d4ebff;}#sk-container-id-3 div.sk-label input.sk-toggleable__control:checked~label.sk-toggleable__label {background-color: #d4ebff;}#sk-container-id-3 input.sk-hidden--visually {border: 0;clip: rect(1px 1px 1px 1px);clip: rect(1px, 1px, 1px, 1px);height: 1px;margin: -1px;overflow: hidden;padding: 0;position: absolute;width: 1px;}#sk-container-id-3 div.sk-estimator {font-family: monospace;background-color: #f0f8ff;border: 1px dotted black;border-radius: 0.25em;box-sizing: border-box;margin-bottom: 0.5em;}#sk-container-id-3 div.sk-estimator:hover {background-color: #d4ebff;}#sk-container-id-3 div.sk-parallel-item::after {content: \"\";width: 100%;border-bottom: 1px solid gray;flex-grow: 1;}#sk-container-id-3 div.sk-label:hover label.sk-toggleable__label {background-color: #d4ebff;}#sk-container-id-3 div.sk-serial::before {content: \"\";position: absolute;border-left: 1px solid gray;box-sizing: border-box;top: 0;bottom: 0;left: 50%;z-index: 0;}#sk-container-id-3 div.sk-serial {display: flex;flex-direction: column;align-items: center;background-color: white;padding-right: 0.2em;padding-left: 0.2em;position: relative;}#sk-container-id-3 div.sk-item {position: relative;z-index: 1;}#sk-container-id-3 div.sk-parallel {display: flex;align-items: stretch;justify-content: center;background-color: white;position: relative;}#sk-container-id-3 div.sk-item::before, #sk-container-id-3 div.sk-parallel-item::before {content: \"\";position: absolute;border-left: 1px solid gray;box-sizing: border-box;top: 0;bottom: 0;left: 50%;z-index: -1;}#sk-container-id-3 div.sk-parallel-item {display: flex;flex-direction: column;z-index: 1;position: relative;background-color: white;}#sk-container-id-3 div.sk-parallel-item:first-child::after {align-self: flex-end;width: 50%;}#sk-container-id-3 div.sk-parallel-item:last-child::after {align-self: flex-start;width: 50%;}#sk-container-id-3 div.sk-parallel-item:only-child::after {width: 0;}#sk-container-id-3 div.sk-dashed-wrapped {border: 1px dashed gray;margin: 0 0.4em 0.5em 0.4em;box-sizing: border-box;padding-bottom: 0.4em;background-color: white;}#sk-container-id-3 div.sk-label label {font-family: monospace;font-weight: bold;display: inline-block;line-height: 1.2em;}#sk-container-id-3 div.sk-label-container {text-align: center;}#sk-container-id-3 div.sk-container {/* jupyter's `normalize.less` sets `[hidden] { display: none; }` but bootstrap.min.css set `[hidden] { display: none !important; }` so we also need the `!important` here to be able to override the default hidden behavior on the sphinx rendered scikit-learn.org. See: https://github.com/scikit-learn/scikit-learn/issues/21755 */display: inline-block !important;position: relative;}#sk-container-id-3 div.sk-text-repr-fallback {display: none;}</style><div id=\"sk-container-id-3\" class=\"sk-top-container\"><div class=\"sk-text-repr-fallback\"><pre>LinearRegression()</pre><b>In a Jupyter environment, please rerun this cell to show the HTML representation or trust the notebook. <br />On GitHub, the HTML representation is unable to render, please try loading this page with nbviewer.org.</b></div><div class=\"sk-container\" hidden><div class=\"sk-item\"><div class=\"sk-estimator sk-toggleable\"><input class=\"sk-toggleable__control sk-hidden--visually\" id=\"sk-estimator-id-3\" type=\"checkbox\" checked><label for=\"sk-estimator-id-3\" class=\"sk-toggleable__label sk-toggleable__label-arrow\">LinearRegression</label><div class=\"sk-toggleable__content\"><pre>LinearRegression()</pre></div></div></div></div></div>"
      ],
      "text/plain": [
       "LinearRegression()"
      ]
     },
     "execution_count": 19,
     "metadata": {},
     "output_type": "execute_result"
    }
   ],
   "source": [
    "model = LinearRegression()\n",
    "model.fit(X, y)"
   ]
  },
  {
   "cell_type": "markdown",
   "id": "91daa27e",
   "metadata": {},
   "source": [
    "Paso 4: Empaquetar el modelo"
   ]
  },
  {
   "cell_type": "code",
   "execution_count": 20,
   "id": "feb3268c",
   "metadata": {},
   "outputs": [],
   "source": [
    "filename = 'model.pkl'\n",
    "pickle.dump(model, open(filename, 'wb'))"
   ]
  },
  {
   "cell_type": "markdown",
   "id": "27bb4390",
   "metadata": {},
   "source": [
    "Paso 5: Crear una aplicación Flask"
   ]
  },
  {
   "cell_type": "code",
   "execution_count": null,
   "id": "4ed8b309",
   "metadata": {},
   "outputs": [
    {
     "name": "stdout",
     "output_type": "stream",
     "text": [
      " * Serving Flask app '__main__'\n",
      " * Debug mode: off\n"
     ]
    },
    {
     "name": "stderr",
     "output_type": "stream",
     "text": [
      "WARNING: This is a development server. Do not use it in a production deployment. Use a production WSGI server instead.\n",
      " * Running on http://127.0.0.1:5000\n",
      "Press CTRL+C to quit\n",
      "C:\\Users\\Statick\\.conda\\envs\\course\\Lib\\site-packages\\sklearn\\base.py:439: UserWarning: X does not have valid feature names, but LinearRegression was fitted with feature names\n",
      "  warnings.warn(\n",
      "127.0.0.1 - - [14/Apr/2023 18:27:40] \"POST / HTTP/1.1\" 200 -\n",
      "C:\\Users\\Statick\\.conda\\envs\\course\\Lib\\site-packages\\sklearn\\base.py:439: UserWarning: X does not have valid feature names, but LinearRegression was fitted with feature names\n",
      "  warnings.warn(\n",
      "127.0.0.1 - - [14/Apr/2023 18:27:40] \"POST / HTTP/1.1\" 200 -\n",
      "C:\\Users\\Statick\\.conda\\envs\\course\\Lib\\site-packages\\sklearn\\base.py:439: UserWarning: X does not have valid feature names, but LinearRegression was fitted with feature names\n",
      "  warnings.warn(\n",
      "127.0.0.1 - - [14/Apr/2023 18:27:41] \"POST / HTTP/1.1\" 200 -\n",
      "C:\\Users\\Statick\\.conda\\envs\\course\\Lib\\site-packages\\sklearn\\base.py:439: UserWarning: X does not have valid feature names, but LinearRegression was fitted with feature names\n",
      "  warnings.warn(\n",
      "127.0.0.1 - - [14/Apr/2023 18:27:42] \"POST / HTTP/1.1\" 200 -\n"
     ]
    }
   ],
   "source": [
    "from flask import Flask, jsonify, request\n",
    "import pickle\n",
    "\n",
    "app = Flask(__name__)\n",
    "\n",
    "@app.route('/', methods=['POST'])\n",
    "def predict():\n",
    "    model = pickle.load(open('model.pkl', 'rb'))\n",
    "    data = request.get_json(force=True)\n",
    "    prediction = model.predict([[data['size'], data['bedrooms']]])\n",
    "    output = {'price': prediction[0]}\n",
    "    return jsonify(output)\n",
    "\n",
    "if __name__ == '__main__':\n",
    "    app.run(port=5000, debug=False)"
   ]
  },
  {
   "cell_type": "markdown",
   "id": "9b296701",
   "metadata": {},
   "source": [
    "Paso 6: Ejecutar la aplicación Flask\n",
    "\n",
    "python app.py"
   ]
  },
  {
   "cell_type": "markdown",
   "id": "38974ded",
   "metadata": {},
   "source": [
    "Ahora podemos enviar una solicitud HTTP POST al servidor de Flask para obtener la predicción del precio de una casa en función de su tamaño y número de habitaciones. Por ejemplo, podemos usar Postman o curl para enviar la siguiente solicitud:\n",
    "\n",
    "bash\n",
    "\n",
    "POST http://localhost:5000/\n",
    "Content-Type: application/json\n",
    "\n",
    "{\n",
    "    \"size\": 2000,\n",
    "    \"bedrooms\": 3\n",
    "}\n",
    "\n",
    "La respuesta será un objeto JSON con la predicción del precio de la casa:\n",
    "\n",
    "json\n",
    "\n",
    "{\n",
    "    \"price\": 243876.345\n",
    "}\n",
    "\n",
    "Este es un ejemplo básico de cómo empacar y desplegar un modelo de ML en producción. Es importante tener en cuenta que existen muchos otros factores a considerar al implementar modelos de ML en producción, como la gestión de versiones, el control de calidad, la seguridad, el rendimiento y la escalabilidad."
   ]
  }
 ],
 "metadata": {
  "kernelspec": {
   "display_name": "Python 3 (ipykernel)",
   "language": "python",
   "name": "python3"
  },
  "language_info": {
   "codemirror_mode": {
    "name": "ipython",
    "version": 3
   },
   "file_extension": ".py",
   "mimetype": "text/x-python",
   "name": "python",
   "nbconvert_exporter": "python",
   "pygments_lexer": "ipython3",
   "version": "3.11.2"
  }
 },
 "nbformat": 4,
 "nbformat_minor": 5
}
