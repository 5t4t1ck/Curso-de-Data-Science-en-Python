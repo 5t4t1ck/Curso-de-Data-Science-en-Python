{
 "cells": [
  {
   "cell_type": "markdown",
   "id": "11a36201",
   "metadata": {},
   "source": [
    "## Análisis de Componentes Principales (PCA)\n",
    "\n",
    "El Análisis de Componentes Principales (PCA) es una técnica de reducción de dimensionalidad utilizada en Data Science para simplificar la información contenida en conjuntos de datos complejos. Esta técnica se aplica principalmente en problemas en los que se trabaja con una gran cantidad de variables, lo que dificulta la exploración y el análisis de los datos.\n",
    "\n",
    "PCA se basa en la idea de que una gran cantidad de variables en un conjunto de datos pueden ser representadas por un número menor de variables llamadas componentes principales, que son combinaciones lineales de las variables originales. Estas componentes principales se seleccionan de tal manera que maximizan la varianza explicada en los datos. En otras palabras, las componentes principales son aquellas que capturan la mayor cantidad de información posible del conjunto de datos original.\n",
    "\n",
    "La aplicación de PCA tiene varios beneficios en Data Science. Primero, permite reducir la complejidad de los datos, lo que facilita su exploración y análisis. Además, permite identificar patrones y relaciones ocultas entre las variables del conjunto de datos. También ayuda a eliminar el ruido y los efectos no deseados en los datos, lo que puede mejorar la precisión de los modelos de Machine Learning.\n",
    "\n",
    "En resumen, PCA es una técnica esencial en Data Science que ayuda a simplificar y analizar conjuntos de datos complejos. Su aplicación puede llevar a una mejor comprensión de los datos, mejores decisiones empresariales y una mayor precisión en los modelos de Machine Learning."
   ]
  },
  {
   "cell_type": "code",
   "execution_count": 3,
   "id": "903cffb8",
   "metadata": {},
   "outputs": [],
   "source": [
    "import pandas as pd\n",
    "import numpy as np"
   ]
  },
  {
   "cell_type": "code",
   "execution_count": 4,
   "id": "1c6d5033",
   "metadata": {},
   "outputs": [],
   "source": [
    "# Creamos un DataFrame con datos aleatorios\n",
    "np.random.seed(123)\n",
    "data = np.random.randn(100, 4)\n",
    "df = pd.DataFrame(data, columns=['Variable 1', 'Variable 2', 'Variable 3', 'Variable 4'])"
   ]
  },
  {
   "cell_type": "code",
   "execution_count": 5,
   "id": "a8c9eb2f",
   "metadata": {},
   "outputs": [],
   "source": [
    "# Agregamos una variable categórica\n",
    "categories = ['A', 'B', 'C', 'D']\n",
    "df['Categoría'] = np.random.choice(categories, 100)"
   ]
  },
  {
   "cell_type": "code",
   "execution_count": 6,
   "id": "4297b332",
   "metadata": {},
   "outputs": [],
   "source": [
    "# Guardamos el DataFrame como un archivo csv\n",
    "df.to_csv('datos.csv', index=False)"
   ]
  },
  {
   "cell_type": "markdown",
   "id": "40598f4c",
   "metadata": {},
   "source": [
    "\n",
    "En este ejemplo, primero generamos datos aleatorios utilizando la función numpy.random.randn(). Luego, creamos un DataFrame de Pandas con estos datos y le asignamos nombres a las columnas. Después, creamos una variable categórica utilizando la función numpy.random.choice() y la agregamos como una nueva columna al DataFrame. Finalmente, guardamos el DataFrame como un archivo csv utilizando la función pandas.DataFrame.to_csv(). El parámetro index=False evita que se escriba el índice del DataFrame en el archivo csv."
   ]
  },
  {
   "cell_type": "markdown",
   "id": "cc3e3dd1",
   "metadata": {},
   "source": [
    "## Análisis de Componentes Principales (PCA)"
   ]
  },
  {
   "cell_type": "code",
   "execution_count": 7,
   "id": "9aeb27be",
   "metadata": {},
   "outputs": [],
   "source": [
    "# Importamos las librerías necesarias\n",
    "import numpy as np\n",
    "import pandas as pd\n",
    "from sklearn.decomposition import PCA\n",
    "from sklearn.preprocessing import StandardScaler\n",
    "import matplotlib.pyplot as plt"
   ]
  },
  {
   "cell_type": "code",
   "execution_count": 8,
   "id": "3b45dc98",
   "metadata": {},
   "outputs": [],
   "source": [
    "# Cargamos los datos\n",
    "df = pd.read_csv('datos.csv')"
   ]
  },
  {
   "cell_type": "code",
   "execution_count": 9,
   "id": "36d5af1c",
   "metadata": {},
   "outputs": [],
   "source": [
    "# Separamos las variables numéricas\n",
    "X = df.select_dtypes(include=[np.number])"
   ]
  },
  {
   "cell_type": "code",
   "execution_count": 10,
   "id": "92c7a3ed",
   "metadata": {},
   "outputs": [],
   "source": [
    "# Estandarizamos los datos\n",
    "scaler = StandardScaler()\n",
    "X_scaled = scaler.fit_transform(X)"
   ]
  },
  {
   "cell_type": "code",
   "execution_count": 11,
   "id": "32b1338e",
   "metadata": {},
   "outputs": [],
   "source": [
    "# Creamos el objeto PCA\n",
    "pca = PCA(n_components=2)"
   ]
  },
  {
   "cell_type": "code",
   "execution_count": 12,
   "id": "a8ebd484",
   "metadata": {},
   "outputs": [
    {
     "data": {
      "text/html": [
       "<style>#sk-container-id-1 {color: black;background-color: white;}#sk-container-id-1 pre{padding: 0;}#sk-container-id-1 div.sk-toggleable {background-color: white;}#sk-container-id-1 label.sk-toggleable__label {cursor: pointer;display: block;width: 100%;margin-bottom: 0;padding: 0.3em;box-sizing: border-box;text-align: center;}#sk-container-id-1 label.sk-toggleable__label-arrow:before {content: \"▸\";float: left;margin-right: 0.25em;color: #696969;}#sk-container-id-1 label.sk-toggleable__label-arrow:hover:before {color: black;}#sk-container-id-1 div.sk-estimator:hover label.sk-toggleable__label-arrow:before {color: black;}#sk-container-id-1 div.sk-toggleable__content {max-height: 0;max-width: 0;overflow: hidden;text-align: left;background-color: #f0f8ff;}#sk-container-id-1 div.sk-toggleable__content pre {margin: 0.2em;color: black;border-radius: 0.25em;background-color: #f0f8ff;}#sk-container-id-1 input.sk-toggleable__control:checked~div.sk-toggleable__content {max-height: 200px;max-width: 100%;overflow: auto;}#sk-container-id-1 input.sk-toggleable__control:checked~label.sk-toggleable__label-arrow:before {content: \"▾\";}#sk-container-id-1 div.sk-estimator input.sk-toggleable__control:checked~label.sk-toggleable__label {background-color: #d4ebff;}#sk-container-id-1 div.sk-label input.sk-toggleable__control:checked~label.sk-toggleable__label {background-color: #d4ebff;}#sk-container-id-1 input.sk-hidden--visually {border: 0;clip: rect(1px 1px 1px 1px);clip: rect(1px, 1px, 1px, 1px);height: 1px;margin: -1px;overflow: hidden;padding: 0;position: absolute;width: 1px;}#sk-container-id-1 div.sk-estimator {font-family: monospace;background-color: #f0f8ff;border: 1px dotted black;border-radius: 0.25em;box-sizing: border-box;margin-bottom: 0.5em;}#sk-container-id-1 div.sk-estimator:hover {background-color: #d4ebff;}#sk-container-id-1 div.sk-parallel-item::after {content: \"\";width: 100%;border-bottom: 1px solid gray;flex-grow: 1;}#sk-container-id-1 div.sk-label:hover label.sk-toggleable__label {background-color: #d4ebff;}#sk-container-id-1 div.sk-serial::before {content: \"\";position: absolute;border-left: 1px solid gray;box-sizing: border-box;top: 0;bottom: 0;left: 50%;z-index: 0;}#sk-container-id-1 div.sk-serial {display: flex;flex-direction: column;align-items: center;background-color: white;padding-right: 0.2em;padding-left: 0.2em;position: relative;}#sk-container-id-1 div.sk-item {position: relative;z-index: 1;}#sk-container-id-1 div.sk-parallel {display: flex;align-items: stretch;justify-content: center;background-color: white;position: relative;}#sk-container-id-1 div.sk-item::before, #sk-container-id-1 div.sk-parallel-item::before {content: \"\";position: absolute;border-left: 1px solid gray;box-sizing: border-box;top: 0;bottom: 0;left: 50%;z-index: -1;}#sk-container-id-1 div.sk-parallel-item {display: flex;flex-direction: column;z-index: 1;position: relative;background-color: white;}#sk-container-id-1 div.sk-parallel-item:first-child::after {align-self: flex-end;width: 50%;}#sk-container-id-1 div.sk-parallel-item:last-child::after {align-self: flex-start;width: 50%;}#sk-container-id-1 div.sk-parallel-item:only-child::after {width: 0;}#sk-container-id-1 div.sk-dashed-wrapped {border: 1px dashed gray;margin: 0 0.4em 0.5em 0.4em;box-sizing: border-box;padding-bottom: 0.4em;background-color: white;}#sk-container-id-1 div.sk-label label {font-family: monospace;font-weight: bold;display: inline-block;line-height: 1.2em;}#sk-container-id-1 div.sk-label-container {text-align: center;}#sk-container-id-1 div.sk-container {/* jupyter's `normalize.less` sets `[hidden] { display: none; }` but bootstrap.min.css set `[hidden] { display: none !important; }` so we also need the `!important` here to be able to override the default hidden behavior on the sphinx rendered scikit-learn.org. See: https://github.com/scikit-learn/scikit-learn/issues/21755 */display: inline-block !important;position: relative;}#sk-container-id-1 div.sk-text-repr-fallback {display: none;}</style><div id=\"sk-container-id-1\" class=\"sk-top-container\"><div class=\"sk-text-repr-fallback\"><pre>PCA(n_components=2)</pre><b>In a Jupyter environment, please rerun this cell to show the HTML representation or trust the notebook. <br />On GitHub, the HTML representation is unable to render, please try loading this page with nbviewer.org.</b></div><div class=\"sk-container\" hidden><div class=\"sk-item\"><div class=\"sk-estimator sk-toggleable\"><input class=\"sk-toggleable__control sk-hidden--visually\" id=\"sk-estimator-id-1\" type=\"checkbox\" checked><label for=\"sk-estimator-id-1\" class=\"sk-toggleable__label sk-toggleable__label-arrow\">PCA</label><div class=\"sk-toggleable__content\"><pre>PCA(n_components=2)</pre></div></div></div></div></div>"
      ],
      "text/plain": [
       "PCA(n_components=2)"
      ]
     },
     "execution_count": 12,
     "metadata": {},
     "output_type": "execute_result"
    }
   ],
   "source": [
    "# Ajustamos el PCA a los datos estandarizados\n",
    "pca.fit(X_scaled)"
   ]
  },
  {
   "cell_type": "code",
   "execution_count": 13,
   "id": "37ee680b",
   "metadata": {},
   "outputs": [],
   "source": [
    "# Transformamos los datos a las componentes principales\n",
    "X_pca = pca.transform(X_scaled)"
   ]
  },
  {
   "cell_type": "code",
   "execution_count": 14,
   "id": "a77eccf1",
   "metadata": {},
   "outputs": [
    {
     "data": {
      "image/png": "[encoded data removed]",
      "text/plain": [
       "<Figure size 640x480 with 1 Axes>"
      ]
     },
     "metadata": {},
     "output_type": "display_data"
    }
   ],
   "source": [
    "# Creamos un gráfico para visualizar los resultados\n",
    "plt.scatter(X_pca[:, 0], X_pca[:, 1])\n",
    "plt.xlabel('Componente Principal 1')\n",
    "plt.ylabel('Componente Principal 2')\n",
    "plt.show()"
   ]
  },
  {
   "cell_type": "markdown",
   "id": "b869e91f",
   "metadata": {},
   "source": [
    "En este ejemplo, primero cargamos los datos y separamos las variables numéricas. Luego, estandarizamos los datos para que todas las variables tengan la misma escala. A continuación, creamos un objeto PCA y lo ajustamos a los datos estandarizados. Finalmente, transformamos los datos a las componentes principales y creamos un gráfico para visualizar los resultados.\n",
    "\n",
    "Este es solo un ejemplo básico de cómo realizar un análisis de componentes principales en Jupyter Notebook. Dependiendo de los datos y el objetivo del análisis, se pueden aplicar diferentes técnicas y visualizaciones para explorar los resultados."
   ]
  }
 ],
 "metadata": {
  "kernelspec": {
   "display_name": "Python 3 (ipykernel)",
   "language": "python",
   "name": "python3"
  },
  "language_info": {
   "codemirror_mode": {
    "name": "ipython",
    "version": 3
   },
   "file_extension": ".py",
   "mimetype": "text/x-python",
   "name": "python",
   "nbconvert_exporter": "python",
   "pygments_lexer": "ipython3",
   "version": "3.11.2"
  }
 },
 "nbformat": 4,
 "nbformat_minor": 5
}
