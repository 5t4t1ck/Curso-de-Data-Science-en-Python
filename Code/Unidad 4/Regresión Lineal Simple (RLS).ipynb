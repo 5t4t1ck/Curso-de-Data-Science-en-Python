{
 "cells": [
  {
   "cell_type": "markdown",
   "id": "5e3ac1e1",
   "metadata": {},
   "source": [
    "Para comenzar, es importante mencionar que Jupyter Notebook es una aplicación web que nos permite crear y compartir documentos que contienen código, ecuaciones, visualizaciones y texto explicativo. Por otro lado, Conda es un sistema de gestión de paquetes y ambientes para la programación en Python.\n",
    "\n",
    "En este cuaderno de Jupyter en Conda, se trabajará con el tema de Regresión Lineal Simple (RLS) y Múltiple (MLR), que son técnicas de análisis de datos utilizadas para modelar la relación entre una variable dependiente y una o más variables independientes.\n",
    "\n",
    "Instalación de librerías\n",
    "\n",
    "Primero, se debe instalar las librerías necesarias para trabajar con la regresión lineal en Python. Para ello, abrimos el terminal de Conda y ejecutamos los siguientes comandos:"
   ]
  },
  {
   "cell_type": "markdown",
   "id": "e7e10b18",
   "metadata": {},
   "source": [
    "conda install numpy\n",
    "conda install pandas\n",
    "conda install matplotlib\n",
    "conda install scikit-learn\n"
   ]
  },
  {
   "cell_type": "markdown",
   "id": "20e1cb5f",
   "metadata": {},
   "source": [
    "Importación de librerías\n",
    "\n",
    "Una vez instaladas las librerías, se importan las librerías necesarias en nuestro cuaderno de Jupyter."
   ]
  },
  {
   "cell_type": "code",
   "execution_count": 2,
   "id": "3ad7849f",
   "metadata": {},
   "outputs": [],
   "source": [
    "import numpy as np\n",
    "import pandas as pd\n",
    "import matplotlib.pyplot as plt\n",
    "from sklearn.linear_model import LinearRegression\n"
   ]
  },
  {
   "cell_type": "markdown",
   "id": "3280d431",
   "metadata": {},
   "source": [
    "Regresión Lineal Simple\n",
    "\n",
    "La regresión lineal simple es una técnica de análisis de datos que se utiliza para modelar la relación entre una variable dependiente y una variable independiente. En este caso, se utilizará un conjunto de datos que contiene información sobre la cantidad de horas estudiadas y la calificación obtenida en un examen.\n"
   ]
  },
  {
   "cell_type": "code",
   "execution_count": 3,
   "id": "969071c3",
   "metadata": {},
   "outputs": [
    {
     "data": {
      "image/png": "[encoded data removed]",
      "text/plain": [
       "<Figure size 640x480 with 1 Axes>"
      ]
     },
     "metadata": {},
     "output_type": "display_data"
    }
   ],
   "source": [
    "# Se crean los datos\n",
    "horas_estudio = np.array([2, 4, 6, 8, 10])\n",
    "calificacion = np.array([60, 70, 80, 90, 100])\n",
    "\n",
    "# Se grafican los datos\n",
    "plt.scatter(horas_estudio, calificacion)\n",
    "plt.xlabel('Horas de estudio')\n",
    "plt.ylabel('Calificación')\n",
    "plt.show()\n"
   ]
  },
  {
   "cell_type": "markdown",
   "id": "c8a34258",
   "metadata": {},
   "source": [
    "En el código anterior, se crean dos arreglos de numpy, uno con la cantidad de horas estudiadas y otro con la calificación obtenida en el examen. Luego, se grafican los datos utilizando la función scatter de matplotlib."
   ]
  },
  {
   "cell_type": "code",
   "execution_count": 4,
   "id": "2f1c37a2",
   "metadata": {},
   "outputs": [
    {
     "name": "stdout",
     "output_type": "stream",
     "text": [
      "La ecuación de la recta es: y = 49.99999999999999 + 5.000000000000001x\n"
     ]
    }
   ],
   "source": [
    "# Se crea el modelo de regresión lineal simple\n",
    "modelo_rl = LinearRegression()\n",
    "\n",
    "# Se ajusta el modelo a los datos\n",
    "modelo_rl.fit(horas_estudio.reshape(-1,1), calificacion)\n",
    "\n",
    "# Se obtienen los coeficientes\n",
    "coeficientes_rl = [modelo_rl.intercept_, modelo_rl.coef_[0]]\n",
    "\n",
    "# Se muestra la ecuación de la recta\n",
    "print(f'La ecuación de la recta es: y = {coeficientes_rl[0]} + {coeficientes_rl[1]}x')\n"
   ]
  },
  {
   "cell_type": "markdown",
   "id": "08ee6439",
   "metadata": {},
   "source": [
    "En el código anterior, se crea el modelo de regresión lineal simple utilizando la clase LinearRegression de scikit-learn. Luego, se ajusta el modelo a los datos utilizando la función fit y se obtienen los coeficientes de la recta. Finalmente, se muestra la ecuación de la recta utilizando la función print."
   ]
  }
 ],
 "metadata": {
  "kernelspec": {
   "display_name": "Python 3 (ipykernel)",
   "language": "python",
   "name": "python3"
  },
  "language_info": {
   "codemirror_mode": {
    "name": "ipython",
    "version": 3
   },
   "file_extension": ".py",
   "mimetype": "text/x-python",
   "name": "python",
   "nbconvert_exporter": "python",
   "pygments_lexer": "ipython3",
   "version": "3.10.10"
  }
 },
 "nbformat": 4,
 "nbformat_minor": 5
}
