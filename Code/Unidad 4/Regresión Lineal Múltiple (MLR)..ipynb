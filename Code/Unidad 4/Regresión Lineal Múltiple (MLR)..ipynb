{
 "cells": [
  {
   "cell_type": "markdown",
   "id": "2c1b007f",
   "metadata": {},
   "source": [
    "1. Importar las librerías necesarias: pandas, numpy, matplotlib y sklearn."
   ]
  },
  {
   "cell_type": "code",
   "execution_count": 4,
   "id": "3f729635",
   "metadata": {},
   "outputs": [],
   "source": [
    "# Paso 1: Importar las librerías necesarias\n",
    "import pandas as pd\n",
    "import numpy as np\n",
    "import matplotlib.pyplot as plt\n",
    "from sklearn.linear_model import LinearRegression\n",
    "from sklearn.model_selection import train_test_split\n",
    "from sklearn.metrics import r2_score, mean_squared_error"
   ]
  },
  {
   "cell_type": "markdown",
   "id": "427e9182",
   "metadata": {},
   "source": [
    "Cargar el conjunto de datos de entrada. En este ejemplo, utilizaremos un conjunto de datos de precios de viviendas en Boston. El conjunto de datos se encuentra en formato CSV y se puede cargar utilizando la función pd.read_csv() de pandas."
   ]
  },
  {
   "cell_type": "code",
   "execution_count": 5,
   "id": "514eb4f8",
   "metadata": {},
   "outputs": [],
   "source": [
    "# Paso 2: Cargar el conjunto de datos\n",
    "data = pd.read_csv(\"https://raw.githubusercontent.com/selva86/datasets/master/BostonHousing.csv\")"
   ]
  },
  {
   "cell_type": "markdown",
   "id": "80ec4419",
   "metadata": {},
   "source": [
    "Preparar los datos: En este paso, se debe dividir el conjunto de datos en variables dependientes (variables predictoras) y variables independientes (variable objetivo). En el ejemplo de precios de viviendas en Boston, la variable objetivo es el precio de la vivienda y las variables predictoras son los otros atributos del conjunto de datos."
   ]
  },
  {
   "cell_type": "code",
   "execution_count": 6,
   "id": "f5768aea",
   "metadata": {},
   "outputs": [],
   "source": [
    "# Paso 3: Preparar los datos\n",
    "X = data.drop('medv', axis=1)\n",
    "y = data['medv']"
   ]
  },
  {
   "cell_type": "markdown",
   "id": "35f232a8",
   "metadata": {},
   "source": [
    "Dividir el conjunto de datos en conjuntos de entrenamiento y prueba. Utilizaremos la función train_test_split() de sklearn para dividir el conjunto de datos en un conjunto de entrenamiento y un conjunto de prueba."
   ]
  },
  {
   "cell_type": "code",
   "execution_count": 7,
   "id": "38967bba",
   "metadata": {},
   "outputs": [],
   "source": [
    "# Paso 4: Dividir el conjunto de datos en conjuntos de entrenamiento y prueba\n",
    "X_train, X_test, y_train, y_test = train_test_split(X, y, test_size=0.2, random_state=0)"
   ]
  },
  {
   "cell_type": "markdown",
   "id": "ea6656f9",
   "metadata": {},
   "source": [
    "Crear un objeto de Regresión Lineal Múltiple (MLR). En este ejemplo, utilizaremos la clase LinearRegression() de sklearn para crear el objeto de Regresión Lineal Múltiple"
   ]
  },
  {
   "cell_type": "code",
   "execution_count": 8,
   "id": "682cbb66",
   "metadata": {},
   "outputs": [],
   "source": [
    "# Paso 5: Crear un objeto de Regresión Lineal Múltiple\n",
    "regressor = LinearRegression()"
   ]
  },
  {
   "cell_type": "markdown",
   "id": "1bb4b4ac",
   "metadata": {},
   "source": [
    "Entrenar el modelo utilizando el conjunto de entrenamiento. Utilizaremos el método fit() del objeto de Regresión Lineal Múltiple para entrenar el modelo."
   ]
  },
  {
   "cell_type": "code",
   "execution_count": 9,
   "id": "ba77ae41",
   "metadata": {},
   "outputs": [
    {
     "data": {
      "text/html": [
       "<style>#sk-container-id-1 {color: black;background-color: white;}#sk-container-id-1 pre{padding: 0;}#sk-container-id-1 div.sk-toggleable {background-color: white;}#sk-container-id-1 label.sk-toggleable__label {cursor: pointer;display: block;width: 100%;margin-bottom: 0;padding: 0.3em;box-sizing: border-box;text-align: center;}#sk-container-id-1 label.sk-toggleable__label-arrow:before {content: \"▸\";float: left;margin-right: 0.25em;color: #696969;}#sk-container-id-1 label.sk-toggleable__label-arrow:hover:before {color: black;}#sk-container-id-1 div.sk-estimator:hover label.sk-toggleable__label-arrow:before {color: black;}#sk-container-id-1 div.sk-toggleable__content {max-height: 0;max-width: 0;overflow: hidden;text-align: left;background-color: #f0f8ff;}#sk-container-id-1 div.sk-toggleable__content pre {margin: 0.2em;color: black;border-radius: 0.25em;background-color: #f0f8ff;}#sk-container-id-1 input.sk-toggleable__control:checked~div.sk-toggleable__content {max-height: 200px;max-width: 100%;overflow: auto;}#sk-container-id-1 input.sk-toggleable__control:checked~label.sk-toggleable__label-arrow:before {content: \"▾\";}#sk-container-id-1 div.sk-estimator input.sk-toggleable__control:checked~label.sk-toggleable__label {background-color: #d4ebff;}#sk-container-id-1 div.sk-label input.sk-toggleable__control:checked~label.sk-toggleable__label {background-color: #d4ebff;}#sk-container-id-1 input.sk-hidden--visually {border: 0;clip: rect(1px 1px 1px 1px);clip: rect(1px, 1px, 1px, 1px);height: 1px;margin: -1px;overflow: hidden;padding: 0;position: absolute;width: 1px;}#sk-container-id-1 div.sk-estimator {font-family: monospace;background-color: #f0f8ff;border: 1px dotted black;border-radius: 0.25em;box-sizing: border-box;margin-bottom: 0.5em;}#sk-container-id-1 div.sk-estimator:hover {background-color: #d4ebff;}#sk-container-id-1 div.sk-parallel-item::after {content: \"\";width: 100%;border-bottom: 1px solid gray;flex-grow: 1;}#sk-container-id-1 div.sk-label:hover label.sk-toggleable__label {background-color: #d4ebff;}#sk-container-id-1 div.sk-serial::before {content: \"\";position: absolute;border-left: 1px solid gray;box-sizing: border-box;top: 0;bottom: 0;left: 50%;z-index: 0;}#sk-container-id-1 div.sk-serial {display: flex;flex-direction: column;align-items: center;background-color: white;padding-right: 0.2em;padding-left: 0.2em;position: relative;}#sk-container-id-1 div.sk-item {position: relative;z-index: 1;}#sk-container-id-1 div.sk-parallel {display: flex;align-items: stretch;justify-content: center;background-color: white;position: relative;}#sk-container-id-1 div.sk-item::before, #sk-container-id-1 div.sk-parallel-item::before {content: \"\";position: absolute;border-left: 1px solid gray;box-sizing: border-box;top: 0;bottom: 0;left: 50%;z-index: -1;}#sk-container-id-1 div.sk-parallel-item {display: flex;flex-direction: column;z-index: 1;position: relative;background-color: white;}#sk-container-id-1 div.sk-parallel-item:first-child::after {align-self: flex-end;width: 50%;}#sk-container-id-1 div.sk-parallel-item:last-child::after {align-self: flex-start;width: 50%;}#sk-container-id-1 div.sk-parallel-item:only-child::after {width: 0;}#sk-container-id-1 div.sk-dashed-wrapped {border: 1px dashed gray;margin: 0 0.4em 0.5em 0.4em;box-sizing: border-box;padding-bottom: 0.4em;background-color: white;}#sk-container-id-1 div.sk-label label {font-family: monospace;font-weight: bold;display: inline-block;line-height: 1.2em;}#sk-container-id-1 div.sk-label-container {text-align: center;}#sk-container-id-1 div.sk-container {/* jupyter's `normalize.less` sets `[hidden] { display: none; }` but bootstrap.min.css set `[hidden] { display: none !important; }` so we also need the `!important` here to be able to override the default hidden behavior on the sphinx rendered scikit-learn.org. See: https://github.com/scikit-learn/scikit-learn/issues/21755 */display: inline-block !important;position: relative;}#sk-container-id-1 div.sk-text-repr-fallback {display: none;}</style><div id=\"sk-container-id-1\" class=\"sk-top-container\"><div class=\"sk-text-repr-fallback\"><pre>LinearRegression()</pre><b>In a Jupyter environment, please rerun this cell to show the HTML representation or trust the notebook. <br />On GitHub, the HTML representation is unable to render, please try loading this page with nbviewer.org.</b></div><div class=\"sk-container\" hidden><div class=\"sk-item\"><div class=\"sk-estimator sk-toggleable\"><input class=\"sk-toggleable__control sk-hidden--visually\" id=\"sk-estimator-id-1\" type=\"checkbox\" checked><label for=\"sk-estimator-id-1\" class=\"sk-toggleable__label sk-toggleable__label-arrow\">LinearRegression</label><div class=\"sk-toggleable__content\"><pre>LinearRegression()</pre></div></div></div></div></div>"
      ],
      "text/plain": [
       "LinearRegression()"
      ]
     },
     "execution_count": 9,
     "metadata": {},
     "output_type": "execute_result"
    }
   ],
   "source": [
    "# Paso 6: Entrenar el modelo utilizando el conjunto de entrenamiento\n",
    "regressor.fit(X_train, y_train)"
   ]
  },
  {
   "cell_type": "markdown",
   "id": "210c6d55",
   "metadata": {},
   "source": [
    "Realizar predicciones utilizando el conjunto de prueba. Utilizaremos el método predict() del objeto de Regresión Lineal Múltiple para hacer predicciones utilizando el conjunto de prueba."
   ]
  },
  {
   "cell_type": "code",
   "execution_count": 10,
   "id": "d1b82b4a",
   "metadata": {},
   "outputs": [],
   "source": [
    "# Paso 7: Realizar predicciones utilizando el conjunto de prueba\n",
    "y_pred = regressor.predict(X_test)"
   ]
  },
  {
   "cell_type": "markdown",
   "id": "b51e15b5",
   "metadata": {},
   "source": [
    "Evaluar el modelo. Utilizaremos varias métricas, como el coeficiente de determinación R² y el error cuadrático medio (MSE) para evaluar el modelo."
   ]
  },
  {
   "cell_type": "code",
   "execution_count": 11,
   "id": "92eef803",
   "metadata": {},
   "outputs": [
    {
     "name": "stdout",
     "output_type": "stream",
     "text": [
      "R²: 0.5892223849182514\n",
      "MSE: 33.44897999767649\n"
     ]
    }
   ],
   "source": [
    "# Paso 8: Evaluar el modelo\n",
    "print('R²:', r2_score(y_test, y_pred))\n",
    "print('MSE:', mean_squared_error(y_test, y_pred))"
   ]
  },
  {
   "cell_type": "markdown",
   "id": "4de64dd8",
   "metadata": {},
   "source": [
    "En este ejemplo, se ha utilizado la librería pandas para cargar el conjunto de datos de precios de viviendas en Boston desde una URL. Luego, se ha dividido el conjunto de datos en variables"
   ]
  }
 ],
 "metadata": {
  "kernelspec": {
   "display_name": "Python 3 (ipykernel)",
   "language": "python",
   "name": "python3"
  },
  "language_info": {
   "codemirror_mode": {
    "name": "ipython",
    "version": 3
   },
   "file_extension": ".py",
   "mimetype": "text/x-python",
   "name": "python",
   "nbconvert_exporter": "python",
   "pygments_lexer": "ipython3",
   "version": "3.11.2"
  }
 },
 "nbformat": 4,
 "nbformat_minor": 5
}
