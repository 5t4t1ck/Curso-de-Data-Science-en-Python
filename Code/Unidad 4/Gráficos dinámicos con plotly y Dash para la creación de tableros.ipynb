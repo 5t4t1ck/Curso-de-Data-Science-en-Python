{
 "cells": [
  {
   "cell_type": "markdown",
   "id": "c8345037",
   "metadata": {},
   "source": [
    "# Gráficos dinámicos con plotly:\n",
    "\n",
    "Plotly es una biblioteca gráfica interactiva de Python que permite crear visualizaciones de datos dinámicos y personalizados. Para empezar a utilizar Plotly, se debe instalar la biblioteca utilizando el comando pip install plotly.\n",
    "\n",
    "Para crear un gráfico dinámico con Plotly, primero importamos la biblioteca y los datos que queremos graficar. Luego, creamos una figura y especificamos el tipo de gráfico que queremos. Finalmente, configuramos el diseño y el estilo del gráfico y lo mostramos en pantalla.\n",
    "\n",
    "A continuación, se muestra un ejemplo de cómo crear un gráfico de barras dinámico utilizando Plotly:"
   ]
  },
  {
   "cell_type": "code",
   "execution_count": 7,
   "id": "d1511a12",
   "metadata": {},
   "outputs": [
    {
     "data": {
      "text/plain": [
       "\"\\nimport plotly.graph_objects as go\\n\\n# Datos\\nx = ['Manzanas', 'Naranjas', 'Plátanos', 'Bananas', 'Fresas']\\ny = [3, 2, 4, 15, 10]\\n\\n# Crear figura\\nfig = go.Figure(data=[go.Bar(x=x, y=y)])\\n\\n# Configurar diseño y estilo\\nfig.update_layout(title='Ventas de frutas',\\n                  xaxis_title='Fruta',\\n                  yaxis_title='Ventas')\\n\\n# Mostrar gráfico\\nfig.show()\\n\""
      ]
     },
     "execution_count": 7,
     "metadata": {},
     "output_type": "execute_result"
    }
   ],
   "source": [
    "\"\"\"\n",
    "import plotly.graph_objects as go\n",
    "\n",
    "# Datos\n",
    "x = ['Manzanas', 'Naranjas', 'Plátanos', 'Bananas', 'Fresas']\n",
    "y = [3, 2, 4, 15, 10]\n",
    "\n",
    "# Crear figura\n",
    "fig = go.Figure(data=[go.Bar(x=x, y=y)])\n",
    "\n",
    "# Configurar diseño y estilo\n",
    "fig.update_layout(title='Ventas de frutas',\n",
    "                  xaxis_title='Fruta',\n",
    "                  yaxis_title='Ventas')\n",
    "\n",
    "# Mostrar gráfico\n",
    "fig.show()\n",
    "\"\"\""
   ]
  },
  {
   "cell_type": "markdown",
   "id": "3ca2d04f",
   "metadata": {},
   "source": [
    "# Dash para la creación de tableros\n",
    "\n",
    "Dash es un framework de Python utilizado para crear aplicaciones web interactivas y visualizaciones de datos. Es fácil de usar y permite crear visualizaciones de datos y aplicaciones de forma rápida y sencilla. En este ejemplo, crearemos un tablero sencillo que muestra una gráfica y un filtro de rango para el eje x.\n",
    "\n",
    "Para empezar, debemos instalar el paquete dash y las bibliotecas adicionales que vamos a necesitar. Para ello, abrimos una terminal y ejecutamos los siguientes comandos:"
   ]
  },
  {
   "cell_type": "code",
   "execution_count": 8,
   "id": "5a6ed862",
   "metadata": {},
   "outputs": [
    {
     "name": "stdout",
     "output_type": "stream",
     "text": [
      "Requirement already satisfied: dash in c:\\users\\statick\\.conda\\envs\\course2\\lib\\site-packages (2.9.2)\n",
      "Requirement already satisfied: dash-core-components==2.0.0 in c:\\users\\statick\\.conda\\envs\\course2\\lib\\site-packages (from dash) (2.0.0)\n",
      "Collecting dash-table==5.0.0\n",
      "  Downloading dash_table-5.0.0-py3-none-any.whl (3.9 kB)\n",
      "Requirement already satisfied: plotly>=5.0.0 in c:\\users\\statick\\.conda\\envs\\course2\\lib\\site-packages (from dash) (5.9.0)\n",
      "Requirement already satisfied: dash-html-components==2.0.0 in c:\\users\\statick\\.conda\\envs\\course2\\lib\\site-packages (from dash) (2.0.0)\n",
      "Requirement already satisfied: Flask>=1.0.4 in c:\\users\\statick\\.conda\\envs\\course2\\lib\\site-packages (from dash) (2.2.2)\n",
      "Requirement already satisfied: Jinja2>=3.0 in c:\\users\\statick\\.conda\\envs\\course2\\lib\\site-packages (from Flask>=1.0.4->dash) (3.1.2)\n",
      "Requirement already satisfied: itsdangerous>=2.0 in c:\\users\\statick\\.conda\\envs\\course2\\lib\\site-packages (from Flask>=1.0.4->dash) (2.0.1)\n",
      "Requirement already satisfied: Werkzeug>=2.2.2 in c:\\users\\statick\\.conda\\envs\\course2\\lib\\site-packages (from Flask>=1.0.4->dash) (2.2.3)\n",
      "Requirement already satisfied: click>=8.0 in c:\\users\\statick\\.conda\\envs\\course2\\lib\\site-packages (from Flask>=1.0.4->dash) (8.0.4)\n",
      "Requirement already satisfied: tenacity>=6.2.0 in c:\\users\\statick\\.conda\\envs\\course2\\lib\\site-packages (from plotly>=5.0.0->dash) (8.0.1)\n",
      "Requirement already satisfied: colorama in c:\\users\\statick\\.conda\\envs\\course2\\lib\\site-packages (from click>=8.0->Flask>=1.0.4->dash) (0.4.6)\n",
      "Requirement already satisfied: MarkupSafe>=2.0 in c:\\users\\statick\\.conda\\envs\\course2\\lib\\site-packages (from Jinja2>=3.0->Flask>=1.0.4->dash) (2.1.1)\n",
      "Installing collected packages: dash-table\n",
      "Successfully installed dash-table-5.0.0\n"
     ]
    }
   ],
   "source": [
    "!pip install dash"
   ]
  },
  {
   "cell_type": "markdown",
   "id": "d8922901",
   "metadata": {},
   "source": [
    "También puede instalarlo utilizando Anaconda con el siguiente comando:\n",
    "\n",
    "conda install -c conda-forge dash\n"
   ]
  },
  {
   "cell_type": "markdown",
   "id": "f5eabc1e",
   "metadata": {},
   "source": [
    "    Importar las bibliotecas necesarias:"
   ]
  },
  {
   "cell_type": "code",
   "execution_count": 9,
   "id": "03de9423",
   "metadata": {},
   "outputs": [],
   "source": [
    "import dash\n",
    "import dash_html_components as html\n",
    "import dash_core_components as dcc\n",
    "from dash.dependencies import Input, Output"
   ]
  },
  {
   "cell_type": "markdown",
   "id": "d5a5eca9",
   "metadata": {},
   "source": [
    "    Inicializar la aplicación Dash:"
   ]
  },
  {
   "cell_type": "code",
   "execution_count": 10,
   "id": "204173e8",
   "metadata": {},
   "outputs": [],
   "source": [
    "app = dash.Dash()\n"
   ]
  },
  {
   "cell_type": "markdown",
   "id": "76c19d70",
   "metadata": {},
   "source": [
    "    Crear un diseño básico de la página:"
   ]
  },
  {
   "cell_type": "code",
   "execution_count": 11,
   "id": "975c8a88",
   "metadata": {},
   "outputs": [],
   "source": [
    "app.layout = html.Div(children=[\n",
    "    html.H1(children='Mi tablero'),\n",
    "\n",
    "    html.Div(children='''\n",
    "        Aquí puede escribir una descripción.\n",
    "    '''),\n",
    "\n",
    "    dcc.Graph(\n",
    "        id='example-graph',\n",
    "        figure={\n",
    "            'data': [\n",
    "                {'x': [1, 2, 3], 'y': [4, 1, 2], 'type': 'bar', 'name': 'Grupo 1'},\n",
    "                {'x': [1, 2, 3], 'y': [2, 4, 5], 'type': 'bar', 'name': 'Grupo 2'},\n",
    "            ],\n",
    "            'layout': {\n",
    "                'title': 'Gráfico de barras'\n",
    "            }\n",
    "        }\n",
    "    )\n",
    "])\n"
   ]
  },
  {
   "cell_type": "markdown",
   "id": "57c190b4",
   "metadata": {},
   "source": [
    "    Agregar interactividad al tablero:"
   ]
  },
  {
   "cell_type": "code",
   "execution_count": 12,
   "id": "147674d4",
   "metadata": {},
   "outputs": [],
   "source": [
    "@app.callback(\n",
    "    Output(component_id='example-graph', component_property='figure'),\n",
    "    Input(component_id='dropdown', component_property='value')\n",
    ")\n",
    "def update_graph(value):\n",
    "    if value == 'Grupo 1':\n",
    "        data = {'x': [1, 2, 3], 'y': [4, 1, 2], 'type': 'bar', 'name': 'Grupo 1'}\n",
    "    else:\n",
    "        data = {'x': [1, 2, 3], 'y': [2, 4, 5], 'type': 'bar', 'name': 'Grupo 2'}\n",
    "\n",
    "    return {'data': [data], 'layout': {'title': 'Gráfico de barras'}}\n"
   ]
  },
  {
   "cell_type": "markdown",
   "id": "633cc515",
   "metadata": {},
   "source": [
    "    Ejecutar la aplicación:"
   ]
  },
  {
   "cell_type": "code",
   "execution_count": 13,
   "id": "b67fdca0",
   "metadata": {},
   "outputs": [
    {
     "name": "stdout",
     "output_type": "stream",
     "text": [
      "Dash is running on http://127.0.0.1:8050/\n",
      "\n",
      " * Serving Flask app '__main__'\n",
      " * Debug mode: off\n"
     ]
    }
   ],
   "source": [
    "if __name__ == '__main__':\n",
    "    app.run_server(debug=False)\n"
   ]
  },
  {
   "cell_type": "markdown",
   "id": "4729b838",
   "metadata": {},
   "source": [
    "Este es un ejemplo básico de un tablero creado con Dash. La función callback se utiliza para hacer que el gráfico sea interactivo. En este caso, el usuario puede seleccionar un grupo en un menú desplegable y el gráfico se actualizará automáticamente con los datos correspondientes.\n",
    "\n",
    "Para ejecutar el código, simplemente copie y pegue el código anterior en un archivo de Python y ejecútelo. Se abrirá un servidor local y podrá acceder al tablero desde su navegador web."
   ]
  }
 ],
 "metadata": {
  "kernelspec": {
   "display_name": "Python 3 (ipykernel)",
   "language": "python",
   "name": "python3"
  },
  "language_info": {
   "codemirror_mode": {
    "name": "ipython",
    "version": 3
   },
   "file_extension": ".py",
   "mimetype": "text/x-python",
   "name": "python",
   "nbconvert_exporter": "python",
   "pygments_lexer": "ipython3",
   "version": "3.10.10"
  }
 },
 "nbformat": 4,
 "nbformat_minor": 5
}
