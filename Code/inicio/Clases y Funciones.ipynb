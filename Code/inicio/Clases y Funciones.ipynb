{
 "cells": [
  {
   "cell_type": "markdown",
   "id": "baaa6052",
   "metadata": {},
   "source": [
    "# Funciones\n"
   ]
  },
  {
   "cell_type": "markdown",
   "id": "4c16db1c",
   "metadata": {},
   "source": [
    "En Python, una función es un bloque de código que realiza una tarea específica y puede ser llamada varias veces en un programa. Las funciones en Python se definen utilizando la palabra clave \"def\" seguida del nombre de la función, los parámetros entre paréntesis y el cuerpo de la función indentado. El valor de retorno de una función se especifica utilizando la palabra clave \"return\".\n"
   ]
  },
  {
   "cell_type": "code",
   "execution_count": 6,
   "id": "3fdf1cd6",
   "metadata": {},
   "outputs": [
    {
     "name": "stdout",
     "output_type": "stream",
     "text": [
      "5\n"
     ]
    }
   ],
   "source": [
    "#Ejemplo\n",
    "#Función que suma dos números:\n",
    "\n",
    "def suma(num1, num2):\n",
    "    resultado = num1 + num2\n",
    "    return resultado\n",
    "\n",
    "x = 2\n",
    "y = 3\n",
    "z = suma(x, y)\n",
    "print(z) # salida: 5"
   ]
  },
  {
   "cell_type": "markdown",
   "id": "ed61b3c5",
   "metadata": {},
   "source": [
    "En este ejemplo, la función \"suma\" toma dos números como argumentos, los suma y devuelve el resultado. Luego, se definen las variables \"x\" y \"y\" y se llama a la función \"suma\" pasándoles como argumentos \"x\" e \"y\". Finalmente, se imprime el resultado de la función \"suma\".\n",
    "\n",
    "    "
   ]
  },
  {
   "cell_type": "markdown",
   "id": "ec58f43d",
   "metadata": {},
   "source": [
    "En el segundo ejemplo, el archivo mi_modulo.py contiene la definición de una función llamada suma() que se puede utilizar en el archivo que lo importa. Es importante asegurarse de que el archivo del módulo esté en el mismo directorio que el archivo que lo importa, o en una ubicación que se pueda encontrar utilizando la variable de entorno PYTHONPATH."
   ]
  },
  {
   "cell_type": "code",
   "execution_count": 7,
   "id": "62a2ef27",
   "metadata": {},
   "outputs": [
    {
     "name": "stdout",
     "output_type": "stream",
     "text": [
      "78.53981633974483\n"
     ]
    }
   ],
   "source": [
    "#Ejemplo\n",
    "#Función que calcula el área de un círculo:\n",
    "\n",
    "import math\n",
    "\n",
    "def area_circulo(radio):\n",
    "    area = math.pi * radio ** 2\n",
    "    return area\n",
    "\n",
    "r = 5\n",
    "a = area_circulo(r)\n",
    "print(a) # salida: 78.53981633974483"
   ]
  },
  {
   "cell_type": "markdown",
   "id": "8eb644b2",
   "metadata": {},
   "source": [
    "En este ejemplo, la función \"area_circulo\" toma el radio de un círculo como argumento, calcula su área utilizando la constante matemática pi y devuelve el resultado. Se importa el módulo \"math\" para acceder a la constante pi. Luego, se define la variable \"r\" como el radio del círculo y se llama a la función \"area_circulo\" pasándole \"r\" como argumento. Finalmente, se imprime el resultado de la función \"area_circulo\"."
   ]
  },
  {
   "cell_type": "markdown",
   "id": "4a4fa72e",
   "metadata": {},
   "source": [
    "# Importación de Módulos"
   ]
  },
  {
   "cell_type": "markdown",
   "id": "b7f00294",
   "metadata": {},
   "source": [
    "En Python, un módulo es un archivo que contiene código Python que puede ser importado en otro archivo Python para su uso. Los módulos son una forma útil de organizar y reutilizar código en diferentes programas.\n",
    "\n",
    "Para importar un módulo en Python, se utiliza la instrucción import. El nombre del módulo a importar se coloca después de la palabra clave import, y puede ser el nombre de un módulo integrado en Python o el nombre de un módulo creado por el usuario.\n",
    "\n",
    "Aquí hay dos ejemplos de cómo se importan módulos en Python:"
   ]
  },
  {
   "cell_type": "code",
   "execution_count": null,
   "id": "4d5f947d",
   "metadata": {},
   "outputs": [],
   "source": [
    "# Importar el módulo math, que contiene funciones matemáticas:\n",
    "\n",
    "import math\n",
    "\n",
    "# Utilizar la función sin() del módulo math\n",
    "x = math.sin(0.5)\n",
    "print(x)"
   ]
  },
  {
   "cell_type": "markdown",
   "id": "7811f09b",
   "metadata": {},
   "source": [
    "Importar un módulo llamado mi_modulo que se encuentra en el mismo directorio que el archivo actual:"
   ]
  },
  {
   "cell_type": "code",
   "execution_count": null,
   "id": "4f665739",
   "metadata": {},
   "outputs": [],
   "source": [
    "import mi_modulo\n",
    "\n",
    "# Utilizar la función suma() del módulo mi_modulo\n",
    "x = mi_modulo.suma(2, 3)\n",
    "print(x)"
   ]
  },
  {
   "cell_type": "markdown",
   "id": "5abcf336",
   "metadata": {},
   "source": [
    "## Ejercicios"
   ]
  },
  {
   "cell_type": "markdown",
   "id": "901c5dc2",
   "metadata": {},
   "source": [
    "1. Crear una función que calcule la media de una lista de números."
   ]
  },
  {
   "cell_type": "code",
   "execution_count": null,
   "id": "225a3d44",
   "metadata": {},
   "outputs": [],
   "source": []
  },
  {
   "cell_type": "markdown",
   "id": "896f504e",
   "metadata": {},
   "source": [
    "2. Crear una función que calcule el factorial de un número.\n",
    "\n",
    "La fórmula para calcular el factorial de un número es la siguiente:\n",
    "\n",
    "n! = n * (n-1) * (n-2) * ... * 2 * 1\n",
    "\n",
    "donde \"n\" es el número del cual se quiere calcular el factorial y \"!\" es el símbolo de factorial.\n",
    "\n",
    "Por ejemplo, el factorial de 5 se calcularía de la siguiente manera:\n",
    "\n",
    "5! = 5 * 4 * 3 * 2 * 1 = 120\n"
   ]
  },
  {
   "cell_type": "code",
   "execution_count": null,
   "id": "bf70e62c",
   "metadata": {},
   "outputs": [],
   "source": []
  },
  {
   "cell_type": "markdown",
   "id": "db7964f1",
   "metadata": {},
   "source": [
    "3. Crear una función que calcule el número de combinaciones posibles de n elementos tomados de k en k.\n",
    "\n",
    "C(n, k) = n! / (k! * (n-k)!)\n",
    "\n",
    "Donde \"n\" es el número total de elementos, \"k\" es el número de elementos tomados en cada combinación y \"!\" es el símbolo de factorial."
   ]
  },
  {
   "cell_type": "code",
   "execution_count": null,
   "id": "174d0e5d",
   "metadata": {},
   "outputs": [],
   "source": []
  },
  {
   "cell_type": "markdown",
   "id": "2ef202dd",
   "metadata": {},
   "source": [
    "4. Crear una clase \"Punto\" que tenga como atributos las coordenadas x e y de un punto y que tenga un método para calcular la distancia entre dos puntos."
   ]
  },
  {
   "cell_type": "code",
   "execution_count": null,
   "id": "cfb41e93",
   "metadata": {},
   "outputs": [],
   "source": []
  },
  {
   "cell_type": "markdown",
   "id": "77c545c2",
   "metadata": {},
   "source": [
    "5. Crear una función llamada \"calculate_correlation\" que tome dos listas de números como entrada y calcule el coeficiente de correlación de Pearson entre ellas. Utiliza la biblioteca NumPy para hacer el cálculo.\n",
    "\n",
    "La fórmula que se aplica en este ejercicio para calcular el coeficiente de correlación de Pearson es la siguiente:\n",
    "\n",
    "r = (n * sum(xy) - sum(x) * sum(y)) / sqrt((nsum(x**2) - sum(x)2) * (n*sum(y2) - sum(y)**2))\n",
    "\n",
    "donde \"x\" y \"y\" son las dos listas de números de entrada, \"n\" es la longitud de las listas y \"sum()\" es la función de suma."
   ]
  },
  {
   "cell_type": "code",
   "execution_count": null,
   "id": "ed353cd7",
   "metadata": {},
   "outputs": [],
   "source": []
  },
  {
   "cell_type": "markdown",
   "id": "45c95e40",
   "metadata": {},
   "source": [
    "6. Crear una función llamada \"calculate_average\" que tome una lista de números como entrada y calcule la media aritmética de los números en la lista. Utiliza la biblioteca statistics para hacer el cálculo.\n",
    "\n",
    "La fórmula que se aplica en este ejercicio para calcular la media aritmética es la siguiente:\n",
    "\n",
    "media = sum(x) / n\n",
    "\n",
    "donde \"x\" es la lista de números de entrada, \"n\" es la longitud de la lista y \"sum()\" es la función de suma."
   ]
  },
  {
   "cell_type": "code",
   "execution_count": null,
   "id": "b641a895",
   "metadata": {},
   "outputs": [],
   "source": []
  },
  {
   "cell_type": "markdown",
   "id": "90e31d45",
   "metadata": {},
   "source": [
    "7. Análisis de texto Crear una función que permita contar la frecuencia de aparición de palabras en un texto y devolver un diccionario con las palabras y su frecuencia.\n",
    "\n",
    "Para contar la frecuencia de aparición de palabras en un texto, se debe seguir los siguientes pasos:\n",
    "\n",
    "    Separar el texto en palabras individuales.\n",
    "    Eliminar las palabras vacías (como \"el\", \"la\", \"y\", etc.).\n",
    "    Contar la frecuencia de cada palabra.\n",
    "\n",
    "La fórmula que se aplica para contar la frecuencia de aparición de palabras es la siguiente:\n",
    "\n",
    "frecuencia = número de veces que aparece una palabra / número total de palabras en el texto\n",
    "\n"
   ]
  },
  {
   "cell_type": "code",
   "execution_count": null,
   "id": "137170f6",
   "metadata": {},
   "outputs": [],
   "source": []
  },
  {
   "cell_type": "markdown",
   "id": "99b48265",
   "metadata": {},
   "source": [
    "8. Análisis de datos Crear una función que permita calcular la correlación entre dos listas de datos utilizando el coeficiente de correlación de Pearson.\n",
    "\n",
    "El coeficiente de correlación de Pearson es una medida de la correlación lineal entre dos variables, y se calcula utilizando la siguiente fórmula:\n",
    "\n",
    "r = cov(X, Y) / (std(X) * std(Y))\n",
    "\n",
    "donde \"cov\" es la covarianza entre las dos variables, \"std\" es la desviación estándar y \"r\" es el coeficiente de correlación de Pearson."
   ]
  },
  {
   "cell_type": "code",
   "execution_count": null,
   "id": "a3c93287",
   "metadata": {},
   "outputs": [],
   "source": []
  },
  {
   "cell_type": "markdown",
   "id": "8ae40331",
   "metadata": {},
   "source": [
    "# Clases\n"
   ]
  },
  {
   "cell_type": "markdown",
   "id": "f38c2514",
   "metadata": {},
   "source": [
    "En Python, una clase es una plantilla para crear objetos, que define un conjunto de atributos y métodos que tienen los objetos creados a partir de ella. Los objetos se crean a partir de la clase utilizando la sintaxis nombre_objeto = nombre_clase(argumentos).\n",
    "\n",
    "Aquí hay dos ejemplos básicos de cómo se pueden usar las clases en Python:"
   ]
  },
  {
   "cell_type": "code",
   "execution_count": 8,
   "id": "65f2f24b",
   "metadata": {},
   "outputs": [
    {
     "name": "stdout",
     "output_type": "stream",
     "text": [
      "78.53999999999999\n",
      "31.416\n"
     ]
    }
   ],
   "source": [
    "# Ejemplo\n",
    "# Clase para modelar un círculo\n",
    "'''La siguiente clase representa un círculo en Python, donde se define el radio del círculo como un atributo \n",
    "y el área y el perímetro como métodos:'''\n",
    "\n",
    "class Circulo:\n",
    "    def __init__(self, radio):\n",
    "        self.radio = radio\n",
    "\n",
    "    def area(self):\n",
    "        return 3.1416 * self.radio ** 2\n",
    "\n",
    "    def perimetro(self):\n",
    "        return 2 * 3.1416 * self.radio\n",
    "\n",
    "# Para crear un objeto círculo, simplemente instanciamos la clase y pasamos el radio como argumento:\n",
    "\n",
    "mi_circulo = Circulo(5)\n",
    "print(mi_circulo.area())      # salida: 78.54\n",
    "print(mi_circulo.perimetro()) # salida: 31.416"
   ]
  },
  {
   "cell_type": "code",
   "execution_count": 9,
   "id": "8e810277",
   "metadata": {},
   "outputs": [
    {
     "name": "stdout",
     "output_type": "stream",
     "text": [
      "1300\n"
     ]
    }
   ],
   "source": [
    "# Ejemplo\n",
    "# Clase para modelar una cuenta bancaria\n",
    "'''La siguiente clase representa una cuenta bancaria en Python, donde se define el saldo inicial como un atributo\n",
    "y los métodos para depositar, retirar y verificar el saldo:'''\n",
    "\n",
    "class CuentaBancaria:\n",
    "    def __init__(self, saldo_inicial):\n",
    "        self.saldo = saldo_inicial\n",
    "\n",
    "    def depositar(self, cantidad):\n",
    "        self.saldo += cantidad\n",
    "\n",
    "    def retirar(self, cantidad):\n",
    "        if cantidad <= self.saldo:\n",
    "            self.saldo -= cantidad\n",
    "        else:\n",
    "            print(\"Fondos insuficientes\")\n",
    "\n",
    "    def verificar_saldo(self):\n",
    "        return self.saldo\n",
    "\n",
    "'''Para crear una cuenta bancaria y realizar operaciones en ella, simplemente instanciamos la clase y \n",
    "llamamos a los métodos correspondientes:'''\n",
    "\n",
    "mi_cuenta = CuentaBancaria(1000)\n",
    "mi_cuenta.depositar(500)\n",
    "mi_cuenta.retirar(200)\n",
    "print(mi_cuenta.verificar_saldo()) # salida: 1300"
   ]
  },
  {
   "cell_type": "markdown",
   "id": "634e95df",
   "metadata": {},
   "source": [
    "## Ejercicios"
   ]
  },
  {
   "cell_type": "markdown",
   "id": "36acb49f",
   "metadata": {},
   "source": [
    "1. Crear una clase \"Rectángulo\" que tenga como atributos el ancho y la altura del rectángulo y que tenga métodos para calcular el área y el perímetro del rectángulo."
   ]
  },
  {
   "cell_type": "code",
   "execution_count": null,
   "id": "69d06b62",
   "metadata": {},
   "outputs": [],
   "source": []
  },
  {
   "cell_type": "markdown",
   "id": "e5ceb6a8",
   "metadata": {},
   "source": [
    "2. Crear una clase llamada \"DataProcessor\" que contenga una función llamada \"clean_data\" que tome una lista de números como entrada y devuelva una lista que contenga solo los números pares de la lista de entrada."
   ]
  },
  {
   "cell_type": "code",
   "execution_count": null,
   "id": "7c9c8ad4",
   "metadata": {},
   "outputs": [],
   "source": []
  },
  {
   "cell_type": "markdown",
   "id": "715f5278",
   "metadata": {},
   "source": [
    "3. Crear una clase llamada \"CSVReader\" que contenga una función llamada \"read_csv\" que tome el nombre de un archivo CSV como entrada y devuelva una lista de diccionarios que representen los datos del archivo CSV. Utiliza la biblioteca CSV para leer el archivo CSV."
   ]
  },
  {
   "cell_type": "code",
   "execution_count": null,
   "id": "04bce474",
   "metadata": {},
   "outputs": [],
   "source": []
  },
  {
   "cell_type": "markdown",
   "id": "9a6f2e99",
   "metadata": {},
   "source": [
    "4. Cálculo de estadísticas básicas Crear una clase \"Estadísticas\" que permita calcular la media, la desviación estándar, la mediana y el rango de una lista de números."
   ]
  },
  {
   "cell_type": "code",
   "execution_count": null,
   "id": "ae34b469",
   "metadata": {},
   "outputs": [],
   "source": []
  },
  {
   "cell_type": "markdown",
   "id": "9d4ffa50",
   "metadata": {},
   "source": [
    "5. Creación de gráficos Crear una clase \"Grafico\" que permita crear un gráfico de barras a partir de una lista de valores. "
   ]
  },
  {
   "cell_type": "code",
   "execution_count": null,
   "id": "c03a1ecb",
   "metadata": {},
   "outputs": [],
   "source": []
  }
 ],
 "metadata": {
  "kernelspec": {
   "display_name": "Python 3 (ipykernel)",
   "language": "python",
   "name": "python3"
  },
  "language_info": {
   "codemirror_mode": {
    "name": "ipython",
    "version": 3
   },
   "file_extension": ".py",
   "mimetype": "text/x-python",
   "name": "python",
   "nbconvert_exporter": "python",
   "pygments_lexer": "ipython3",
   "version": "3.11.2"
  }
 },
 "nbformat": 4,
 "nbformat_minor": 5
}
