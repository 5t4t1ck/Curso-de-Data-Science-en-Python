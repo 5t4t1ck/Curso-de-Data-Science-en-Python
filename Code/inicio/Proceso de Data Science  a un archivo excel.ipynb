{
 "cells": [
  {
   "cell_type": "markdown",
   "id": "193d957d",
   "metadata": {},
   "source": [
    "El proceso de Data Science en un archivo de Excel con las columnas dadas puede incluir los siguientes pasos:"
   ]
  },
  {
   "cell_type": "markdown",
   "id": "246ff53e",
   "metadata": {},
   "source": [
    "Importar las bibliotecas necesarias:\n"
   ]
  },
  {
   "cell_type": "code",
   "execution_count": 34,
   "id": "ae2f536f",
   "metadata": {},
   "outputs": [],
   "source": [
    "import pandas as pd\n",
    "import numpy as np\n",
    "import matplotlib.pyplot as plt"
   ]
  },
  {
   "cell_type": "markdown",
   "id": "059fdf4a",
   "metadata": {},
   "source": [
    "Leer el archivo Excel utilizando la función read_excel de la biblioteca pandas:\n"
   ]
  },
  {
   "cell_type": "code",
   "execution_count": 35,
   "id": "b7b2d704",
   "metadata": {
    "scrolled": true
   },
   "outputs": [
    {
     "data": {
      "text/html": [
       "<div>\n",
       "<style scoped>\n",
       "    .dataframe tbody tr th:only-of-type {\n",
       "        vertical-align: middle;\n",
       "    }\n",
       "\n",
       "    .dataframe tbody tr th {\n",
       "        vertical-align: top;\n",
       "    }\n",
       "\n",
       "    .dataframe thead th {\n",
       "        text-align: right;\n",
       "    }\n",
       "</style>\n",
       "<table border=\"1\" class=\"dataframe\">\n",
       "  <thead>\n",
       "    <tr style=\"text-align: right;\">\n",
       "      <th></th>\n",
       "      <th>FECHA</th>\n",
       "      <th>ANIO</th>\n",
       "      <th>MES</th>\n",
       "      <th>CODIGO CLIENTE</th>\n",
       "      <th>CANAL</th>\n",
       "      <th>COD_ITEM</th>\n",
       "      <th>NOMBRE_PRODUCTO</th>\n",
       "      <th>NOMBRE_CATEGORIA</th>\n",
       "      <th>NOMBRE_TIPO_NEGOCIO</th>\n",
       "      <th>COD_LOCAL</th>\n",
       "      <th>NOMBRE_LOCAL</th>\n",
       "      <th>NOMBRE_PROVINCIA</th>\n",
       "      <th>NOMBRE_CIUDAD</th>\n",
       "      <th>NÚMERO DE TRANSACCIÓN</th>\n",
       "      <th>VENTA_NETA</th>\n",
       "      <th>MARGEN</th>\n",
       "      <th>CANTIDAD</th>\n",
       "      <th>COD FORMA DE PAGO</th>\n",
       "    </tr>\n",
       "  </thead>\n",
       "  <tbody>\n",
       "    <tr>\n",
       "      <th>0</th>\n",
       "      <td>2021-10-08</td>\n",
       "      <td>2021</td>\n",
       "      <td>10</td>\n",
       "      <td>7767359</td>\n",
       "      <td>PDV</td>\n",
       "      <td>50785</td>\n",
       "      <td>CEPILLOS B&amp;C</td>\n",
       "      <td>IMPLEMENTOS DE CABELLO B&amp;C</td>\n",
       "      <td>B&amp;C</td>\n",
       "      <td>791</td>\n",
       "      <td>FYBECA MALL DE LOS ANDES</td>\n",
       "      <td>TUNGURAHUA</td>\n",
       "      <td>AMBATO</td>\n",
       "      <td>3810852</td>\n",
       "      <td>7</td>\n",
       "      <td>2</td>\n",
       "      <td>1</td>\n",
       "      <td>1</td>\n",
       "    </tr>\n",
       "    <tr>\n",
       "      <th>1</th>\n",
       "      <td>2022-01-21</td>\n",
       "      <td>2022</td>\n",
       "      <td>1</td>\n",
       "      <td>8522244</td>\n",
       "      <td>PDV</td>\n",
       "      <td>30253</td>\n",
       "      <td>DELINEADOR OJOS ESSENCE</td>\n",
       "      <td>COSMETICO UÑAS</td>\n",
       "      <td>B&amp;CP</td>\n",
       "      <td>95</td>\n",
       "      <td>FYBECA LOS MANGOS</td>\n",
       "      <td>MANABÍ</td>\n",
       "      <td>PORTOVIEJO</td>\n",
       "      <td>5962659</td>\n",
       "      <td>9</td>\n",
       "      <td>2</td>\n",
       "      <td>1</td>\n",
       "      <td>1</td>\n",
       "    </tr>\n",
       "    <tr>\n",
       "      <th>2</th>\n",
       "      <td>2021-12-30</td>\n",
       "      <td>2021</td>\n",
       "      <td>12</td>\n",
       "      <td>7482712</td>\n",
       "      <td>PDV</td>\n",
       "      <td>103961</td>\n",
       "      <td>HANUTA B&amp;C</td>\n",
       "      <td>COLACIONES Y SNACKS</td>\n",
       "      <td>B&amp;C</td>\n",
       "      <td>1271</td>\n",
       "      <td>FYBECA SAN LUIS SHOPPING</td>\n",
       "      <td>PICHINCHA</td>\n",
       "      <td>QUITO</td>\n",
       "      <td>3485885</td>\n",
       "      <td>11</td>\n",
       "      <td>2</td>\n",
       "      <td>2</td>\n",
       "      <td>3</td>\n",
       "    </tr>\n",
       "    <tr>\n",
       "      <th>3</th>\n",
       "      <td>2022-09-15</td>\n",
       "      <td>2022</td>\n",
       "      <td>9</td>\n",
       "      <td>6005545</td>\n",
       "      <td>PDV</td>\n",
       "      <td>92243</td>\n",
       "      <td>PAPAS PRINGLES B&amp;C.</td>\n",
       "      <td>CONFITES</td>\n",
       "      <td>B&amp;C</td>\n",
       "      <td>71840</td>\n",
       "      <td>FYBECA LOS FRESNOS</td>\n",
       "      <td>PICHINCHA</td>\n",
       "      <td>QUITO</td>\n",
       "      <td>4209849</td>\n",
       "      <td>18</td>\n",
       "      <td>2</td>\n",
       "      <td>1</td>\n",
       "      <td>5</td>\n",
       "    </tr>\n",
       "    <tr>\n",
       "      <th>4</th>\n",
       "      <td>2022-07-20</td>\n",
       "      <td>2022</td>\n",
       "      <td>7</td>\n",
       "      <td>6627039</td>\n",
       "      <td>PDV</td>\n",
       "      <td>5757</td>\n",
       "      <td>VITAMIN CHOICE ANTIOXIDANTE</td>\n",
       "      <td>SUPLEMENTOS</td>\n",
       "      <td>B&amp;C</td>\n",
       "      <td>1901</td>\n",
       "      <td>FYBECA SCALA</td>\n",
       "      <td>PICHINCHA</td>\n",
       "      <td>QUITO</td>\n",
       "      <td>6412586</td>\n",
       "      <td>7</td>\n",
       "      <td>2</td>\n",
       "      <td>1</td>\n",
       "      <td>5</td>\n",
       "    </tr>\n",
       "  </tbody>\n",
       "</table>\n",
       "</div>"
      ],
      "text/plain": [
       "       FECHA  ANIO  MES  CODIGO CLIENTE CANAL  COD_ITEM  \\\n",
       "0 2021-10-08  2021   10         7767359   PDV     50785   \n",
       "1 2022-01-21  2022    1         8522244   PDV     30253   \n",
       "2 2021-12-30  2021   12         7482712   PDV    103961   \n",
       "3 2022-09-15  2022    9         6005545   PDV     92243   \n",
       "4 2022-07-20  2022    7         6627039   PDV      5757   \n",
       "\n",
       "               NOMBRE_PRODUCTO            NOMBRE_CATEGORIA  \\\n",
       "0                 CEPILLOS B&C  IMPLEMENTOS DE CABELLO B&C   \n",
       "1      DELINEADOR OJOS ESSENCE              COSMETICO UÑAS   \n",
       "2                   HANUTA B&C         COLACIONES Y SNACKS   \n",
       "3          PAPAS PRINGLES B&C.                    CONFITES   \n",
       "4  VITAMIN CHOICE ANTIOXIDANTE                 SUPLEMENTOS   \n",
       "\n",
       "  NOMBRE_TIPO_NEGOCIO  COD_LOCAL              NOMBRE_LOCAL NOMBRE_PROVINCIA  \\\n",
       "0                 B&C        791  FYBECA MALL DE LOS ANDES       TUNGURAHUA   \n",
       "1                B&CP         95         FYBECA LOS MANGOS           MANABÍ   \n",
       "2                 B&C       1271  FYBECA SAN LUIS SHOPPING        PICHINCHA   \n",
       "3                 B&C      71840        FYBECA LOS FRESNOS        PICHINCHA   \n",
       "4                 B&C       1901              FYBECA SCALA        PICHINCHA   \n",
       "\n",
       "  NOMBRE_CIUDAD  NÚMERO DE TRANSACCIÓN  VENTA_NETA  MARGEN  CANTIDAD  \\\n",
       "0        AMBATO                3810852           7       2         1   \n",
       "1    PORTOVIEJO                5962659           9       2         1   \n",
       "2         QUITO                3485885          11       2         2   \n",
       "3         QUITO                4209849          18       2         1   \n",
       "4         QUITO                6412586           7       2         1   \n",
       "\n",
       "   COD FORMA DE PAGO  \n",
       "0                  1  \n",
       "1                  1  \n",
       "2                  3  \n",
       "3                  5  \n",
       "4                  5  "
      ]
     },
     "execution_count": 35,
     "metadata": {},
     "output_type": "execute_result"
    }
   ],
   "source": [
    "df = pd.read_excel('datos.xlsx')\n",
    "df.head()"
   ]
  },
  {
   "cell_type": "markdown",
   "id": "e640df13",
   "metadata": {},
   "source": [
    "Realizar la limpieza de datos:\n",
    "\n",
    "Eliminar las filas o columnas que no sean necesarias para el análisis utilizando la función drop de pandas:"
   ]
  },
  {
   "cell_type": "code",
   "execution_count": 36,
   "id": "3f4a6480",
   "metadata": {},
   "outputs": [
    {
     "data": {
      "text/html": [
       "<div>\n",
       "<style scoped>\n",
       "    .dataframe tbody tr th:only-of-type {\n",
       "        vertical-align: middle;\n",
       "    }\n",
       "\n",
       "    .dataframe tbody tr th {\n",
       "        vertical-align: top;\n",
       "    }\n",
       "\n",
       "    .dataframe thead th {\n",
       "        text-align: right;\n",
       "    }\n",
       "</style>\n",
       "<table border=\"1\" class=\"dataframe\">\n",
       "  <thead>\n",
       "    <tr style=\"text-align: right;\">\n",
       "      <th></th>\n",
       "      <th>FECHA</th>\n",
       "      <th>ANIO</th>\n",
       "      <th>MES</th>\n",
       "      <th>CANAL</th>\n",
       "      <th>COD_ITEM</th>\n",
       "      <th>NOMBRE_PRODUCTO</th>\n",
       "      <th>NOMBRE_CATEGORIA</th>\n",
       "      <th>NOMBRE_TIPO_NEGOCIO</th>\n",
       "      <th>COD_LOCAL</th>\n",
       "      <th>NOMBRE_PROVINCIA</th>\n",
       "      <th>NOMBRE_CIUDAD</th>\n",
       "      <th>NÚMERO DE TRANSACCIÓN</th>\n",
       "      <th>VENTA_NETA</th>\n",
       "      <th>MARGEN</th>\n",
       "      <th>CANTIDAD</th>\n",
       "      <th>COD FORMA DE PAGO</th>\n",
       "    </tr>\n",
       "  </thead>\n",
       "  <tbody>\n",
       "    <tr>\n",
       "      <th>0</th>\n",
       "      <td>2021-10-08</td>\n",
       "      <td>2021</td>\n",
       "      <td>10</td>\n",
       "      <td>PDV</td>\n",
       "      <td>50785</td>\n",
       "      <td>CEPILLOS B&amp;C</td>\n",
       "      <td>IMPLEMENTOS DE CABELLO B&amp;C</td>\n",
       "      <td>B&amp;C</td>\n",
       "      <td>791</td>\n",
       "      <td>TUNGURAHUA</td>\n",
       "      <td>AMBATO</td>\n",
       "      <td>3810852</td>\n",
       "      <td>7</td>\n",
       "      <td>2</td>\n",
       "      <td>1</td>\n",
       "      <td>1</td>\n",
       "    </tr>\n",
       "    <tr>\n",
       "      <th>1</th>\n",
       "      <td>2022-01-21</td>\n",
       "      <td>2022</td>\n",
       "      <td>1</td>\n",
       "      <td>PDV</td>\n",
       "      <td>30253</td>\n",
       "      <td>DELINEADOR OJOS ESSENCE</td>\n",
       "      <td>COSMETICO UÑAS</td>\n",
       "      <td>B&amp;CP</td>\n",
       "      <td>95</td>\n",
       "      <td>MANABÍ</td>\n",
       "      <td>PORTOVIEJO</td>\n",
       "      <td>5962659</td>\n",
       "      <td>9</td>\n",
       "      <td>2</td>\n",
       "      <td>1</td>\n",
       "      <td>1</td>\n",
       "    </tr>\n",
       "    <tr>\n",
       "      <th>2</th>\n",
       "      <td>2021-12-30</td>\n",
       "      <td>2021</td>\n",
       "      <td>12</td>\n",
       "      <td>PDV</td>\n",
       "      <td>103961</td>\n",
       "      <td>HANUTA B&amp;C</td>\n",
       "      <td>COLACIONES Y SNACKS</td>\n",
       "      <td>B&amp;C</td>\n",
       "      <td>1271</td>\n",
       "      <td>PICHINCHA</td>\n",
       "      <td>QUITO</td>\n",
       "      <td>3485885</td>\n",
       "      <td>11</td>\n",
       "      <td>2</td>\n",
       "      <td>2</td>\n",
       "      <td>3</td>\n",
       "    </tr>\n",
       "    <tr>\n",
       "      <th>3</th>\n",
       "      <td>2022-09-15</td>\n",
       "      <td>2022</td>\n",
       "      <td>9</td>\n",
       "      <td>PDV</td>\n",
       "      <td>92243</td>\n",
       "      <td>PAPAS PRINGLES B&amp;C.</td>\n",
       "      <td>CONFITES</td>\n",
       "      <td>B&amp;C</td>\n",
       "      <td>71840</td>\n",
       "      <td>PICHINCHA</td>\n",
       "      <td>QUITO</td>\n",
       "      <td>4209849</td>\n",
       "      <td>18</td>\n",
       "      <td>2</td>\n",
       "      <td>1</td>\n",
       "      <td>5</td>\n",
       "    </tr>\n",
       "    <tr>\n",
       "      <th>4</th>\n",
       "      <td>2022-07-20</td>\n",
       "      <td>2022</td>\n",
       "      <td>7</td>\n",
       "      <td>PDV</td>\n",
       "      <td>5757</td>\n",
       "      <td>VITAMIN CHOICE ANTIOXIDANTE</td>\n",
       "      <td>SUPLEMENTOS</td>\n",
       "      <td>B&amp;C</td>\n",
       "      <td>1901</td>\n",
       "      <td>PICHINCHA</td>\n",
       "      <td>QUITO</td>\n",
       "      <td>6412586</td>\n",
       "      <td>7</td>\n",
       "      <td>2</td>\n",
       "      <td>1</td>\n",
       "      <td>5</td>\n",
       "    </tr>\n",
       "  </tbody>\n",
       "</table>\n",
       "</div>"
      ],
      "text/plain": [
       "       FECHA  ANIO  MES CANAL  COD_ITEM              NOMBRE_PRODUCTO  \\\n",
       "0 2021-10-08  2021   10   PDV     50785                 CEPILLOS B&C   \n",
       "1 2022-01-21  2022    1   PDV     30253      DELINEADOR OJOS ESSENCE   \n",
       "2 2021-12-30  2021   12   PDV    103961                   HANUTA B&C   \n",
       "3 2022-09-15  2022    9   PDV     92243          PAPAS PRINGLES B&C.   \n",
       "4 2022-07-20  2022    7   PDV      5757  VITAMIN CHOICE ANTIOXIDANTE   \n",
       "\n",
       "             NOMBRE_CATEGORIA NOMBRE_TIPO_NEGOCIO  COD_LOCAL NOMBRE_PROVINCIA  \\\n",
       "0  IMPLEMENTOS DE CABELLO B&C                 B&C        791       TUNGURAHUA   \n",
       "1              COSMETICO UÑAS                B&CP         95           MANABÍ   \n",
       "2         COLACIONES Y SNACKS                 B&C       1271        PICHINCHA   \n",
       "3                    CONFITES                 B&C      71840        PICHINCHA   \n",
       "4                 SUPLEMENTOS                 B&C       1901        PICHINCHA   \n",
       "\n",
       "  NOMBRE_CIUDAD  NÚMERO DE TRANSACCIÓN  VENTA_NETA  MARGEN  CANTIDAD  \\\n",
       "0        AMBATO                3810852           7       2         1   \n",
       "1    PORTOVIEJO                5962659           9       2         1   \n",
       "2         QUITO                3485885          11       2         2   \n",
       "3         QUITO                4209849          18       2         1   \n",
       "4         QUITO                6412586           7       2         1   \n",
       "\n",
       "   COD FORMA DE PAGO  \n",
       "0                  1  \n",
       "1                  1  \n",
       "2                  3  \n",
       "3                  5  \n",
       "4                  5  "
      ]
     },
     "execution_count": 36,
     "metadata": {},
     "output_type": "execute_result"
    }
   ],
   "source": [
    "df = df.drop(columns=['CODIGO CLIENTE', 'NOMBRE_LOCAL'])\n",
    "df.head()"
   ]
  },
  {
   "cell_type": "markdown",
   "id": "b9d6fa43",
   "metadata": {},
   "source": [
    "Identificar y tratar los valores faltantes utilizando la función isna y fillna de pandas:"
   ]
  },
  {
   "cell_type": "code",
   "execution_count": 37,
   "id": "7cfb9005",
   "metadata": {},
   "outputs": [
    {
     "name": "stdout",
     "output_type": "stream",
     "text": [
      "<bound method NDFrame._add_numeric_operations.<locals>.sum of        FECHA   ANIO    MES  CANAL  COD_ITEM  NOMBRE_PRODUCTO  \\\n",
      "0      False  False  False  False     False            False   \n",
      "1      False  False  False  False     False            False   \n",
      "2      False  False  False  False     False            False   \n",
      "3      False  False  False  False     False            False   \n",
      "4      False  False  False  False     False            False   \n",
      "...      ...    ...    ...    ...       ...              ...   \n",
      "49994  False  False  False  False     False            False   \n",
      "49995  False  False  False  False     False            False   \n",
      "49996  False  False  False  False     False            False   \n",
      "49997  False  False  False  False     False            False   \n",
      "49998  False  False  False  False     False            False   \n",
      "\n",
      "       NOMBRE_CATEGORIA  NOMBRE_TIPO_NEGOCIO  COD_LOCAL  NOMBRE_PROVINCIA  \\\n",
      "0                 False                False      False             False   \n",
      "1                 False                False      False             False   \n",
      "2                 False                False      False             False   \n",
      "3                 False                False      False             False   \n",
      "4                 False                False      False             False   \n",
      "...                 ...                  ...        ...               ...   \n",
      "49994             False                False      False             False   \n",
      "49995             False                False      False             False   \n",
      "49996             False                False      False             False   \n",
      "49997             False                False      False             False   \n",
      "49998             False                False      False             False   \n",
      "\n",
      "       NOMBRE_CIUDAD  NÚMERO DE TRANSACCIÓN  VENTA_NETA  MARGEN  CANTIDAD  \\\n",
      "0              False                  False       False   False     False   \n",
      "1              False                  False       False   False     False   \n",
      "2              False                  False       False   False     False   \n",
      "3              False                  False       False   False     False   \n",
      "4              False                  False       False   False     False   \n",
      "...              ...                    ...         ...     ...       ...   \n",
      "49994          False                  False       False   False     False   \n",
      "49995          False                  False       False   False     False   \n",
      "49996          False                  False       False   False     False   \n",
      "49997          False                  False       False   False     False   \n",
      "49998          False                  False       False   False     False   \n",
      "\n",
      "       COD FORMA DE PAGO  \n",
      "0                  False  \n",
      "1                  False  \n",
      "2                  False  \n",
      "3                  False  \n",
      "4                  False  \n",
      "...                  ...  \n",
      "49994              False  \n",
      "49995              False  \n",
      "49996              False  \n",
      "49997              False  \n",
      "49998              False  \n",
      "\n",
      "[49999 rows x 16 columns]>\n"
     ]
    }
   ],
   "source": [
    "print(df.isna().sum)\n",
    "\n",
    "df = df.fillna({'ANIO':df['FECHA'].dt.year,\n",
    "                'MES':df['FECHA'].dt.month})"
   ]
  },
  {
   "cell_type": "markdown",
   "id": "4ee9684c",
   "metadata": {},
   "source": [
    "Identificar y tratar los valores atípicos utilizando la función describe y boxplot de pandas:"
   ]
  },
  {
   "cell_type": "code",
   "execution_count": 38,
   "id": "f12ffe6d",
   "metadata": {},
   "outputs": [
    {
     "name": "stdout",
     "output_type": "stream",
     "text": [
      "               ANIO           MES       COD_ITEM     COD_LOCAL  \\\n",
      "count  49999.000000  49999.000000   49999.000000  49999.000000   \n",
      "mean    2021.764515      6.156883   55163.883998  20857.399348   \n",
      "std        0.669213      3.654242   30909.642242  32103.436424   \n",
      "min     2021.000000      1.000000    1462.000000      1.000000   \n",
      "25%     2021.000000      3.000000   28319.000000     60.000000   \n",
      "50%     2022.000000      6.000000   55556.000000   1461.000000   \n",
      "75%     2022.000000      9.000000   81816.000000  71862.000000   \n",
      "max     2023.000000     12.000000  108895.000000  72439.000000   \n",
      "\n",
      "       NÚMERO DE TRANSACCIÓN   VENTA_NETA       MARGEN      CANTIDAD  \\\n",
      "count           4.999900e+04  49999.00000  49999.00000  49999.000000   \n",
      "mean            4.422352e+06     12.49649      2.48743      5.706914   \n",
      "std             2.382911e+06      4.63621      1.11048     13.490485   \n",
      "min             2.655160e+05      5.00000      1.00000   -120.000000   \n",
      "25%             2.368620e+06      8.00000      2.00000      1.000000   \n",
      "50%             4.422217e+06     13.00000      2.00000      1.000000   \n",
      "75%             6.499706e+06     16.00000      3.00000      3.000000   \n",
      "max             8.547006e+06     20.00000      4.00000    180.000000   \n",
      "\n",
      "       COD FORMA DE PAGO  \n",
      "count       49999.000000  \n",
      "mean            3.011960  \n",
      "std             1.417596  \n",
      "min             1.000000  \n",
      "25%             2.000000  \n",
      "50%             3.000000  \n",
      "75%             4.000000  \n",
      "max             5.000000  \n"
     ]
    },
    {
     "data": {
      "image/png": "[encoded data removed]",
      "text/plain": [
       "<Figure size 640x480 with 1 Axes>"
      ]
     },
     "metadata": {},
     "output_type": "display_data"
    }
   ],
   "source": [
    "print(df.describe())\n",
    "\n",
    "plt.boxplot(df['COD_ITEM'])\n",
    "plt.show()"
   ]
  },
  {
   "cell_type": "markdown",
   "id": "3c59bb2a",
   "metadata": {},
   "source": [
    "Realizar el análisis exploratorio de datos:\n",
    "\n",
    "Identificar las relaciones entre las variables utilizando la función corr de pandas:"
   ]
  },
  {
   "cell_type": "code",
   "execution_count": 39,
   "id": "11f9bd30",
   "metadata": {},
   "outputs": [
    {
     "name": "stdout",
     "output_type": "stream",
     "text": [
      "                           ANIO       MES  COD_ITEM  COD_LOCAL  \\\n",
      "ANIO                   1.000000 -0.304493 -0.025671   0.144881   \n",
      "MES                   -0.304493  1.000000  0.012315   0.025557   \n",
      "COD_ITEM              -0.025671  0.012315  1.000000   0.009811   \n",
      "COD_LOCAL              0.144881  0.025557  0.009811   1.000000   \n",
      "NÚMERO DE TRANSACCIÓN -0.007724  0.005159 -0.000981  -0.002393   \n",
      "VENTA_NETA             0.015927 -0.019110 -0.011695   0.003866   \n",
      "MARGEN                 0.016094 -0.010180 -0.030202   0.017664   \n",
      "CANTIDAD              -0.032972 -0.011556  0.026849  -0.016900   \n",
      "COD FORMA DE PAGO      0.009315 -0.026926  0.004345   0.010489   \n",
      "\n",
      "                       NÚMERO DE TRANSACCIÓN  VENTA_NETA    MARGEN  CANTIDAD  \\\n",
      "ANIO                               -0.007724    0.015927  0.016094 -0.032972   \n",
      "MES                                 0.005159   -0.019110 -0.010180 -0.011556   \n",
      "COD_ITEM                           -0.000981   -0.011695 -0.030202  0.026849   \n",
      "COD_LOCAL                          -0.002393    0.003866  0.017664 -0.016900   \n",
      "NÚMERO DE TRANSACCIÓN               1.000000   -0.001298 -0.000579  0.004947   \n",
      "VENTA_NETA                         -0.001298    1.000000  0.026685  0.004875   \n",
      "MARGEN                             -0.000579    0.026685  1.000000 -0.002357   \n",
      "CANTIDAD                            0.004947    0.004875 -0.002357  1.000000   \n",
      "COD FORMA DE PAGO                   0.004356   -0.026576 -0.014198 -0.005517   \n",
      "\n",
      "                       COD FORMA DE PAGO  \n",
      "ANIO                            0.009315  \n",
      "MES                            -0.026926  \n",
      "COD_ITEM                        0.004345  \n",
      "COD_LOCAL                       0.010489  \n",
      "NÚMERO DE TRANSACCIÓN           0.004356  \n",
      "VENTA_NETA                     -0.026576  \n",
      "MARGEN                         -0.014198  \n",
      "CANTIDAD                       -0.005517  \n",
      "COD FORMA DE PAGO               1.000000  \n"
     ]
    },
    {
     "name": "stderr",
     "output_type": "stream",
     "text": [
      "C:\\Users\\Statick\\AppData\\Local\\Temp\\ipykernel_9520\\4212406737.py:1: FutureWarning: The default value of numeric_only in DataFrame.corr is deprecated. In a future version, it will default to False. Select only valid columns or specify the value of numeric_only to silence this warning.\n",
      "  print(df.corr())\n"
     ]
    }
   ],
   "source": [
    "print(df.corr())"
   ]
  },
  {
   "cell_type": "markdown",
   "id": "ec65dc6d",
   "metadata": {},
   "source": [
    "Visualizar los datos utilizando gráficos como histogramas, gráficos de barras y diagramas de dispersión:"
   ]
  },
  {
   "cell_type": "code",
   "execution_count": 40,
   "id": "13770dc7",
   "metadata": {},
   "outputs": [
    {
     "data": {
      "image/png": "[encoded data removed]",
      "text/plain": [
       "<Figure size 640x480 with 1 Axes>"
      ]
     },
     "metadata": {},
     "output_type": "display_data"
    },
    {
     "data": {
      "image/png": "[encoded data removed]",
      "text/plain": [
       "<Figure size 640x480 with 1 Axes>"
      ]
     },
     "metadata": {},
     "output_type": "display_data"
    },
    {
     "data": {
      "image/png": "[encoded data removed]",
      "text/plain": [
       "<Figure size 640x480 with 1 Axes>"
      ]
     },
     "metadata": {},
     "output_type": "display_data"
    }
   ],
   "source": [
    "plt.hist(df['COD_ITEM'])\n",
    "plt.show()\n",
    "\n",
    "plt.bar(df['CANAL'], df['COD_ITEM'])\n",
    "plt.show()\n",
    "\n",
    "plt.scatter(df['ANIO'], df['COD_ITEM'])\n",
    "plt.show()"
   ]
  },
  {
   "cell_type": "markdown",
   "id": "5e74a9ad",
   "metadata": {},
   "source": [
    "Realizar el modelado y la predicción:\n",
    "\n",
    "Dividir los datos en conjuntos de entrenamiento y prueba utilizando la función train_test_split de la biblioteca sklearn:"
   ]
  },
  {
   "cell_type": "code",
   "execution_count": 41,
   "id": "a92bfdc9",
   "metadata": {},
   "outputs": [],
   "source": [
    "from sklearn.model_selection import train_test_split\n",
    "\n",
    "X = df[['ANIO', 'MES']]\n",
    "y = df['COD_ITEM']\n",
    "\n",
    "X_train, X_test, y_train, y_test = train_test_split(X, y, test_size=0.2, random_state=0)\n"
   ]
  },
  {
   "cell_type": "markdown",
   "id": "1836be61",
   "metadata": {},
   "source": [
    "Crear el modelo y ajustarlo a los datos utilizando la función fit de la biblioteca sklearn:"
   ]
  },
  {
   "cell_type": "code",
   "execution_count": 42,
   "id": "3c4362c2",
   "metadata": {},
   "outputs": [
    {
     "data": {
      "text/html": [
       "<style>#sk-container-id-3 {color: black;background-color: white;}#sk-container-id-3 pre{padding: 0;}#sk-container-id-3 div.sk-toggleable {background-color: white;}#sk-container-id-3 label.sk-toggleable__label {cursor: pointer;display: block;width: 100%;margin-bottom: 0;padding: 0.3em;box-sizing: border-box;text-align: center;}#sk-container-id-3 label.sk-toggleable__label-arrow:before {content: \"▸\";float: left;margin-right: 0.25em;color: #696969;}#sk-container-id-3 label.sk-toggleable__label-arrow:hover:before {color: black;}#sk-container-id-3 div.sk-estimator:hover label.sk-toggleable__label-arrow:before {color: black;}#sk-container-id-3 div.sk-toggleable__content {max-height: 0;max-width: 0;overflow: hidden;text-align: left;background-color: #f0f8ff;}#sk-container-id-3 div.sk-toggleable__content pre {margin: 0.2em;color: black;border-radius: 0.25em;background-color: #f0f8ff;}#sk-container-id-3 input.sk-toggleable__control:checked~div.sk-toggleable__content {max-height: 200px;max-width: 100%;overflow: auto;}#sk-container-id-3 input.sk-toggleable__control:checked~label.sk-toggleable__label-arrow:before {content: \"▾\";}#sk-container-id-3 div.sk-estimator input.sk-toggleable__control:checked~label.sk-toggleable__label {background-color: #d4ebff;}#sk-container-id-3 div.sk-label input.sk-toggleable__control:checked~label.sk-toggleable__label {background-color: #d4ebff;}#sk-container-id-3 input.sk-hidden--visually {border: 0;clip: rect(1px 1px 1px 1px);clip: rect(1px, 1px, 1px, 1px);height: 1px;margin: -1px;overflow: hidden;padding: 0;position: absolute;width: 1px;}#sk-container-id-3 div.sk-estimator {font-family: monospace;background-color: #f0f8ff;border: 1px dotted black;border-radius: 0.25em;box-sizing: border-box;margin-bottom: 0.5em;}#sk-container-id-3 div.sk-estimator:hover {background-color: #d4ebff;}#sk-container-id-3 div.sk-parallel-item::after {content: \"\";width: 100%;border-bottom: 1px solid gray;flex-grow: 1;}#sk-container-id-3 div.sk-label:hover label.sk-toggleable__label {background-color: #d4ebff;}#sk-container-id-3 div.sk-serial::before {content: \"\";position: absolute;border-left: 1px solid gray;box-sizing: border-box;top: 0;bottom: 0;left: 50%;z-index: 0;}#sk-container-id-3 div.sk-serial {display: flex;flex-direction: column;align-items: center;background-color: white;padding-right: 0.2em;padding-left: 0.2em;position: relative;}#sk-container-id-3 div.sk-item {position: relative;z-index: 1;}#sk-container-id-3 div.sk-parallel {display: flex;align-items: stretch;justify-content: center;background-color: white;position: relative;}#sk-container-id-3 div.sk-item::before, #sk-container-id-3 div.sk-parallel-item::before {content: \"\";position: absolute;border-left: 1px solid gray;box-sizing: border-box;top: 0;bottom: 0;left: 50%;z-index: -1;}#sk-container-id-3 div.sk-parallel-item {display: flex;flex-direction: column;z-index: 1;position: relative;background-color: white;}#sk-container-id-3 div.sk-parallel-item:first-child::after {align-self: flex-end;width: 50%;}#sk-container-id-3 div.sk-parallel-item:last-child::after {align-self: flex-start;width: 50%;}#sk-container-id-3 div.sk-parallel-item:only-child::after {width: 0;}#sk-container-id-3 div.sk-dashed-wrapped {border: 1px dashed gray;margin: 0 0.4em 0.5em 0.4em;box-sizing: border-box;padding-bottom: 0.4em;background-color: white;}#sk-container-id-3 div.sk-label label {font-family: monospace;font-weight: bold;display: inline-block;line-height: 1.2em;}#sk-container-id-3 div.sk-label-container {text-align: center;}#sk-container-id-3 div.sk-container {/* jupyter's `normalize.less` sets `[hidden] { display: none; }` but bootstrap.min.css set `[hidden] { display: none !important; }` so we also need the `!important` here to be able to override the default hidden behavior on the sphinx rendered scikit-learn.org. See: https://github.com/scikit-learn/scikit-learn/issues/21755 */display: inline-block !important;position: relative;}#sk-container-id-3 div.sk-text-repr-fallback {display: none;}</style><div id=\"sk-container-id-3\" class=\"sk-top-container\"><div class=\"sk-text-repr-fallback\"><pre>LinearRegression()</pre><b>In a Jupyter environment, please rerun this cell to show the HTML representation or trust the notebook. <br />On GitHub, the HTML representation is unable to render, please try loading this page with nbviewer.org.</b></div><div class=\"sk-container\" hidden><div class=\"sk-item\"><div class=\"sk-estimator sk-toggleable\"><input class=\"sk-toggleable__control sk-hidden--visually\" id=\"sk-estimator-id-3\" type=\"checkbox\" checked><label for=\"sk-estimator-id-3\" class=\"sk-toggleable__label sk-toggleable__label-arrow\">LinearRegression</label><div class=\"sk-toggleable__content\"><pre>LinearRegression()</pre></div></div></div></div></div>"
      ],
      "text/plain": [
       "LinearRegression()"
      ]
     },
     "execution_count": 42,
     "metadata": {},
     "output_type": "execute_result"
    }
   ],
   "source": [
    "from sklearn.linear_model import LinearRegression\n",
    "\n",
    "regressor = LinearRegression()\n",
    "regressor.fit(X_train, y_train)"
   ]
  },
  {
   "cell_type": "markdown",
   "id": "446b1598",
   "metadata": {},
   "source": [
    "Realizar la predicción utilizando la función predict de la biblioteca sklearn:"
   ]
  },
  {
   "cell_type": "code",
   "execution_count": 43,
   "id": "87dc6729",
   "metadata": {},
   "outputs": [],
   "source": [
    "y_pred = regressor.predict(X_test)"
   ]
  },
  {
   "cell_type": "markdown",
   "id": "54667eb1",
   "metadata": {},
   "source": [
    "Exportar los datos a un nuevo archivo Excel utilizando la función to_excel de pandas:"
   ]
  },
  {
   "cell_type": "code",
   "execution_count": 44,
   "id": "3ccc3dcb",
   "metadata": {},
   "outputs": [],
   "source": [
    "df.to_excel('datos_procesados.xlsx', index=False)"
   ]
  },
  {
   "cell_type": "markdown",
   "id": "812837c0",
   "metadata": {},
   "source": [
    "El código completo quedaría así:\n",
    "\n"
   ]
  },
  {
   "cell_type": "code",
   "execution_count": 45,
   "id": "47fc6bbc",
   "metadata": {},
   "outputs": [
    {
     "name": "stdout",
     "output_type": "stream",
     "text": [
      "FECHA                    0\n",
      "ANIO                     0\n",
      "MES                      0\n",
      "CANAL                    0\n",
      "COD_ITEM                 0\n",
      "NOMBRE_PRODUCTO          0\n",
      "NOMBRE_CATEGORIA         0\n",
      "NOMBRE_TIPO_NEGOCIO      0\n",
      "COD_LOCAL                0\n",
      "NOMBRE_PROVINCIA         0\n",
      "NOMBRE_CIUDAD            0\n",
      "NÚMERO DE TRANSACCIÓN    0\n",
      "VENTA_NETA               0\n",
      "MARGEN                   0\n",
      "CANTIDAD                 0\n",
      "COD FORMA DE PAGO        0\n",
      "dtype: int64\n",
      "               ANIO           MES       COD_ITEM     COD_LOCAL  \\\n",
      "count  49999.000000  49999.000000   49999.000000  49999.000000   \n",
      "mean    2021.764515      6.156883   55163.883998  20857.399348   \n",
      "std        0.669213      3.654242   30909.642242  32103.436424   \n",
      "min     2021.000000      1.000000    1462.000000      1.000000   \n",
      "25%     2021.000000      3.000000   28319.000000     60.000000   \n",
      "50%     2022.000000      6.000000   55556.000000   1461.000000   \n",
      "75%     2022.000000      9.000000   81816.000000  71862.000000   \n",
      "max     2023.000000     12.000000  108895.000000  72439.000000   \n",
      "\n",
      "       NÚMERO DE TRANSACCIÓN   VENTA_NETA       MARGEN      CANTIDAD  \\\n",
      "count           4.999900e+04  49999.00000  49999.00000  49999.000000   \n",
      "mean            4.422352e+06     12.49649      2.48743      5.706914   \n",
      "std             2.382911e+06      4.63621      1.11048     13.490485   \n",
      "min             2.655160e+05      5.00000      1.00000   -120.000000   \n",
      "25%             2.368620e+06      8.00000      2.00000      1.000000   \n",
      "50%             4.422217e+06     13.00000      2.00000      1.000000   \n",
      "75%             6.499706e+06     16.00000      3.00000      3.000000   \n",
      "max             8.547006e+06     20.00000      4.00000    180.000000   \n",
      "\n",
      "       COD FORMA DE PAGO  \n",
      "count       49999.000000  \n",
      "mean            3.011960  \n",
      "std             1.417596  \n",
      "min             1.000000  \n",
      "25%             2.000000  \n",
      "50%             3.000000  \n",
      "75%             4.000000  \n",
      "max             5.000000  \n"
     ]
    },
    {
     "data": {
      "image/png": "[encoded data removed]",
      "text/plain": [
       "<Figure size 640x480 with 1 Axes>"
      ]
     },
     "metadata": {},
     "output_type": "display_data"
    },
    {
     "name": "stdout",
     "output_type": "stream",
     "text": [
      "                           ANIO       MES  COD_ITEM  COD_LOCAL  \\\n",
      "ANIO                   1.000000 -0.304493 -0.025671   0.144881   \n",
      "MES                   -0.304493  1.000000  0.012315   0.025557   \n",
      "COD_ITEM              -0.025671  0.012315  1.000000   0.009811   \n",
      "COD_LOCAL              0.144881  0.025557  0.009811   1.000000   \n",
      "NÚMERO DE TRANSACCIÓN -0.007724  0.005159 -0.000981  -0.002393   \n",
      "VENTA_NETA             0.015927 -0.019110 -0.011695   0.003866   \n",
      "MARGEN                 0.016094 -0.010180 -0.030202   0.017664   \n",
      "CANTIDAD              -0.032972 -0.011556  0.026849  -0.016900   \n",
      "COD FORMA DE PAGO      0.009315 -0.026926  0.004345   0.010489   \n",
      "\n",
      "                       NÚMERO DE TRANSACCIÓN  VENTA_NETA    MARGEN  CANTIDAD  \\\n",
      "ANIO                               -0.007724    0.015927  0.016094 -0.032972   \n",
      "MES                                 0.005159   -0.019110 -0.010180 -0.011556   \n",
      "COD_ITEM                           -0.000981   -0.011695 -0.030202  0.026849   \n",
      "COD_LOCAL                          -0.002393    0.003866  0.017664 -0.016900   \n",
      "NÚMERO DE TRANSACCIÓN               1.000000   -0.001298 -0.000579  0.004947   \n",
      "VENTA_NETA                         -0.001298    1.000000  0.026685  0.004875   \n",
      "MARGEN                             -0.000579    0.026685  1.000000 -0.002357   \n",
      "CANTIDAD                            0.004947    0.004875 -0.002357  1.000000   \n",
      "COD FORMA DE PAGO                   0.004356   -0.026576 -0.014198 -0.005517   \n",
      "\n",
      "                       COD FORMA DE PAGO  \n",
      "ANIO                            0.009315  \n",
      "MES                            -0.026926  \n",
      "COD_ITEM                        0.004345  \n",
      "COD_LOCAL                       0.010489  \n",
      "NÚMERO DE TRANSACCIÓN           0.004356  \n",
      "VENTA_NETA                     -0.026576  \n",
      "MARGEN                         -0.014198  \n",
      "CANTIDAD                       -0.005517  \n",
      "COD FORMA DE PAGO               1.000000  \n"
     ]
    },
    {
     "name": "stderr",
     "output_type": "stream",
     "text": [
      "C:\\Users\\Statick\\AppData\\Local\\Temp\\ipykernel_9520\\3407156804.py:25: FutureWarning: The default value of numeric_only in DataFrame.corr is deprecated. In a future version, it will default to False. Select only valid columns or specify the value of numeric_only to silence this warning.\n",
      "  print(df.corr())\n"
     ]
    },
    {
     "data": {
      "image/png": "[encoded data removed]",
      "text/plain": [
       "<Figure size 640x480 with 1 Axes>"
      ]
     },
     "metadata": {},
     "output_type": "display_data"
    },
    {
     "data": {
      "text/plain": [
       "<function matplotlib.pyplot.bar(x, height, width=0.8, bottom=None, *, align='center', data=None, **kwargs)>"
      ]
     },
     "execution_count": 45,
     "metadata": {},
     "output_type": "execute_result"
    }
   ],
   "source": [
    "import pandas as pd\n",
    "import numpy as np\n",
    "import matplotlib.pyplot as plt\n",
    "from sklearn.model_selection import train_test_split\n",
    "from sklearn.linear_model import LinearRegression\n",
    "\n",
    "# Paso 1: Importar las bibliotecas necesarias\n",
    "# Paso 2: Leer el archivo Excel\n",
    "df = pd.read_excel('datos.xlsx')\n",
    "\n",
    "# Paso 3: Realizar la limpieza de datos\n",
    "df = df.drop(columns=['CODIGO CLIENTE', 'NOMBRE_LOCAL'])\n",
    "\n",
    "print(df.isna().sum())\n",
    "\n",
    "df = df.fillna({'ANIO': df['FECHA'].dt.year,\n",
    "                'MES': df['FECHA'].dt.month})\n",
    "\n",
    "print(df.describe())\n",
    "\n",
    "plt.boxplot(df['COD_ITEM'])\n",
    "plt.show()\n",
    "\n",
    "# Paso 4: Realizar el análisis exploratorio de datos\n",
    "print(df.corr())\n",
    "\n",
    "plt.hist(df['COD_ITEM'])\n",
    "plt.show()\n",
    "\n",
    "plt.bar"
   ]
  }
 ],
 "metadata": {
  "kernelspec": {
   "display_name": "Python 3 (ipykernel)",
   "language": "python",
   "name": "python3"
  },
  "language_info": {
   "codemirror_mode": {
    "name": "ipython",
    "version": 3
   },
   "file_extension": ".py",
   "mimetype": "text/x-python",
   "name": "python",
   "nbconvert_exporter": "python",
   "pygments_lexer": "ipython3",
   "version": "3.10.10"
  }
 },
 "nbformat": 4,
 "nbformat_minor": 5
}
