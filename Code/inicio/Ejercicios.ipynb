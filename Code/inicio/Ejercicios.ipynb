{
 "cells": [
  {
   "cell_type": "markdown",
   "id": "fdfa839a",
   "metadata": {},
   "source": [
    "Ejercicio 1: Variables Crea un programa que le solicite al usuario su nombre, edad y país de origen. Luego, imprime en la pantalla un mensaje personalizado que incluya estos tres datos."
   ]
  },
  {
   "cell_type": "code",
   "execution_count": null,
   "id": "fd249c7b",
   "metadata": {},
   "outputs": [],
   "source": []
  },
  {
   "cell_type": "markdown",
   "id": "32698ee5",
   "metadata": {},
   "source": [
    "Ejercicio 2: Operadores de Comparación Crea un programa que le solicite al usuario dos números enteros y los compare utilizando los operadores de comparación. Imprime en la pantalla un mensaje que indique cuál de los dos números es mayor o si son iguales.\n"
   ]
  },
  {
   "cell_type": "code",
   "execution_count": null,
   "id": "7c525353",
   "metadata": {},
   "outputs": [],
   "source": []
  },
  {
   "cell_type": "markdown",
   "id": "cac87710",
   "metadata": {},
   "source": [
    "Ejercicio 3: Listas Crea un programa que le solicite al usuario cinco nombres y los almacene en una lista. Luego, imprime en la pantalla el segundo y el cuarto nombre ingresado."
   ]
  },
  {
   "cell_type": "code",
   "execution_count": null,
   "id": "0ccfa16b",
   "metadata": {},
   "outputs": [],
   "source": []
  },
  {
   "cell_type": "markdown",
   "id": "88e71d2f",
   "metadata": {},
   "source": [
    "Ejercicio 4: Tuplas Crea un programa que le solicite al usuario su fecha de nacimiento en formato día, mes y año. Luego, almacena estos datos en una tupla y imprime en la pantalla la tupla completa."
   ]
  },
  {
   "cell_type": "code",
   "execution_count": null,
   "id": "1f2940f5",
   "metadata": {},
   "outputs": [],
   "source": []
  },
  {
   "cell_type": "markdown",
   "id": "ae857d01",
   "metadata": {},
   "source": [
    "Ejercicio 5: Diccionarios Crea un programa que le solicite al usuario su nombre, edad y país de origen. Luego, almacena estos datos en un diccionario y imprime en la pantalla el diccionario completo."
   ]
  },
  {
   "cell_type": "code",
   "execution_count": null,
   "id": "8061d06a",
   "metadata": {},
   "outputs": [],
   "source": []
  },
  {
   "cell_type": "markdown",
   "id": "792cbec7",
   "metadata": {},
   "source": [
    "Ejercicio 6: Sentencia If, Elif, Else Crea un programa que le solicite al usuario su edad y le indique en qué categoría se encuentra según la siguiente tabla:\n",
    "Menores de 18 años: \"Eres menor de edad\"\n",
    "De 18 a 65 años: \"Eres adulto\"\n",
    "Mayores de 65 años: \"Eres adulto mayor\"\n"
   ]
  },
  {
   "cell_type": "code",
   "execution_count": null,
   "id": "e6cbae04",
   "metadata": {},
   "outputs": [],
   "source": []
  },
  {
   "cell_type": "markdown",
   "id": "6e2e883a",
   "metadata": {},
   "source": [
    "Ejercicio 7: Escribe un programa que solicite al usuario un número entero positivo y luego utilice una estructura de control while para imprimir todos los números impares desde 1 hasta el número ingresado."
   ]
  },
  {
   "cell_type": "code",
   "execution_count": null,
   "id": "7fedc6cf",
   "metadata": {},
   "outputs": [],
   "source": []
  },
  {
   "cell_type": "markdown",
   "id": "c2607d93",
   "metadata": {},
   "source": [
    "Ejercicio 8: Escribe un programa que solicite al usuario un número entero positivo y luego utilice una estructura de control for para calcular la suma de todos los números desde 1 hasta el número ingresado."
   ]
  },
  {
   "cell_type": "code",
   "execution_count": null,
   "id": "321a2b1e",
   "metadata": {},
   "outputs": [],
   "source": []
  }
 ],
 "metadata": {
  "kernelspec": {
   "display_name": "Python 3 (ipykernel)",
   "language": "python",
   "name": "python3"
  },
  "language_info": {
   "codemirror_mode": {
    "name": "ipython",
    "version": 3
   },
   "file_extension": ".py",
   "mimetype": "text/x-python",
   "name": "python",
   "nbconvert_exporter": "python",
   "pygments_lexer": "ipython3",
   "version": "3.11.2"
  }
 },
 "nbformat": 4,
 "nbformat_minor": 5
}
