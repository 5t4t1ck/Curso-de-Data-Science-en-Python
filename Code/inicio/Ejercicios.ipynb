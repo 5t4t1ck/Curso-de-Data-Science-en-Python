{
 "cells": [
  {
   "cell_type": "markdown",
   "id": "635b8fbd",
   "metadata": {},
   "source": [
    "Ejercicio 1: Variables Crea un programa que le solicite al usuario su nombre, edad y país de origen. Luego, imprime en la pantalla un mensaje personalizado que incluya estos tres datos."
   ]
  },
  {
   "cell_type": "code",
   "execution_count": 3,
   "id": "e2b3c283",
   "metadata": {},
   "outputs": [
    {
     "name": "stdout",
     "output_type": "stream",
     "text": [
      "Por favor ingrese un nombre: Diego\n",
      "Por favor ingrese un edad: 35\n",
      "Por favor ingrese un Pais de Origen: Ecuador\n",
      "Bienvenido Diego su edad es:  35 y su país de origen es:  Ecuador\n"
     ]
    }
   ],
   "source": [
    "nombre = input(\"Por favor ingrese un nombre: \")\n",
    "edad = input(\"Por favor ingrese un edad: \")\n",
    "paisOrigen = input(\"Por favor ingrese un Pais de Origen: \")\n",
    "\n",
    "print(\"Bienvenido\", nombre, \"su edad es: \", edad, \"y su país de origen es: \", paisOrigen)"
   ]
  },
  {
   "cell_type": "markdown",
   "id": "1e76af4f",
   "metadata": {},
   "source": [
    "Ejercicio 2: Operadores de Comparación Crea un programa que le solicite al usuario dos números enteros y los compare utilizando los operadores de comparación. Imprime en la pantalla un mensaje que indique cuál de los dos números es mayor o si son iguales."
   ]
  },
  {
   "cell_type": "code",
   "execution_count": 6,
   "id": "8c34c286",
   "metadata": {},
   "outputs": [
    {
     "name": "stdout",
     "output_type": "stream",
     "text": [
      "Por favor ingrese el primer número: 3\n",
      "Por favor ingrese el segundo número: 3\n",
      "Los numeros son iguales 3\n"
     ]
    }
   ],
   "source": [
    "num1 = int(input(\"Por favor ingrese el primer número: \"))\n",
    "num2 = int(input(\"Por favor ingrese el segundo número: \"))\n",
    "\n",
    "if num1 > num2:\n",
    "    print(\"El mayor es:\", num1)\n",
    "elif num2 > num1:\n",
    "    print(\"El mayor es:\", num2)\n",
    "else:\n",
    "    print(\"Los numeros son iguales\", num1)"
   ]
  },
  {
   "cell_type": "markdown",
   "id": "506d01fc",
   "metadata": {},
   "source": [
    "Ejercicio 3: Listas Crea un programa que le solicite al usuario cinco nombres y los almacene en una lista. Luego, imprime en la pantalla el primero y el ultimo nombre ingresado."
   ]
  },
  {
   "cell_type": "code",
   "execution_count": null,
   "id": "e40aeb94",
   "metadata": {},
   "outputs": [],
   "source": [
    "lista = []\n",
    "for nombre in range(1, 5):\n",
    "    nombre = input(\"Por favor ingrese un nombre: \")\n",
    "    lista.append(nombre)\n",
    "    \n",
    "print(\"El segundo nombre es\", lista[1])\n",
    "print(\"El cuarto nombre es\", lista[3])\n",
    "    "
   ]
  },
  {
   "cell_type": "markdown",
   "id": "8822f02b",
   "metadata": {},
   "source": [
    "La sentencia \"for\" en Python se utiliza para iterar sobre una secuencia de elementos (como una lista, tupla, diccionario, etc.) y ejecutar un bloque de código para cada elemento. La sintaxis general de la sentencia \"for\" es la siguiente:\n",
    "\n",
    "for variable in secuencia:\n",
    "    # código a ejecutar\n",
    "    \n",
    "Donde \"variable\" es la variable que tomará el valor de cada elemento de la secuencia y \"secuencia\" es la secuencia a iterar.\n",
    "\n",
    "Ejemplo:\n",
    "\n",
    "Supongamos que queremos imprimir los números del 1 al 100 utilizando un ciclo \"for\". Podemos hacerlo de la siguiente manera:\n",
    "\n",
    "for i in range(1, 6):\n",
    "    print(i)\n",
    "    \n",
    "En este ejemplo, la función \"range(1, 6)\" genera una secuencia de números que va desde el 1 hasta el 5 (no incluye el 6). Luego, el ciclo \"for\" itera sobre cada uno de estos números y los imprime en la pantalla."
   ]
  },
  {
   "cell_type": "code",
   "execution_count": 10,
   "id": "1eebf527",
   "metadata": {},
   "outputs": [
    {
     "name": "stdout",
     "output_type": "stream",
     "text": [
      "interación 1\n",
      "1\n",
      "interación 2\n",
      "2\n",
      "interación 3\n",
      "3\n",
      "interación 4\n",
      "4\n",
      "interación 5\n",
      "5\n",
      "interación 6\n",
      "6\n",
      "interación 7\n",
      "7\n",
      "interación 8\n",
      "8\n",
      "interación 9\n",
      "9\n",
      "interación 10\n",
      "10\n",
      "interación 11\n",
      "11\n",
      "interación 12\n",
      "12\n",
      "interación 13\n",
      "13\n",
      "interación 14\n",
      "14\n",
      "interación 15\n",
      "15\n",
      "interación 16\n",
      "16\n",
      "interación 17\n",
      "17\n",
      "interación 18\n",
      "18\n",
      "interación 19\n",
      "19\n",
      "interación 20\n",
      "20\n",
      "interación 21\n",
      "21\n",
      "interación 22\n",
      "22\n",
      "interación 23\n",
      "23\n",
      "interación 24\n",
      "24\n",
      "interación 25\n",
      "25\n",
      "interación 26\n",
      "26\n",
      "interación 27\n",
      "27\n",
      "interación 28\n",
      "28\n",
      "interación 29\n",
      "29\n",
      "interación 30\n",
      "30\n",
      "interación 31\n",
      "31\n",
      "interación 32\n",
      "32\n",
      "interación 33\n",
      "33\n",
      "interación 34\n",
      "34\n",
      "interación 35\n",
      "35\n",
      "interación 36\n",
      "36\n",
      "interación 37\n",
      "37\n",
      "interación 38\n",
      "38\n",
      "interación 39\n",
      "39\n",
      "interación 40\n",
      "40\n",
      "interación 41\n",
      "41\n",
      "interación 42\n",
      "42\n",
      "interación 43\n",
      "43\n",
      "interación 44\n",
      "44\n",
      "interación 45\n",
      "45\n",
      "interación 46\n",
      "46\n",
      "interación 47\n",
      "47\n",
      "interación 48\n",
      "48\n",
      "interación 49\n",
      "49\n",
      "interación 50\n",
      "50\n",
      "interación 51\n",
      "51\n",
      "interación 52\n",
      "52\n",
      "interación 53\n",
      "53\n",
      "interación 54\n",
      "54\n",
      "interación 55\n",
      "55\n",
      "interación 56\n",
      "56\n",
      "interación 57\n",
      "57\n",
      "interación 58\n",
      "58\n",
      "interación 59\n",
      "59\n",
      "interación 60\n",
      "60\n",
      "interación 61\n",
      "61\n",
      "interación 62\n",
      "62\n",
      "interación 63\n",
      "63\n",
      "interación 64\n",
      "64\n",
      "interación 65\n",
      "65\n",
      "interación 66\n",
      "66\n",
      "interación 67\n",
      "67\n",
      "interación 68\n",
      "68\n",
      "interación 69\n",
      "69\n",
      "interación 70\n",
      "70\n",
      "interación 71\n",
      "71\n",
      "interación 72\n",
      "72\n",
      "interación 73\n",
      "73\n",
      "interación 74\n",
      "74\n",
      "interación 75\n",
      "75\n",
      "interación 76\n",
      "76\n",
      "interación 77\n",
      "77\n",
      "interación 78\n",
      "78\n",
      "interación 79\n",
      "79\n",
      "interación 80\n",
      "80\n",
      "interación 81\n",
      "81\n",
      "interación 82\n",
      "82\n",
      "interación 83\n",
      "83\n",
      "interación 84\n",
      "84\n",
      "interación 85\n",
      "85\n",
      "interación 86\n",
      "86\n",
      "interación 87\n",
      "87\n",
      "interación 88\n",
      "88\n",
      "interación 89\n",
      "89\n",
      "interación 90\n",
      "90\n",
      "interación 91\n",
      "91\n",
      "interación 92\n",
      "92\n",
      "interación 93\n",
      "93\n",
      "interación 94\n",
      "94\n",
      "interación 95\n",
      "95\n",
      "interación 96\n",
      "96\n",
      "interación 97\n",
      "97\n",
      "interación 98\n",
      "98\n",
      "interación 99\n",
      "99\n",
      "interación 100\n",
      "100\n"
     ]
    }
   ],
   "source": [
    "for i in range(1, 101):\n",
    "    print(\"interación\", i)    \n",
    "    print(i)\n"
   ]
  },
  {
   "cell_type": "markdown",
   "id": "0c76b81b",
   "metadata": {},
   "source": [
    "Ejercicio 4: Tuplas Crea un programa que le solicite al usuario su fecha de nacimiento en formato día, mes y año. Luego, almacena estos datos en una tupla e imprime en la pantalla la tupla completa."
   ]
  },
  {
   "cell_type": "code",
   "execution_count": 2,
   "id": "0b0793de",
   "metadata": {},
   "outputs": [
    {
     "name": "stdout",
     "output_type": "stream",
     "text": [
      "Cual es su día de nacimiento16\n",
      "Cual es su mes de nacimientomarzo\n",
      "Cual es su año de nacimiento1988\n",
      "Su fecha de nacimiento es ('16', 'marzo', '1988')\n"
     ]
    }
   ],
   "source": [
    "dia = input(\"Cual es su día de nacimiento\")\n",
    "mes = input(\"Cual es su mes de nacimiento\")\n",
    "año = input(\"Cual es su año de nacimiento\")\n",
    "\n",
    "fechaNacimiento = (dia, mes, año)\n",
    "print(\"Su fecha de nacimiento es\", fechaNacimiento)"
   ]
  },
  {
   "cell_type": "markdown",
   "id": "9d883070",
   "metadata": {},
   "source": [
    "Ejercicio 5: Diccionarios Crea un programa que le solicite al usuario su nombre, edad y país de origen. Luego, almacena estos datos en un diccionario e imprime en la pantalla el diccionario completo."
   ]
  },
  {
   "cell_type": "code",
   "execution_count": 3,
   "id": "9f09e671",
   "metadata": {},
   "outputs": [
    {
     "name": "stdout",
     "output_type": "stream",
     "text": [
      "Por favor ingrese un nombre: Diego\n",
      "Por favor ingrese un edad: 35\n",
      "Por favor ingrese un Pais de Origen: Ecuador\n",
      "Tus datos personales son: {'Nombre': 'Diego', 'Edad': '35', 'paisOrigen': 'Ecuador'}\n"
     ]
    }
   ],
   "source": [
    "nombre = input(\"Por favor ingrese un nombre: \")\n",
    "edad = input(\"Por favor ingrese un edad: \")\n",
    "paisOrigen = input(\"Por favor ingrese un Pais de Origen: \")\n",
    "\n",
    "datos = {\n",
    "    \"Nombre\": nombre,\n",
    "    \"Edad\": edad,\n",
    "    \"paisOrigen\": paisOrigen\n",
    "}\n",
    "print(\"Tus datos personales son:\", datos)"
   ]
  },
  {
   "cell_type": "markdown",
   "id": "60c3bd6d",
   "metadata": {},
   "source": [
    "Ejercicio 6: Sentencia If, Elif, Else Crea un programa que le solicite al usuario su edad y le indique en qué categoría se encuentra según la siguiente tabla:\n",
    "Menores de 18 años: \"Eres menor de edad\"\n",
    "De 18 a 65 años: \"Eres adulto\"\n",
    "Mayores de 65 años: \"Eres adulto mayor\"\n"
   ]
  },
  {
   "cell_type": "code",
   "execution_count": null,
   "id": "59559826",
   "metadata": {},
   "outputs": [],
   "source": [
    "edad = int(input(\"Cual es tu edad: \"))\n",
    "\n",
    "if edad < 18 and edad > 1:\n",
    "    print(\"Eres menor de edad\")\n",
    "elif edad > 18 and edad < 65:\n",
    "    print(\"Eres adulto\")\n",
    "elif edad > 65:\n",
    "    print(\"Eres adulto mayor\")\n",
    "else:\n",
    "    print(\"La edad está fuera de los rangos de la tabla\")"
   ]
  },
  {
   "cell_type": "markdown",
   "id": "57005810",
   "metadata": {},
   "source": [
    "Crea un programa que le solicite al usuario una nota y le indique en qué categoría se encuentra según la siguiente tabla:\n",
    "Es en un rango entre 9 y 10: \"Excelente\"\n",
    "Es en un rango entre 8 y 9: \"Muy bueno\"\n",
    "Es en un rango entre 7 y 8: \"Bueno\"\n",
    "Si es menor a 7: reprobado\n",
    "Si es mayor a 10: \"Su nota no está dentro de la calificación\"\n"
   ]
  },
  {
   "cell_type": "code",
   "execution_count": null,
   "id": "4c051505",
   "metadata": {},
   "outputs": [],
   "source": [
    "nota = float(input(\"Cual es su nota: \"))\n",
    "\n",
    "if nota > 9 and nota <= 10:\n",
    "    print(\"Excelente\")\n",
    "elif nota > 8 and nota <= 9:\n",
    "    print(\"Muy bueno\")\n",
    "elif nota > 7 and nota <= 8:\n",
    "    print(\"Bueno\")\n",
    "elif nota < 7 and >= 0:\n",
    "    print(\"Reprobado\")\n",
    "else:\n",
    "    print(\"Su nota no está dentro de la calificación\")\n",
    "    "
   ]
  },
  {
   "cell_type": "markdown",
   "id": "bef86e58",
   "metadata": {},
   "source": [
    "Ejercicio 7: Escribe un programa que solicite al usuario un número entero positivo y luego utilice una estructura de control while para imprimir todos los números impares desde 1 hasta el número ingresado.\n",
    "\n",
    "Sintaxis while:\n",
    "\n",
    "num = 1\n",
    "while num <= 10:\n",
    "    print(num)\n",
    "    num += 1"
   ]
  },
  {
   "cell_type": "code",
   "execution_count": 3,
   "id": "4a39f2aa",
   "metadata": {},
   "outputs": [
    {
     "name": "stdout",
     "output_type": "stream",
     "text": [
      "Por favor ingrese un número entero positivo50\n",
      "1\n",
      "3\n",
      "5\n",
      "7\n",
      "9\n",
      "11\n",
      "13\n",
      "15\n",
      "17\n",
      "19\n",
      "21\n",
      "23\n",
      "25\n",
      "27\n",
      "29\n",
      "31\n",
      "33\n",
      "35\n",
      "37\n",
      "39\n",
      "41\n",
      "43\n",
      "45\n",
      "47\n",
      "49\n"
     ]
    }
   ],
   "source": [
    "num = int(input(\"Por favor ingrese un número entero positivo\"))\n",
    "i = 1\n",
    "\n",
    "while i <= num:\n",
    "    if i%2 != 0:\n",
    "        print(i)\n",
    "    i+=1"
   ]
  },
  {
   "cell_type": "markdown",
   "id": "48a097a4",
   "metadata": {},
   "source": [
    "La sentencia while en Python es una estructura de control de flujo que se utiliza para ejecutar un bloque de código repetidamente mientras se cumpla una determinada condición. La sintaxis básica de la sentencia while es la siguiente:\n",
    "\n",
    "while condicion:\n",
    "    # Código a ejecutar mientras se cumpla la condición\n",
    "\n",
    "    \n",
    "Donde \"condicion\" es una expresión que se evalúa como True o False. Mientras la condición sea True, el bloque de código dentro del while se seguirá ejecutando repetidamente. Si en algún momento la condición se evalúa como False, la ejecución del programa continuará con la siguiente línea de código después del bloque while.\n",
    "\n",
    "Ejemplo de uso:\n",
    "\n",
    "num = 1\n",
    "while num <= 10:\n",
    "    print(num)\n",
    "    num += 1\n",
    "\n",
    "En este ejemplo, se utiliza un while para imprimir los números del 1 al 10. La condición es que el valor de la variable \"num\" sea menor o igual a 10. Mientras esta condición sea True, se seguirá ejecutando el bloque de código dentro del while, que en este caso es imprimir el valor de \"num\" y luego sumarle 1. El resultado final es la impresión de los números del 1 al 10."
   ]
  },
  {
   "cell_type": "markdown",
   "id": "ed2643ee",
   "metadata": {},
   "source": [
    "Ejercicio 8: Escribe un programa que solicite al usuario un número entero positivo y luego utilice una estructura de control for para calcular la suma de todos los números desde 1 hasta el número ingresado."
   ]
  },
  {
   "cell_type": "code",
   "execution_count": null,
   "id": "ff0efd57",
   "metadata": {},
   "outputs": [],
   "source": [
    "num = 1\n",
    "while num <= 10:\n",
    "    print(num)\n",
    "    num += 1"
   ]
  },
  {
   "cell_type": "code",
   "execution_count": null,
   "id": "ab1bc5e9",
   "metadata": {},
   "outputs": [],
   "source": []
  }
 ],
 "metadata": {
  "kernelspec": {
   "display_name": "Python 3 (ipykernel)",
   "language": "python",
   "name": "python3"
  },
  "language_info": {
   "codemirror_mode": {
    "name": "ipython",
    "version": 3
   },
   "file_extension": ".py",
   "mimetype": "text/x-python",
   "name": "python",
   "nbconvert_exporter": "python",
   "pygments_lexer": "ipython3",
   "version": "3.11.2"
  }
 },
 "nbformat": 4,
 "nbformat_minor": 5
}
