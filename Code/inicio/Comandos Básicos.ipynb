{
 "cells": [
  {
   "cell_type": "markdown",
   "id": "4027f77e",
   "metadata": {},
   "source": [
    "Esto es un Ejemplo de un texto"
   ]
  },
  {
   "cell_type": "code",
   "execution_count": 5,
   "id": "d96e0b94",
   "metadata": {},
   "outputs": [
    {
     "data": {
      "text/plain": [
       "4"
      ]
     },
     "execution_count": 5,
     "metadata": {},
     "output_type": "execute_result"
    }
   ],
   "source": [
    "\n",
    "2+2 # Esto es un comentario de media línea\n",
    "\n"
   ]
  },
  {
   "cell_type": "markdown",
   "id": "488ed502",
   "metadata": {},
   "source": [
    "\"\"\"\n",
    "Esto es \n",
    "un comentario\n",
    "de más de una línea\n",
    "\"\"\""
   ]
  },
  {
   "cell_type": "code",
   "execution_count": 7,
   "id": "f4f5f087",
   "metadata": {},
   "outputs": [
    {
     "ename": "SyntaxError",
     "evalue": "invalid decimal literal (724080329.py, line 1)",
     "output_type": "error",
     "traceback": [
      "\u001b[0;36m  Cell \u001b[0;32mIn[7], line 1\u001b[0;36m\u001b[0m\n\u001b[0;31m    2esprimero = \"Hola\"\u001b[0m\n\u001b[0m    ^\u001b[0m\n\u001b[0;31mSyntaxError\u001b[0m\u001b[0;31m:\u001b[0m invalid decimal literal\n"
     ]
    }
   ],
   "source": [
    "2esprimero = \"Hola\""
   ]
  },
  {
   "cell_type": "code",
   "execution_count": 9,
   "id": "81f3bc31",
   "metadata": {},
   "outputs": [
    {
     "data": {
      "text/plain": [
       "['False',\n",
       " 'None',\n",
       " 'True',\n",
       " 'and',\n",
       " 'as',\n",
       " 'assert',\n",
       " 'async',\n",
       " 'await',\n",
       " 'break',\n",
       " 'class',\n",
       " 'continue',\n",
       " 'def',\n",
       " 'del',\n",
       " 'elif',\n",
       " 'else',\n",
       " 'except',\n",
       " 'finally',\n",
       " 'for',\n",
       " 'from',\n",
       " 'global',\n",
       " 'if',\n",
       " 'import',\n",
       " 'in',\n",
       " 'is',\n",
       " 'lambda',\n",
       " 'nonlocal',\n",
       " 'not',\n",
       " 'or',\n",
       " 'pass',\n",
       " 'raise',\n",
       " 'return',\n",
       " 'try',\n",
       " 'while',\n",
       " 'with',\n",
       " 'yield']"
      ]
     },
     "execution_count": 9,
     "metadata": {},
     "output_type": "execute_result"
    }
   ],
   "source": [
    "from keyword import iskeyword, kwlist\n",
    "kwlist"
   ]
  },
  {
   "cell_type": "code",
   "execution_count": 11,
   "id": "8b6c70db",
   "metadata": {},
   "outputs": [
    {
     "ename": "SyntaxError",
     "evalue": "invalid syntax (3140676214.py, line 1)",
     "output_type": "error",
     "traceback": [
      "\u001b[0;36m  Cell \u001b[0;32mIn[11], line 1\u001b[0;36m\u001b[0m\n\u001b[0;31m    or = \"Hola\"\u001b[0m\n\u001b[0m    ^\u001b[0m\n\u001b[0;31mSyntaxError\u001b[0m\u001b[0;31m:\u001b[0m invalid syntax\n"
     ]
    }
   ],
   "source": [
    "or = \"Hola\""
   ]
  },
  {
   "cell_type": "code",
   "execution_count": 22,
   "id": "d4360ce9",
   "metadata": {},
   "outputs": [
    {
     "data": {
      "text/plain": [
       "str"
      ]
     },
     "execution_count": 22,
     "metadata": {},
     "output_type": "execute_result"
    }
   ],
   "source": [
    "nombre_Completo = \"Diego Saavedra\"\n",
    "type(nombre_Completo)"
   ]
  },
  {
   "cell_type": "code",
   "execution_count": 23,
   "id": "4e70387f",
   "metadata": {},
   "outputs": [
    {
     "data": {
      "text/plain": [
       "3"
      ]
     },
     "execution_count": 23,
     "metadata": {},
     "output_type": "execute_result"
    }
   ],
   "source": [
    "_name = \"Diego\"\n",
    "\n",
    "num1 = 1\n",
    "num2 = 2\n",
    "rta = num1 + num2\n",
    "rta"
   ]
  },
  {
   "cell_type": "code",
   "execution_count": 26,
   "id": "bb51452d",
   "metadata": {},
   "outputs": [
    {
     "name": "stdout",
     "output_type": "stream",
     "text": [
      "Diego Saavedra +593992018216\n",
      "20 20 20\n"
     ]
    }
   ],
   "source": [
    "nombre, apellido, teléfono = \"Diego\", \"Saavedra\", \"+593992018216\"\n",
    "print(nombre, apellido, teléfono)\n",
    "\n",
    "valorInicial = valorMedio = valorFinal = 20\n",
    "print(valorInicial, valorMedio, valorFinal)"
   ]
  },
  {
   "cell_type": "code",
   "execution_count": 30,
   "id": "289315c0",
   "metadata": {},
   "outputs": [
    {
     "name": "stdout",
     "output_type": "stream",
     "text": [
      "Bienvenidosal curso de Python en Abacom\n",
      "Bienvenidos al curso de Python en Abacom\n",
      "Bienvenidos al curso de Python en Abacom\n"
     ]
    }
   ],
   "source": [
    "inicio = \"Bienvenidos\"\n",
    "final = \"al curso de Python en Abacom\"\n",
    "\n",
    "print(inicio + final) #No se recomienda\n",
    "print(inicio + \" \" + final) #Se recomienda\n",
    "print(inicio, final) #Se recomienda"
   ]
  },
  {
   "cell_type": "code",
   "execution_count": 33,
   "id": "a3542671",
   "metadata": {},
   "outputs": [
    {
     "name": "stdout",
     "output_type": "stream",
     "text": [
      "Diego Saavedra\n"
     ]
    }
   ],
   "source": [
    "nombre = \"Diego\"\n",
    "apellido = 'Saavedra'\n",
    "print(nombre, apellido)"
   ]
  },
  {
   "cell_type": "code",
   "execution_count": 35,
   "id": "ae886e97",
   "metadata": {},
   "outputs": [],
   "source": [
    "#`Esto es un string` esto no se utiliza"
   ]
  },
  {
   "cell_type": "code",
   "execution_count": 37,
   "id": "9e3fac87",
   "metadata": {},
   "outputs": [
    {
     "name": "stdout",
     "output_type": "stream",
     "text": [
      "12 25.12 8j\n"
     ]
    }
   ],
   "source": [
    "entero = 12\n",
    "flotante = 25.12\n",
    "complejo = 8j\n",
    "print(entero, flotante, complejo)"
   ]
  },
  {
   "cell_type": "code",
   "execution_count": 38,
   "id": "c30a0154",
   "metadata": {},
   "outputs": [],
   "source": [
    "esDeNoche = True\n",
    "esDeDia = False"
   ]
  },
  {
   "cell_type": "code",
   "execution_count": 40,
   "id": "12c0de4b",
   "metadata": {},
   "outputs": [
    {
     "data": {
      "text/plain": [
       "True"
      ]
     },
     "execution_count": 40,
     "metadata": {},
     "output_type": "execute_result"
    }
   ],
   "source": [
    "5 + 8 > 2+9\n"
   ]
  },
  {
   "cell_type": "code",
   "execution_count": 42,
   "id": "fa5c2aaa",
   "metadata": {},
   "outputs": [
    {
     "name": "stdout",
     "output_type": "stream",
     "text": [
      "12 25.12 8j\n"
     ]
    }
   ],
   "source": [
    "entero = 12\n",
    "flotante = 25.12\n",
    "complejo = 8j\n",
    "print(entero, flotante, complejo)"
   ]
  },
  {
   "cell_type": "markdown",
   "id": "12711aa1",
   "metadata": {},
   "source": [
    "Listas"
   ]
  },
  {
   "cell_type": "code",
   "execution_count": 47,
   "id": "e1a7b2b4",
   "metadata": {},
   "outputs": [
    {
     "name": "stdout",
     "output_type": "stream",
     "text": [
      "<class 'list'>\n",
      "[]\n",
      "['Pedro', 'diego.saavedra@gmail.com', True, 5, 14.9]\n",
      "['Juan', 'Sebastian', [True, 'blue'], 8]\n"
     ]
    }
   ],
   "source": [
    "lista = []\n",
    "print(type(lista))\n",
    "print(lista)\n",
    "lista = [\"Pedro\", \"diego.saavedra@gmail.com\", True, 5, 14.9]\n",
    "print(lista)\n",
    "lista = [\"Juan\", \"Sebastian\", [True, \"blue\"], 8]\n",
    "print(lista)\n"
   ]
  },
  {
   "cell_type": "code",
   "execution_count": 114,
   "id": "f827c0ed",
   "metadata": {},
   "outputs": [
    {
     "name": "stdout",
     "output_type": "stream",
     "text": [
      "['Maria', 'Luis']\n",
      "1\n",
      "Luis\n"
     ]
    }
   ],
   "source": [
    "lista = [\"Maria\", \"Luis\"]\n",
    "print(lista)\n",
    "print(lista.index(\"Luis\")) # Me devuelve la posición\n",
    "print(lista[1]) # Me devuelve el valor"
   ]
  },
  {
   "cell_type": "code",
   "execution_count": 57,
   "id": "621a23b1",
   "metadata": {},
   "outputs": [
    {
     "name": "stdout",
     "output_type": "stream",
     "text": [
      "[]\n",
      "[50]\n",
      "[50, 100]\n",
      "[50, 100]\n",
      "[50, 100]\n",
      "[]\n",
      "[] [50, 100]\n",
      "3\n",
      "7\n"
     ]
    }
   ],
   "source": [
    "lista = []\n",
    "print(lista) #Lista vacía.\n",
    "lista.append(50)\n",
    "print(lista) #Lista con datos.\n",
    "lista.append(100)\n",
    "print(lista)\n",
    "lista1 =[]\n",
    "lista1 = lista.copy()\n",
    "print(lista)\n",
    "print(lista1)\n",
    "lista.clear()\n",
    "print(lista) #Lista vacía\n",
    "print(lista, lista1)\n",
    "\n",
    "lista_vocales = [\"a\",\"e\",\"e\",\"i\",\"o\",\"u\", \"e\"]\n",
    "print(lista_vocales.count(\"e\"))\n",
    "print(len(lista_vocales))"
   ]
  },
  {
   "cell_type": "code",
   "execution_count": 60,
   "id": "684216cc",
   "metadata": {},
   "outputs": [
    {
     "name": "stdout",
     "output_type": "stream",
     "text": [
      "Indice 0 = 1\n",
      "Indice 1 = 2\n",
      "Indice 2 = 3\n"
     ]
    }
   ],
   "source": [
    "lista = [1, 2, 3]\n",
    "print(\"Indice 0 =\", lista[0])\n",
    "print(\"Indice 1 =\", lista[1])\n",
    "print(\"Indice 2 =\", lista[2])\n",
    "#print(\"Indice 2 =\", lista[3]) este elemento de la lista no existe"
   ]
  },
  {
   "cell_type": "code",
   "execution_count": 62,
   "id": "d9645fe3",
   "metadata": {},
   "outputs": [
    {
     "name": "stdout",
     "output_type": "stream",
     "text": [
      "['manzana', 'pera', 'banana']\n",
      "['manzana', 'pera']\n"
     ]
    }
   ],
   "source": [
    "lista = [\"manzana\",\"pera\",\"banana\"]\n",
    "print(lista)\n",
    "lista.pop()\n",
    "print(lista)"
   ]
  },
  {
   "cell_type": "code",
   "execution_count": 71,
   "id": "7fe90ec8",
   "metadata": {},
   "outputs": [
    {
     "name": "stdout",
     "output_type": "stream",
     "text": [
      "['Juan', 'Pedro', 'María', 'Pedro', 'Pedro']\n",
      "{'Pedro', 'María', 'Juan'}\n",
      "['Juan', 'María', 'Pedro', 'Pedro', 'Pedro']\n",
      "['Juan', 'María', 'Pedro', 'Pedro']\n"
     ]
    }
   ],
   "source": [
    "lista = [\"Juan\", \"Pedro\", \"María\", \"Pedro\", \"Pedro\"]\n",
    "print(lista)\n",
    "\n",
    "lista1 = {\"Juan\", \"Pedro\", \"María\", \"Pedro\", \"Pedro\"} #Tipo de dato Set\n",
    "print(lista1)\n",
    "# lista1.append(\"Socorro\")\n",
    "# print(lista1)\n",
    "\n",
    "print(sorted(lista))\n",
    "\n",
    "\n",
    "lista.remove(\"Pedro\")\n",
    "print(lista)\n",
    "\n",
    "# lista.remove(\"Luis\") solo podemos eliminar elementos que se encuentren en una lísta"
   ]
  },
  {
   "cell_type": "code",
   "execution_count": 76,
   "id": "e7582c45",
   "metadata": {},
   "outputs": [
    {
     "name": "stdout",
     "output_type": "stream",
     "text": [
      "[10, 9, 8, 7, 6, 5, 4, 3, 2, 1, 0]\n",
      "[0, 1, 2, 3, 4, 5, 6, 7, 8, 9, 10]\n",
      "['A', 'a']\n"
     ]
    }
   ],
   "source": [
    "lista = [10, 9, 8, 7, 6, 5, 4, 3, 2, 1, 0]\n",
    "print(lista)\n",
    "\n",
    "lista.reverse()\n",
    "print(lista)\n",
    "\n",
    "lista = [\"a\", \"A\"]\n",
    "lista.reverse()\n",
    "print(lista)"
   ]
  },
  {
   "cell_type": "code",
   "execution_count": 82,
   "id": "b6cf4862",
   "metadata": {},
   "outputs": [
    {
     "name": "stdout",
     "output_type": "stream",
     "text": [
      "['q', 'w', 'e', 'r', 't', 'y', 'u', 'i', 'o', 'p', 'ñ', 'l', 'k', 'j', 'h', 'g', 'f', 'd', 's', 'a', 'z', 'x', 'c', 'v', 'b', 'n', 'm']\n",
      "['a', 'b', 'c', 'd', 'e', 'f', 'g', 'h', 'i', 'j', 'k', 'l', 'm', 'n', 'o', 'p', 'q', 'r', 's', 't', 'u', 'v', 'w', 'x', 'y', 'z', 'ñ']\n"
     ]
    }
   ],
   "source": [
    "lista = [\"q\", \"w\",\"e\",\"r\",\"t\",\"y\",\"u\",\"i\",\"o\",\"p\",\"ñ\",\"l\",\"k\",\"j\",\"h\",\"g\",\"f\",\"d\",\"s\",\"a\",\"z\",\"x\",\"c\",\"v\",\"b\",\"n\",\"m\"]\n",
    "print(lista)\n",
    "lista.sort()\n",
    "print(lista)"
   ]
  },
  {
   "cell_type": "markdown",
   "id": "db2cada1",
   "metadata": {},
   "source": [
    "Tuplas\n"
   ]
  },
  {
   "cell_type": "code",
   "execution_count": 87,
   "id": "a06ec33b",
   "metadata": {},
   "outputs": [
    {
     "name": "stdout",
     "output_type": "stream",
     "text": [
      "('Hola mundo', 'esto', 'es', 'una', 'tupla')\n",
      "<class 'tuple'>\n"
     ]
    }
   ],
   "source": [
    "tupla = (\"Hola mundo\", \"esto\", \"es\", \"una\", \"tupla\")\n",
    "print(tupla)\n",
    "print(type(tupla))\n",
    "# tupla.append(\"Diego\") Las túplas no son modificables"
   ]
  },
  {
   "cell_type": "code",
   "execution_count": 92,
   "id": "94533f3a",
   "metadata": {},
   "outputs": [
    {
     "name": "stdout",
     "output_type": "stream",
     "text": [
      "2\n",
      "5\n"
     ]
    }
   ],
   "source": [
    "tupla = (\"a\",\"a\",\"b\",\"c\",\"d\",\"e\")\n",
    "print(tupla.count(\"a\"))\n",
    "print(tupla.index(\"e\"))"
   ]
  },
  {
   "cell_type": "code",
   "execution_count": 98,
   "id": "abe7cb3f",
   "metadata": {},
   "outputs": [
    {
     "name": "stdout",
     "output_type": "stream",
     "text": [
      "Diego\n"
     ]
    }
   ],
   "source": [
    "lista = (1, 2, 3, 4, 5, \"Diego\")\n",
    "print(lista[5])"
   ]
  },
  {
   "cell_type": "code",
   "execution_count": 101,
   "id": "00bba673",
   "metadata": {},
   "outputs": [
    {
     "name": "stdout",
     "output_type": "stream",
     "text": [
      "('a', 'a', 'b', 'c', 'd', 'e')\n",
      "['a', 'a', 'b', 'c', 'd', 'e']\n",
      "['a', 'a', 'b', 'c', 'd', 'e', 'f']\n",
      "['a', 'a', 'b', 'c', 'd', 'e']\n"
     ]
    }
   ],
   "source": [
    "tupla = (\"a\",\"a\",\"b\",\"c\",\"d\",\"e\")\n",
    "print(tupla)\n",
    "\n",
    "lista = list(tupla)\n",
    "print(lista)\n",
    "\n",
    "lista.append(\"f\")\n",
    "print(lista)\n",
    "\n",
    "lista.remove(\"f\")\n",
    "print(lista)"
   ]
  },
  {
   "cell_type": "markdown",
   "id": "650baddb",
   "metadata": {},
   "source": [
    "Range"
   ]
  },
  {
   "cell_type": "code",
   "execution_count": 104,
   "id": "ee84c501",
   "metadata": {},
   "outputs": [
    {
     "name": "stdout",
     "output_type": "stream",
     "text": [
      "range(1, 100)\n"
     ]
    }
   ],
   "source": [
    "rango = range(1, 100)\n",
    "print(rango)"
   ]
  },
  {
   "cell_type": "markdown",
   "id": "949aab2c",
   "metadata": {},
   "source": [
    "Diccionarios\n"
   ]
  },
  {
   "cell_type": "code",
   "execution_count": 115,
   "id": "8ad2c8f2",
   "metadata": {},
   "outputs": [
    {
     "name": "stdout",
     "output_type": "stream",
     "text": [
      "{'nombre': 'Juan', 'trabajo': 'electricista', 'edad': 35}\n",
      "<class 'dict'>\n",
      "electricista\n",
      "35\n"
     ]
    }
   ],
   "source": [
    "diccionario = {\n",
    "    \"nombre\":\"Juan\",\n",
    "    \"trabajo\":\"electricista\",\n",
    "    \"edad\":35\n",
    "}\n",
    "print(diccionario)\n",
    "print(type(diccionario))\n",
    "\n",
    "#Acceder a un valor\n",
    "\n",
    "print(diccionario[\"trabajo\"])\n",
    "print(diccionario[\"edad\"])"
   ]
  },
  {
   "cell_type": "code",
   "execution_count": 135,
   "id": "0be2970b",
   "metadata": {},
   "outputs": [
    {
     "name": "stdout",
     "output_type": "stream",
     "text": [
      "Juan\n",
      "35\n",
      "{'nombre': 'Juan', 'trabajo': 'Programador', 'edad': 35, 'correo': 'usuario1@empresa.com'}\n",
      "{'nombre': 'Juan', 'trabajo': 'Programador', 'edad': 20, 'correo': 'usuario1@empresa.com'}\n",
      "4\n",
      "{'nombre': 'Juan', 'trabajo': 'Programador', 'edad': 20, 'correo': 'usuario1@empresa.com'}\n",
      "{'nombre': 'Juan', 'trabajo': 'Programador', 'edad': 20, 'correo': 'usuario1@empresa.com', 'sexo': 'Masculino'}\n"
     ]
    }
   ],
   "source": [
    "diccionario = { \n",
    "    \"nombre\":\"Juan\",\n",
    "    \"trabajo\":\"electricista\",\n",
    "    \"edad\":35,\n",
    "    \"correo\": \"usuario1@empresa.com\"\n",
    "  }\n",
    "  \n",
    "print(diccionario.get(\"nombre\"))\n",
    "print(diccionario.get(\"edad\"))\n",
    "diccionario[\"trabajo\"] = \"Programador\"\n",
    "print(diccionario)\n",
    "diccionario[\"trabajo\"]\n",
    "diccionario[\"edad\"] = 20\n",
    "diccionario[\"edad\"]\n",
    "print(diccionario)\n",
    "print(len(diccionario))\n",
    "print(diccionario)\n",
    "diccionario[\"sexo\"]= \"Masculino\"\n",
    "print(diccionario)"
   ]
  },
  {
   "cell_type": "code",
   "execution_count": 136,
   "id": "c47b3c19",
   "metadata": {},
   "outputs": [
    {
     "name": "stdout",
     "output_type": "stream",
     "text": [
      "{'nombre': 'Juan', 'trabajo': 'Programador', 'edad': 20, 'correo': 'usuario1@empresa.com'}\n"
     ]
    }
   ],
   "source": [
    "diccionario.pop(\"sexo\")\n",
    "print(diccionario)\n",
    "\n",
    "#diccionario.pop(\"edad\") no me sirve para un elemento que no se encuentre en la última posición"
   ]
  },
  {
   "cell_type": "code",
   "execution_count": 137,
   "id": "f6a9ba8c",
   "metadata": {},
   "outputs": [
    {
     "name": "stdout",
     "output_type": "stream",
     "text": [
      "{'nombre': 'Juan', 'trabajo': 'Programador', 'edad': 20, 'correo': 'usuario1@empresa.com'}\n",
      "{'nombre': 'Juan', 'trabajo': 'Programador', 'edad': 20}\n"
     ]
    }
   ],
   "source": [
    "print(diccionario)\n",
    "diccionario.popitem() #Elimina el últmo valor que se agregó al diccinario.\n",
    "print(diccionario)\n"
   ]
  },
  {
   "cell_type": "code",
   "execution_count": 143,
   "id": "7ace2c4d",
   "metadata": {},
   "outputs": [
    {
     "name": "stdout",
     "output_type": "stream",
     "text": [
      "{'nombre': 'Juan', 'trabajo': 'electricista', 'edad': '35', 'sexo': 'Masculino'}\n"
     ]
    }
   ],
   "source": [
    "diccionario = { \n",
    "    \"nombre\":\"Juan\",\n",
    "    \"trabajo\":\"electricista\",\n",
    "    \"edad\":\"35\",\n",
    "    \"sexo\": \"Masculino\"\n",
    "  }\n",
    "copiaDiccionario = diccionario.copy()\n",
    "print(copiaDiccionario)\n"
   ]
  },
  {
   "cell_type": "code",
   "execution_count": 144,
   "id": "8c7bf816",
   "metadata": {},
   "outputs": [
    {
     "name": "stdout",
     "output_type": "stream",
     "text": [
      "{'nombre': 'Juan', 'trabajo': 'electricista', 'edad': '35', 'sexo': 'Masculino'} {'nombre': 'Juan', 'trabajo': 'electricista', 'sexo': 'Masculino'}\n"
     ]
    }
   ],
   "source": [
    "del diccionario[\"edad\"]\n",
    "print(copiaDiccionario, diccionario)"
   ]
  },
  {
   "cell_type": "code",
   "execution_count": 145,
   "id": "a468902f",
   "metadata": {},
   "outputs": [
    {
     "name": "stdout",
     "output_type": "stream",
     "text": [
      "{'nombre': 'Juan', 'trabajo': 'electricista', 'edad': '35', 'sexo': 'Masculino'} {}\n"
     ]
    }
   ],
   "source": [
    "diccionario.clear()\n",
    "print(copiaDiccionario, diccionario)"
   ]
  },
  {
   "cell_type": "code",
   "execution_count": 146,
   "id": "401cd09e",
   "metadata": {},
   "outputs": [
    {
     "name": "stdout",
     "output_type": "stream",
     "text": [
      "{'nombre': 'Juan', 'trabajo': 'electricista', 'edad': '35', 'sexo': 'Masculino'}\n"
     ]
    }
   ],
   "source": [
    "diccionario = dict(copiaDiccionario)\n",
    "print(diccionario)"
   ]
  }
 ],
 "metadata": {
  "kernelspec": {
   "display_name": "Python 3 (ipykernel)",
   "language": "python",
   "name": "python3"
  },
  "language_info": {
   "codemirror_mode": {
    "name": "ipython",
    "version": 3
   },
   "file_extension": ".py",
   "mimetype": "text/x-python",
   "name": "python",
   "nbconvert_exporter": "python",
   "pygments_lexer": "ipython3",
   "version": "3.11.2"
  }
 },
 "nbformat": 4,
 "nbformat_minor": 5
}
